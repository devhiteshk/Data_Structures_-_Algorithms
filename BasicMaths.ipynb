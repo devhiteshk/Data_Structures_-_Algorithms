{
 "cells": [
  {
   "cell_type": "markdown",
   "metadata": {},
   "source": [
    "# Know Basic Maths\n",
    "\n",
    "#### 1. Count Digits"
   ]
  },
  {
   "cell_type": "markdown",
   "metadata": {},
   "source": [
    "```py\n",
    "Example 1:\n",
    "Input: N = 12345\n",
    "Output: 5\n",
    "Explanation: N has 5 digits\n",
    "\n",
    "Example 2:\n",
    "Input: N = 8394\n",
    "Output: 4\n",
    "Explanation: N has 4 digits\n",
    "```"
   ]
  },
  {
   "cell_type": "code",
   "execution_count": 3,
   "metadata": {},
   "outputs": [
    {
     "name": "stdout",
     "output_type": "stream",
     "text": [
      "4\n"
     ]
    }
   ],
   "source": [
    "def countDigits(x):\n",
    "    return len(str(x))\n",
    "    # O(1) TC O(1) SC\n",
    "\n",
    "def countDigits1(x):\n",
    "    count = 0\n",
    "\n",
    "    while(x):\n",
    "        x = x//10\n",
    "        count += 1\n",
    "    return(count)\n",
    "    # O(N) TC O(N) SC\n",
    "\n",
    "n = int(input())\n",
    "print(countDigits(n))"
   ]
  },
  {
   "cell_type": "code",
   "execution_count": 4,
   "metadata": {},
   "outputs": [
    {
     "name": "stdout",
     "output_type": "stream",
     "text": [
      "4\n"
     ]
    }
   ],
   "source": [
    "print(countDigits1(n))"
   ]
  },
  {
   "cell_type": "markdown",
   "metadata": {},
   "source": [
    "#### 2. Reverse a Number\n",
    "\n",
    "```py\n",
    "Example 1:\n",
    "Input: N = 123\n",
    "Output: 321\n",
    "Explanation: The reverse of 123 is 321\n",
    "\n",
    "Example 2:\n",
    "Input: N = 234\n",
    "Output: 432\n",
    "Explanation: The reverse of 234 is 432\n",
    "```"
   ]
  },
  {
   "cell_type": "code",
   "execution_count": 3,
   "metadata": {},
   "outputs": [
    {
     "name": "stdout",
     "output_type": "stream",
     "text": [
      "5361 --> 1635\n"
     ]
    }
   ],
   "source": [
    "def reverse(n):\n",
    "    return int((str(n)[::-1]))\n",
    "    # O(1) TC and O(1)SC\n",
    "\n",
    "n = int(input())\n",
    "print((\"{} --> {}\").format(n,reverse(n)))"
   ]
  },
  {
   "cell_type": "markdown",
   "metadata": {},
   "source": [
    "#### 3. Check Palindrome\n",
    "\n",
    "```py\n",
    "Example 1:\n",
    "Input: N = 123\n",
    "Output: Not Palindrome Number\n",
    "Explanation: 123 read backwards is 321.Since these are two different numbers 123 is not a palindrome.\n",
    "\n",
    "Example 2:\n",
    "Input: N =  121 \n",
    "Output: Palindrome Number\n",
    "Explanation: 121 read backwards as 121.Since these are two same numbers 121 is a palindrome.\n",
    "```\n"
   ]
  },
  {
   "cell_type": "code",
   "execution_count": 8,
   "metadata": {},
   "outputs": [
    {
     "name": "stdout",
     "output_type": "stream",
     "text": [
      "nitin -->  True\n"
     ]
    }
   ],
   "source": [
    "def palindrome(x):\n",
    "    j = len(x)-1\n",
    "    for i in range(len(x)//2):\n",
    "        if x[i] != x[j]:\n",
    "            return False\n",
    "        j -= 1\n",
    "    return True\n",
    "    # O(N/2) TC O(1)SC\n",
    "\n",
    "S = input()\n",
    "print('{} -->  {}'.format(S,palindrome(S)))"
   ]
  },
  {
   "cell_type": "markdown",
   "metadata": {},
   "source": [
    "#### 4. Find GCD"
   ]
  },
  {
   "cell_type": "code",
   "execution_count": 12,
   "metadata": {},
   "outputs": [
    {
     "name": "stdout",
     "output_type": "stream",
     "text": [
      "GDC OF 126 and 24 is: 6\n"
     ]
    }
   ],
   "source": [
    "def GCD(a,b):\n",
    "    if b==0:\n",
    "        return a\n",
    "    return GCD(b, a%b)\n",
    "    # O(logɸmin(a,b))\n",
    "\n",
    "x,y = map(int,input().split())\n",
    "print(\"GDC OF {} and {} is: {}\".format(x,y,GCD(x,y)))"
   ]
  },
  {
   "cell_type": "markdown",
   "metadata": {},
   "source": [
    "#### 5. Check Armstrong Number\n",
    "\n",
    "```py\n",
    "Example 1:\n",
    "Input:153 \n",
    "Output: Yes, it is an Armstrong Number\n",
    "Explanation: 1^3 + 5^3 + 3^3 = 153\n",
    "\n",
    "Input:170 \n",
    "Output: No, it is not an Armstrong Number\n",
    "Explanation: 1^3 + 7^3 + 0^3 != 170\n",
    "```"
   ]
  },
  {
   "cell_type": "code",
   "execution_count": 15,
   "metadata": {},
   "outputs": [
    {
     "name": "stdout",
     "output_type": "stream",
     "text": [
      "is 153 amrstrong? --> True\n"
     ]
    }
   ],
   "source": [
    "def isArmstrong(n):\n",
    "\n",
    "    l = len(str(n))\n",
    "    temp = n\n",
    "    ans = 0\n",
    "\n",
    "    while temp:\n",
    "        digit = temp%10\n",
    "        ans += digit**l\n",
    "        temp = temp//10\n",
    "    \n",
    "    if ans == n:\n",
    "        return True\n",
    "    else:\n",
    "        return False\n",
    "    # O(N) TC & O(1) SC\n",
    "\n",
    "n = int(input())\n",
    "print(\"is {} amrstrong? --> {}\".format(n,isArmstrong(n)))"
   ]
  },
  {
   "cell_type": "markdown",
   "metadata": {},
   "source": [
    "#### 6. Print all Divisors of a given Number\n",
    "\n",
    "```py\n",
    "Example 1:\n",
    "Input: n = 36\n",
    "Output: 1 2 3 4 6 9 12 18 36\n",
    "Explanation: All the divisors of 36 are printed.\n",
    "\n",
    "Example 2:\n",
    "Input: n = 97\n",
    "Output: 1 97\n",
    "Explanation: Since 97 is a prime number, only 1 and 97 are printed.\n",
    "```"
   ]
  },
  {
   "cell_type": "code",
   "execution_count": 26,
   "metadata": {},
   "outputs": [
    {
     "name": "stdout",
     "output_type": "stream",
     "text": [
      "\n",
      "Divisors of 36 are 1 36 2 18 3 12 4 9 \n"
     ]
    }
   ],
   "source": [
    "from math import sqrt\n",
    "\n",
    "def getDivisors(n):\n",
    "    ans = \"\"\n",
    "    for i in range(1, int(sqrt(n))):\n",
    "        if n%i == 0:\n",
    "            ans += str(i) + \" \"\n",
    "            if i != n/i:\n",
    "                ans += str(int(n/i))+ \" \"\n",
    "    print(\"\")\n",
    "    return ans\n",
    "    # O(sqrt(n)) TC & O(1) SC\n",
    "\n",
    "\n",
    "def getDivisorsBF(n):\n",
    "    for i in range(1,n):\n",
    "        if n%i == 0:\n",
    "            print(i, end=\" \")\n",
    "    print(\"\")\n",
    "    # O(N) TC & O(1) SC\n",
    "\n",
    "\n",
    "n = int(input())\n",
    "print(\"Divisors of {} are {}\".format(n,getDivisors(n)))"
   ]
  },
  {
   "cell_type": "markdown",
   "metadata": {},
   "source": [
    "#### 7. Check if a number is prime\n",
    "\n",
    "```py\n",
    "Example 1:\n",
    "Input: N = 3\n",
    "Output: Prime\n",
    "Explanation: 3 is a prime number\n",
    "\n",
    "Example 2:\n",
    "Input: N = 26\n",
    "Output: Non-Prime\n",
    "Explanation: 26 is not prime\n",
    "```"
   ]
  },
  {
   "cell_type": "code",
   "execution_count": 32,
   "metadata": {},
   "outputs": [
    {
     "name": "stdout",
     "output_type": "stream",
     "text": [
      "is 17 Prime? : True\n"
     ]
    }
   ],
   "source": [
    "n = int(input())\n",
    "\n",
    "def checkPrime(n):\n",
    "    for i in range(2, int(sqrt(n))):\n",
    "        if n%i == 0:\n",
    "            return False\n",
    "    return True\n",
    "\n",
    "print(\"is {} Prime? : {}\".format(n, checkPrime(n)))\n",
    "    "
   ]
  }
 ],
 "metadata": {
  "kernelspec": {
   "display_name": "Python 3.10.7 64-bit",
   "language": "python",
   "name": "python3"
  },
  "language_info": {
   "codemirror_mode": {
    "name": "ipython",
    "version": 3
   },
   "file_extension": ".py",
   "mimetype": "text/x-python",
   "name": "python",
   "nbconvert_exporter": "python",
   "pygments_lexer": "ipython3",
   "version": "3.10.7"
  },
  "orig_nbformat": 4,
  "vscode": {
   "interpreter": {
    "hash": "369f2c481f4da34e4445cda3fffd2e751bd1c4d706f27375911949ba6bb62e1c"
   }
  }
 },
 "nbformat": 4,
 "nbformat_minor": 2
}
