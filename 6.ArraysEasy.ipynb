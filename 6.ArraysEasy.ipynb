{
 "cells": [
  {
   "cell_type": "markdown",
   "metadata": {},
   "source": [
    "#### 1. Given an array, we have to find the largest element in the array.\n",
    "```py\n",
    "Example 1:\n",
    "Input: arr[] = {2,5,1,3,0};\n",
    "Output: 5\n",
    "Explanation: 5 is the largest element in the array. \n",
    "\n",
    "Example2: \n",
    "Input: arr[] = {8,10,5,7,9};\n",
    "Output: 10\n",
    "Explanation: 10 is the largest element in the array. \n",
    "```"
   ]
  },
  {
   "cell_type": "code",
   "execution_count": 3,
   "metadata": {},
   "outputs": [
    {
     "name": "stdout",
     "output_type": "stream",
     "text": [
      "[2, 5, 1, 3, 0]\n",
      "5\n",
      " \n",
      "[8, 10, 5, 7, 9]\n",
      "10\n"
     ]
    }
   ],
   "source": [
    "# Naive Approach O(nlog(n))\n",
    "\n",
    "arr = [2,5,1,3,0]\n",
    "\n",
    "print(arr)\n",
    "\n",
    "arr.sort()\n",
    "print(arr[-1])\n",
    "\n",
    "print(\" \")\n",
    "\n",
    "# Optimized O(n) & O(1)\n",
    "\n",
    "arr = [8,10,5,7,9]\n",
    "\n",
    "print(arr)\n",
    "\n",
    "max_ = -float(\"inf\")\n",
    "for i in range(len(arr)):\n",
    "    curr_max = arr[i]\n",
    "    max_ = max(max_, curr_max)\n",
    "\n",
    "print(max_)\n"
   ]
  },
  {
   "cell_type": "markdown",
   "metadata": {},
   "source": [
    "#### 2. Given an array, find the second smallest and second largest element in the array. Print ‘-1’ in the event that either of them doesn’t exist.\n",
    "```py\n",
    "Example 1:\n",
    "Input: [1,2,4,7,7,5]\n",
    "Output: Second Smallest : 2\n",
    "\tSecond Largest : 5\n",
    "Explanation: The elements are as follows 1,2,3,5,7,7 and hence second largest of these is 5 and second smallest is 2\n",
    "\n",
    "Example 2:\n",
    "Input: [5]\n",
    "Output: Second Smallest : -1\n",
    "\tSecond Largest : -1\n",
    "Explanation: Since there is only one element in the array, it is the largest and smallest element present in the array. There is no second largest or second smallest element present.\n",
    "```"
   ]
  },
  {
   "cell_type": "code",
   "execution_count": 6,
   "metadata": {},
   "outputs": [
    {
     "name": "stdout",
     "output_type": "stream",
     "text": [
      "[1, 2, 4, 7, 7, 5]\n",
      "second min element: 2\n",
      "second max element: 5\n"
     ]
    }
   ],
   "source": [
    "arr = [1,2,4,7,7,5]\n",
    "\n",
    "max1 = -float('inf')\n",
    "max2 = -float('inf')\n",
    "\n",
    "min1 = float('inf')\n",
    "min2 = float('inf')\n",
    "\n",
    "for i in range(len(arr)):\n",
    "    curr_min = arr[i]\n",
    "    min1 = min(min1, curr_min)\n",
    "\n",
    "    curr_max = arr[i]\n",
    "    max1 = max(max1,curr_max)\n",
    "\n",
    "for i in range(len(arr)):\n",
    "    if arr[i]>min1:\n",
    "        min2 = arr[i]\n",
    "        break\n",
    "\n",
    "for j in range(len(arr)):\n",
    "    if arr[j]<max1:\n",
    "        max2 = arr[j]\n",
    "\n",
    "print(arr)\n",
    "print(\"second min element:\",min2)\n",
    "print(\"second max element:\",max2)\n"
   ]
  },
  {
   "cell_type": "markdown",
   "metadata": {},
   "source": [
    "#### 3. Given an array of size n, write a program to check if the given array is sorted in (ascending / Increasing / Non-decreasing) order or not. If the array is sorted then return True, Else return False.\n",
    "```py\n",
    "Example 1:\n",
    "Input: N = 5, array[] = {1,2,3,4,5}\n",
    "Output: True.\n",
    "Explanation: The given array is sorted i.e Every element in the array is smaller than or equals to its next values, So the answer is True.\n",
    "\n",
    "Example 2:\n",
    "Input: N = 5, array[] = {5,4,6,7,8}\n",
    "Output: False.\n",
    "Explanation: The given array is Not sorted i.e Every element in the array is not smaller than or equal to its next values, So the answer is False.\n",
    "\n",
    "Here element 5 is not smaller than or equal to its future elements.\n",
    "```"
   ]
  },
  {
   "cell_type": "code",
   "execution_count": 9,
   "metadata": {},
   "outputs": [
    {
     "name": "stdout",
     "output_type": "stream",
     "text": [
      "[5, 4, 6, 7, 8]\n",
      "False\n",
      " \n",
      "[1, 2, 3, 4, 5, 6]\n",
      "True\n"
     ]
    }
   ],
   "source": [
    "def checkSorted(arr):\n",
    "    for i in range(1,len(arr)):\n",
    "        if arr[i]<arr[i-1]:\n",
    "            return False\n",
    "    return True\n",
    "\n",
    "arr = [5,4,6,7,8]\n",
    "print(arr)\n",
    "\n",
    "print(checkSorted(arr))\n",
    "\n",
    "print(\" \")\n",
    "\n",
    "arr = [1,2,3,4,5,6]\n",
    "print(arr)\n",
    "\n",
    "print(checkSorted(arr))\n"
   ]
  },
  {
   "cell_type": "markdown",
   "metadata": {},
   "source": [
    "#### 4. Given an integer array sorted in non-decreasing order, remove the duplicates in place such that each unique element appears only once. The relative order of the elements should be kept the same.\n",
    "\n",
    "#### If there are k elements after removing the duplicates, then the first k elements of the array should hold the final result. It does not matter what you leave beyond the first k elements.\n",
    "\n",
    "```py\n",
    "Example 1: \n",
    "\n",
    "Input: arr[1,1,2,2,2,3,3]\n",
    "\n",
    "Output: arr[1,2,3,_,_,_,_]\n",
    "\n",
    "Explanation: Total number of unique elements are 3, i.e[1,2,3] and Therefore return 3 after assigning [1,2,3] in the beginning of the array.\n",
    "\n",
    "Example 2: \n",
    "\n",
    "Input: arr[1,1,1,2,2,3,3,3,3,4,4]\n",
    "\n",
    "Output: arr[1,2,3,4,_,_,_,_,_,_,_]\n",
    "\n",
    "Explanation: Total number of unique elements are 4, i.e[1,2,3,4] and Therefore return 4 after assigning [1,2,3,4] in the beginning of the array.\n",
    "```\n"
   ]
  },
  {
   "cell_type": "code",
   "execution_count": 3,
   "metadata": {},
   "outputs": [
    {
     "name": "stdout",
     "output_type": "stream",
     "text": [
      "[1, 1, 1, 2, 2, 3, 3, 3, 3, 4, 4]\n",
      "unique items are:  [1, 2, 3, 4]\n"
     ]
    }
   ],
   "source": [
    "arr = [1,1,1,2,2,3,3,3,3,4,4]\n",
    "\n",
    "print(arr)\n",
    "\n",
    "j = 1\n",
    "for i in range(1,len(arr)):\n",
    "    if arr[i] != arr[j-1]:\n",
    "        arr[j], arr[i] = arr[i], arr[j]\n",
    "        j += 1\n",
    "\n",
    "print(\"unique items are: \", arr[:j])\n",
    "        "
   ]
  },
  {
   "cell_type": "markdown",
   "metadata": {},
   "source": [
    "#### 5. Given an array of integers, rotating array of elements by k elements either left or right.\n",
    "\n",
    "```py\n",
    "Example 1:\n",
    "Input: N = 7, array[] = {1,2,3,4,5,6,7} , k=2 , right\n",
    "Output: 6 7 1 2 3 4 5\n",
    "Explanation: array is rotated to right by 2 position .\n",
    "\n",
    "Example 2:\n",
    "Input: N = 6, array[] = {3,7,8,9,10,11} , k=3 , left \n",
    "Output: 9 10 11 3 7 8\n",
    "Explanation: Array is rotated to right by 3 position.\n",
    "```"
   ]
  },
  {
   "cell_type": "code",
   "execution_count": 5,
   "metadata": {},
   "outputs": [
    {
     "name": "stdout",
     "output_type": "stream",
     "text": [
      "[1, 2, 3, 4, 5, 6, 7]\n",
      "[5, 6, 7, 1, 2, 3, 4]\n"
     ]
    }
   ],
   "source": [
    "arr = [1,2,3,4,5,6,7]\n",
    "k = 3\n",
    "\n",
    "n = len(arr)\n",
    "\n",
    "def reverse(arr, start, end_):\n",
    "    while start <= end_:\n",
    "        arr[start], arr[end_] = arr[end_], arr[start]\n",
    "        start += 1\n",
    "        end_ -= 1\n",
    "\n",
    "print(arr)\n",
    "reverse(arr, 0, n - k - 1)\n",
    "reverse(arr, n-k, n-1)\n",
    "reverse(arr, 0, n - 1)\n",
    "\n",
    "print(arr)"
   ]
  },
  {
   "cell_type": "markdown",
   "metadata": {},
   "source": [
    "#### 6. You are given an array of integers, your task is to move all the zeros in the array to the end of the array and move non-negative integers to the front by maintaining their order.\n",
    "\n",
    "```py\n",
    "Example 1:\n",
    "Input: 1 ,0 ,2 ,3 ,0 ,4 ,0 ,1\n",
    "Output: 1 ,2 ,3 ,4 ,1 ,0 ,0 ,0\n",
    "Explanation: All the zeros are moved to the end and non-negative integers are moved to front by maintaining order\n",
    "\n",
    "Example 2:\n",
    "Input: 1,2,0,1,0,4,0\n",
    "Output: 1,2,1,4,0,0,0\n",
    "Explanation: All the zeros are moved to the end and non-negative integers are moved to front by maintaining order\n",
    "```"
   ]
  },
  {
   "cell_type": "code",
   "execution_count": 35,
   "metadata": {},
   "outputs": [
    {
     "name": "stdout",
     "output_type": "stream",
     "text": [
      "[1, 0, 2, 3, 0, 4, 0, 1]\n",
      "[1, 2, 3, 4, 1, 0, 0, 0]\n"
     ]
    }
   ],
   "source": [
    "arr = [1,0,2,3,0,4,0,1]\n",
    "\n",
    "print(arr)\n",
    "\n",
    "i = 0\n",
    "j = 0\n",
    "\n",
    "while i<len(arr):\n",
    "    if arr[j] != 0:\n",
    "        j += 1\n",
    "\n",
    "    elif arr[j] == 0 and i>j:\n",
    "        arr[i], arr[j] = arr[j], arr[i]\n",
    "        i += 1\n",
    "\n",
    "    else:\n",
    "        i += 1\n",
    "    \n",
    "\n",
    "print(arr)\n"
   ]
  },
  {
   "cell_type": "markdown",
   "metadata": {},
   "source": [
    "#### 7. Given two sorted arrays, arr1 and arr2 of size n and m. Find the union of two sorted arrays. The union of two arrays can be defined as the common and distinct elements in the two arrays.NOTE: Elements in the union should be in ascending order.\n",
    "\n",
    "```py\n",
    "Example 1:\n",
    "Input:\n",
    "n = 5,m = 5.\n",
    "arr1[] = {1,2,3,4,5}  \n",
    "arr2[] = {2,3,4,4,5}\n",
    "Output:\n",
    " {1,2,3,4,5}\n",
    "\n",
    "Explanation: \n",
    "Common Elements in arr1 and arr2  are:  2,3,4,5\n",
    "Distnict Elements in arr1 are : 1\n",
    "Distnict Elemennts in arr2 are : No distinct elements.\n",
    "Union of arr1 and arr2 is {1,2,3,4,5} \n",
    "\n",
    "Example 2:\n",
    "Input:\n",
    "n = 10,m = 7.\n",
    "arr1[] = {1,2,3,4,5,6,7,8,9,10}\n",
    "arr2[] = {2,3,4,4,5,11,12}\n",
    "Output: {1,2,3,4,5,6,7,8,9,10,11,12}\n",
    "Explanation: \n",
    "Common Elements in arr1 and arr2  are:  2,3,4,5\n",
    "Distnict Elements in arr1 are : 1,6,7,8,9,10\n",
    "Distnict Elemennts in arr2 are : 11,12\n",
    "Union of arr1 and arr2 is {1,2,3,4,5,6,7,8,9,10,11,12} \n",
    "```\n"
   ]
  },
  {
   "cell_type": "code",
   "execution_count": 53,
   "metadata": {},
   "outputs": [
    {
     "name": "stdout",
     "output_type": "stream",
     "text": [
      "[1, 2, 3, 4, 5, 6, 7, 8, 9, 10]\n",
      "[2, 3, 4, 4, 5, 11, 12]\n",
      "[1, 2, 3, 4, 5, 6, 7, 8, 9, 10, 11, 12]\n"
     ]
    }
   ],
   "source": [
    "arr1 = [1,2,3,4,5,6,7,8,9,10]\n",
    "arr2 = [2,3,4,4,5,11,12]\n",
    "\n",
    "print(arr1)\n",
    "print(arr2)\n",
    "\n",
    "ans = []\n",
    "\n",
    "i = 0\n",
    "j = 0\n",
    "\n",
    "ans = set()\n",
    "\n",
    "for i in arr1:\n",
    "    ans.add(i)\n",
    "\n",
    "for j in arr2:\n",
    "    ans.add(j)\n",
    "\n",
    "print(list(ans))"
   ]
  },
  {
   "cell_type": "markdown",
   "metadata": {},
   "source": [
    "#### 8. Find Intersection of two sorted arrays\n",
    "\n",
    "```py\n",
    "Example 1:\n",
    "Input: \n",
    "A: [1 2 3 3 4 5 6]\n",
    "B: [3 3 5]\n",
    "Output: 3,3,5\n",
    "Explanation: We are given two arrays A and B. \n",
    "The elements present in both the arrays  \n",
    "are 3,3 and 5.\n",
    "\n",
    "Example 2:\n",
    "Input: \n",
    "A: [1 2 3 3 4 5 6]\n",
    "B: [3 5]\n",
    "Output: 3,5\n",
    "Explanation: We are given two arrays A and B. \n",
    "The elements present in both the arrays are 3 and 5.\n",
    "```"
   ]
  },
  {
   "cell_type": "code",
   "execution_count": 66,
   "metadata": {},
   "outputs": [
    {
     "name": "stdout",
     "output_type": "stream",
     "text": [
      "[1, 2, 3, 3, 4, 5, 6]\n",
      "[3, 3, 5]\n",
      "Union is:  [3, 3, 5]\n"
     ]
    }
   ],
   "source": [
    "arr1 = [1,2,3,3,4,5,6]\n",
    "arr2 = [3,3,5]\n",
    "\n",
    "print(arr1)\n",
    "print(arr2)\n",
    "\n",
    "i = 0\n",
    "j = 0\n",
    "\n",
    "ans = []\n",
    "while i<len(arr1) and j<len(arr2):\n",
    "    if arr1[i] == arr2[j]:\n",
    "        ans.append(arr1[i])\n",
    "        i += 1\n",
    "        j += 1\n",
    "    \n",
    "    elif arr2[j]<arr1[i]:\n",
    "        j += 1\n",
    "\n",
    "    else:\n",
    "        i += 1\n",
    "\n",
    "print(\"Union is: \",ans)"
   ]
  },
  {
   "cell_type": "markdown",
   "metadata": {},
   "source": [
    "#### 9. Find the repeating and missing number in array:\n",
    "\n",
    "```py\n",
    "Example 1:\n",
    "Input Format:  array[] = {3,1,2,5,3}\n",
    "\n",
    "Result: {3,4)\n",
    "\n",
    "Explanation: A = 3 , B = 4 \n",
    "Since 3 is appearing twice and 4 is missing\n",
    "\n",
    "Example 2:\n",
    "Input Format: array[] = {3,1,2,5,4,6,7,5}\n",
    "\n",
    "Result: {5,8)\n",
    "\n",
    "Explanation: A = 5 , B = 8 \n",
    "Since 5 is appearing twice and 8 is missing\n",
    "```"
   ]
  },
  {
   "cell_type": "code",
   "execution_count": 5,
   "metadata": {},
   "outputs": [
    {
     "name": "stdout",
     "output_type": "stream",
     "text": [
      "missing number is:  8\n",
      "Repeating Number is:  5\n"
     ]
    }
   ],
   "source": [
    "# Naive method using set of hash of elements between 1 to N\n",
    "\n",
    "# Optimised method --> Using Math\n",
    "\n",
    "arr = [3,1,2,5,4,6,7,5]\n",
    "\n",
    "S = len(arr)*(len(arr)+1)/2   # SUM = N*(N+1)/2\n",
    "\n",
    "P = len(arr)*(len(arr)+1)*(2*len(arr) + 1)/6  # SUM OF SQ. = N*(N+1)*(2N+1)/6\n",
    "\n",
    "for i in arr:\n",
    "    S -= i\n",
    "    P -= i*i\n",
    "\n",
    "missing = (S + P/S)/2\n",
    "\n",
    "repeating = missing - S\n",
    "\n",
    "print(\"missing number is: \", int(missing))\n",
    "print(\"Repeating Number is: \", int(repeating))\n"
   ]
  },
  {
   "cell_type": "markdown",
   "metadata": {},
   "source": [
    "#### 10. Given a binary array arr of size N and an integer M. Find the maximum number of consecutive 1's produced by flipping at most M 0's.\n",
    "\n",
    "```py\n",
    "Input:\n",
    "N = 3\n",
    "arr[] = {1, 0, 1}\n",
    "M = 1\n",
    "Output:\n",
    "3\n",
    "Explanation:\n",
    "Maximum subarray is of size 3\n",
    "which can be made subarray of all 1 after\n",
    "flipping two zeros to 1.\n",
    "\n",
    "Input:\n",
    "N = 11\n",
    "arr[] = {1, 0, 0, 1, 1, 0, 1, 0, 1, 1, 1}\n",
    "M = 2\n",
    "Output:\n",
    "8\n",
    "Explanation:\n",
    "Maximum subarray is of size 8\n",
    "which can be made subarray of all 1 after\n",
    "flipping two zeros to 1.\n",
    "```"
   ]
  },
  {
   "cell_type": "code",
   "execution_count": null,
   "metadata": {},
   "outputs": [],
   "source": []
  }
 ],
 "metadata": {
  "kernelspec": {
   "display_name": "Python 3.10.7 64-bit",
   "language": "python",
   "name": "python3"
  },
  "language_info": {
   "codemirror_mode": {
    "name": "ipython",
    "version": 3
   },
   "file_extension": ".py",
   "mimetype": "text/x-python",
   "name": "python",
   "nbconvert_exporter": "python",
   "pygments_lexer": "ipython3",
   "version": "3.10.7"
  },
  "orig_nbformat": 4,
  "vscode": {
   "interpreter": {
    "hash": "369f2c481f4da34e4445cda3fffd2e751bd1c4d706f27375911949ba6bb62e1c"
   }
  }
 },
 "nbformat": 4,
 "nbformat_minor": 2
}
