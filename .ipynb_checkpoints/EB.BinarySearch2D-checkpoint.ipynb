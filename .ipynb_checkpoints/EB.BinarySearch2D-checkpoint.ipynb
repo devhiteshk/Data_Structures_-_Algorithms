{
 "cells": [
  {
   "cell_type": "markdown",
   "id": "0f36a681",
   "metadata": {},
   "source": [
    "#### 1.Given a row wise sorted matrix of size R*C where R and C are always odd, find the median of the matrix.\n",
    "\n",
    "```py\n",
    "Example 1:\n",
    "\n",
    "Input:\n",
    "R = 3, C = 3\n",
    "M = [[1, 3, 5], \n",
    "     [2, 6, 9], \n",
    "     [3, 6, 9]]\n",
    "Output: 5\n",
    "Explanation: Sorting matrix elements gives \n",
    "us {1,2,3,3,5,6,6,9,9}. Hence, 5 is median. \n",
    " \n",
    "\n",
    "Example 2:\n",
    "\n",
    "Input:\n",
    "R = 3, C = 1\n",
    "M = [[1], [2], [3]]\n",
    "Output: 2\n",
    "Explanation: Sorting matrix elements gives \n",
    "us {1,2,3}. Hence, 2 is median.\n",
    "```"
   ]
  },
  {
   "cell_type": "code",
   "execution_count": 9,
   "id": "027c12e2",
   "metadata": {},
   "outputs": [
    {
     "name": "stdout",
     "output_type": "stream",
     "text": [
      "[1, 2, 3]\n",
      "2\n"
     ]
    }
   ],
   "source": [
    "def getMedianBF(arr):\n",
    "    r = len(arr)\n",
    "    c = len(arr[0])\n",
    "    \n",
    "    temp = []\n",
    "    for i in range(r):\n",
    "        for j in range(c):\n",
    "            temp.append(arr[i][j])\n",
    "            \n",
    "    temp.sort()\n",
    "    print(temp)\n",
    "    return temp[r*c//2]\n",
    "    \n",
    "arr = [[1],[2],[3]]\n",
    "print(getMedianBF(arr))"
   ]
  },
  {
   "cell_type": "code",
   "execution_count": 11,
   "id": "94b87e13",
   "metadata": {},
   "outputs": [
    {
     "name": "stdout",
     "output_type": "stream",
     "text": [
      "1 9\n"
     ]
    }
   ],
   "source": [
    "# OPTIMIZED APPROACH\n",
    "\n",
    "# FIND MIN AND MAX\n",
    "# RUN BINARY SEARCH\n",
    "\n",
    "def getMedianOP(arr):\n",
    "    r = len(arr)\n",
    "    c = len(arr[0])\n",
    "    minN = float('inf')\n",
    "    maxN = -float('inf')\n",
    "    desired_count = (1+(N*M)//2)\n",
    "    \n",
    "    for i in range(r):  # get min and max elements in o(n) time\n",
    "        minN = min(minN,arr[i][0])\n",
    "        maxN = max(maxN, arr[i][-1])\n",
    "        \n",
    "    counter = 0\n",
    "    while min < max:\n",
    "        counter = 0\n",
    "        mid = (minN + maxN)//2\n",
    "        \n",
    "        for i in range(r):\n",
    "            \n",
    "        \n",
    "    print(minN, maxN)\n",
    "    \n",
    "\n",
    "M = [[1, 3, 5], \n",
    "     [2, 6, 9], \n",
    "     [3, 6, 9]]\n",
    "getMedianOP(M)"
   ]
  },
  {
   "cell_type": "code",
   "execution_count": null,
   "id": "0f537790",
   "metadata": {},
   "outputs": [],
   "source": []
  }
 ],
 "metadata": {
  "kernelspec": {
   "display_name": "Python 3 (ipykernel)",
   "language": "python",
   "name": "python3"
  },
  "language_info": {
   "codemirror_mode": {
    "name": "ipython",
    "version": 3
   },
   "file_extension": ".py",
   "mimetype": "text/x-python",
   "name": "python",
   "nbconvert_exporter": "python",
   "pygments_lexer": "ipython3",
   "version": "3.9.13"
  }
 },
 "nbformat": 4,
 "nbformat_minor": 5
}
