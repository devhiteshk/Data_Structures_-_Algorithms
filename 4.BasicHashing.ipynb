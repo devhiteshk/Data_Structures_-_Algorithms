{
 "cells": [
  {
   "cell_type": "markdown",
   "metadata": {},
   "source": [
    "## Basic Hashing\n",
    "\n",
    "#### 1.  Find the number of occurrences of each element in the array\n",
    "\n",
    "```py\n",
    "Example 1:\n",
    "Input: arr[] = {10,5,10,15,10,5};\n",
    "Output: 10  3\n",
    "\t 5  2\n",
    "        15  1\n",
    "Explanation: 10 occurs 3 times in the array\n",
    "\t      5 occurs 2 times in the array\n",
    "              15 occurs 1 time in the array\n",
    "\n",
    "Example2: \n",
    "Input: arr[] = {2,2,3,4,4,2};\n",
    "Output: 2  3\n",
    "\t3  1\n",
    "        4  2\n",
    "Explanation: 2 occurs 3 times in the array\n",
    "\t     3 occurs 1 time in the array\n",
    "             4 occurs 2 time in the array\n",
    "```"
   ]
  },
  {
   "cell_type": "code",
   "execution_count": 2,
   "metadata": {},
   "outputs": [
    {
     "name": "stdout",
     "output_type": "stream",
     "text": [
      "[12, 8, 6, 4, 6, 2, 2, 1, 8, 9, 14, 1, 2, 11, 7, 5, 6, 4, 2, 3]\n",
      "12 : 1\n",
      "8 : 2\n",
      "6 : 3\n",
      "4 : 2\n",
      "2 : 4\n",
      "1 : 2\n",
      "9 : 1\n",
      "14 : 1\n",
      "11 : 1\n",
      "7 : 1\n",
      "5 : 1\n",
      "3 : 1\n"
     ]
    }
   ],
   "source": [
    "arr = list(map(int, input().split()))\n",
    "\n",
    "d = {}\n",
    "for i in arr:\n",
    "    if i in d:\n",
    "        d[i] += 1\n",
    "    else:\n",
    "        d[i] = 1\n",
    "\n",
    "print(arr)\n",
    "for k in d:\n",
    "    print(\"{} : {}\".format(k,d[k]))\n",
    "\n"
   ]
  },
  {
   "cell_type": "markdown",
   "metadata": {},
   "source": [
    "#### 2. Find Highest/Lowest frequency element in an array"
   ]
  },
  {
   "cell_type": "code",
   "execution_count": 5,
   "metadata": {},
   "outputs": [
    {
     "name": "stdout",
     "output_type": "stream",
     "text": [
      "[1, 2, 2, 1, 5, 4, 9, 8, 7, 2, 1, 45, 2, 2]\n",
      "2  :  5\n"
     ]
    }
   ],
   "source": [
    "arr = list(map(int, input().split()))\n",
    "\n",
    "d = {}\n",
    "\n",
    "for i in arr:\n",
    "    if i in d:\n",
    "        d[i] += 1\n",
    "    else:\n",
    "        d[i] = 1\n",
    "\n",
    "print(arr)\n",
    "\n",
    "max_k = 0\n",
    "max_v = -999999\n",
    "for k in d:\n",
    "    if d[k] > max_v:\n",
    "        max_v = max(d[k], max_v)\n",
    "        max_k = k\n",
    "\n",
    "print(max_k,\" : \",d[max_k])"
   ]
  }
 ],
 "metadata": {
  "kernelspec": {
   "display_name": "Python 3 (ipykernel)",
   "language": "python",
   "name": "python3"
  },
  "language_info": {
   "codemirror_mode": {
    "name": "ipython",
    "version": 3
   },
   "file_extension": ".py",
   "mimetype": "text/x-python",
   "name": "python",
   "nbconvert_exporter": "python",
   "pygments_lexer": "ipython3",
   "version": "3.10.7"
  },
  "vscode": {
   "interpreter": {
    "hash": "369f2c481f4da34e4445cda3fffd2e751bd1c4d706f27375911949ba6bb62e1c"
   }
  }
 },
 "nbformat": 4,
 "nbformat_minor": 2
}
