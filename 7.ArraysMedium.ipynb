{
 "cells": [
  {
   "cell_type": "markdown",
   "metadata": {},
   "source": [
    "#### 1. Given an array of integers nums[] and an integer target, return indices of the two numbers such that their sum is equal to the target. Note: Assume that there is exactly one solution, and you are not allowed to use the same element twice. \n",
    "\n",
    "```py\n",
    "Example 1:\n",
    "\n",
    "Input: nums = [2,7,11,15], target = 9\n",
    "\n",
    "Output: [0,1]\n",
    "\n",
    "Explanation: Because nums[0] + nums[1] == 9, \n",
    "which is the required target, we return \n",
    "indexes [0,1]. (0-based indexing)\n",
    "\n",
    "Example 2:\n",
    "\n",
    "Input Format: nums = [3,2,4,6], target = 6\n",
    "\n",
    "Output: [1,2]\n",
    "\n",
    "Explanation: Because nums[1] + nums[2] == 6, \n",
    "which is the required target, we return \n",
    "indexes [1,2].\n",
    "```"
   ]
  },
  {
   "cell_type": "code",
   "execution_count": 11,
   "metadata": {},
   "outputs": [
    {
     "name": "stdout",
     "output_type": "stream",
     "text": [
      "[0, 1]\n"
     ]
    }
   ],
   "source": [
    "# TWO SUM PROBLEM APPROACH\n",
    "\n",
    "# BRUTE FORCE\n",
    "\n",
    "def TWOsumBF(arr,t):\n",
    "    for i in range(len(arr)):\n",
    "        for j in range(len(arr)):\n",
    "            if arr[i] + arr[j] == t and j != i:\n",
    "                return [i,j]\n",
    "    \n",
    "    return -1\n",
    "\n",
    "# Optimized 1 -> sorting in another array and then Two pointer\n",
    "def TwoSumOpt(arr,t):\n",
    "    arr2 = sorted(arr)\n",
    "\n",
    "    i = 0\n",
    "    j = len(arr)-1\n",
    "    n1 = None\n",
    "    n2 = None\n",
    "    res = []\n",
    "    \n",
    "    while i<j:\n",
    "        if arr2[i]+arr2[j] == t:\n",
    "            n1 = arr2[i]\n",
    "            n2 = arr2[j]\n",
    "            break\n",
    "\n",
    "        elif arr2[i] + arr2[j]>t:\n",
    "            j -= 1\n",
    "        \n",
    "        else:\n",
    "            i += 1\n",
    "\n",
    "    for i in range(len(arr)):\n",
    "\n",
    "        if arr[i] == n1:\n",
    "            res.append(i)\n",
    "        elif arr[i] == n2:\n",
    "            res.append(j)\n",
    "\n",
    "    return res\n",
    "\n",
    "# 3. Optimized approach 2 sum using Hashing\n",
    "\n",
    "def twosumHash(arr,t):\n",
    "\n",
    "    required = {}\n",
    "    \n",
    "    for i in range(len(nums)):\n",
    "\n",
    "        if t - nums[i] in required:\n",
    "            return [required[t - nums[i]], i]\n",
    "        \n",
    "        else:\n",
    "            required[nums[i]] = i\n",
    "\n",
    "nums = [2,7,11,15]\n",
    "t = 9\n",
    "print(twosumHash(nums,t))"
   ]
  },
  {
   "cell_type": "markdown",
   "metadata": {},
   "source": [
    "### 2. Sort Array containing 0's, 1's and 2's\n",
    "\n",
    "```py\n",
    "Example 1:\n",
    "\n",
    "Input: nums = [2,0,2,1,1,0]\n",
    "Output: [0,0,1,1,2,2]\n",
    "\n",
    "Input: nums = [2,0,1]\n",
    "Output: [0,1,2]\n",
    "\n",
    "Input: nums = [0]\n",
    "Input: nums = [0]\n",
    "```"
   ]
  },
  {
   "cell_type": "code",
   "execution_count": null,
   "metadata": {},
   "outputs": [],
   "source": []
  }
 ],
 "metadata": {
  "kernelspec": {
   "display_name": "Python 3.10.7 64-bit",
   "language": "python",
   "name": "python3"
  },
  "language_info": {
   "codemirror_mode": {
    "name": "ipython",
    "version": 3
   },
   "file_extension": ".py",
   "mimetype": "text/x-python",
   "name": "python",
   "nbconvert_exporter": "python",
   "pygments_lexer": "ipython3",
   "version": "3.10.7"
  },
  "orig_nbformat": 4,
  "vscode": {
   "interpreter": {
    "hash": "369f2c481f4da34e4445cda3fffd2e751bd1c4d706f27375911949ba6bb62e1c"
   }
  }
 },
 "nbformat": 4,
 "nbformat_minor": 2
}
