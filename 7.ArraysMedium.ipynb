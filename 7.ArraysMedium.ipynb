{
 "cells": [
  {
   "cell_type": "markdown",
   "metadata": {},
   "source": [
    "#### 1. Given an array of integers nums[] and an integer target, return indices of the two numbers such that their sum is equal to the target. Note: Assume that there is exactly one solution, and you are not allowed to use the same element twice. \n",
    "\n",
    "```py\n",
    "Example 1:\n",
    "\n",
    "Input: nums = [2,7,11,15], target = 9\n",
    "\n",
    "Output: [0,1]\n",
    "\n",
    "Explanation: Because nums[0] + nums[1] == 9, \n",
    "which is the required target, we return \n",
    "indexes [0,1]. (0-based indexing)\n",
    "\n",
    "Example 2:\n",
    "\n",
    "Input Format: nums = [3,2,4,6], target = 6\n",
    "\n",
    "Output: [1,2]\n",
    "\n",
    "Explanation: Because nums[1] + nums[2] == 6, \n",
    "which is the required target, we return \n",
    "indexes [1,2].\n",
    "```"
   ]
  },
  {
   "cell_type": "code",
   "execution_count": 11,
   "metadata": {},
   "outputs": [
    {
     "name": "stdout",
     "output_type": "stream",
     "text": [
      "[0, 1]\n"
     ]
    }
   ],
   "source": [
    "# TWO SUM PROBLEM APPROACH\n",
    "\n",
    "# BRUTE FORCE\n",
    "\n",
    "def TWOsumBF(arr,t):\n",
    "    for i in range(len(arr)):\n",
    "        for j in range(len(arr)):\n",
    "            if arr[i] + arr[j] == t and j != i:\n",
    "                return [i,j]\n",
    "    \n",
    "    return -1\n",
    "\n",
    "# Optimized 1 -> sorting in another array and then Two pointer\n",
    "def TwoSumOpt(arr,t):\n",
    "    arr2 = sorted(arr)\n",
    "\n",
    "    i = 0\n",
    "    j = len(arr)-1\n",
    "    n1 = None\n",
    "    n2 = None\n",
    "    res = []\n",
    "    \n",
    "    while i<j:\n",
    "        if arr2[i]+arr2[j] == t:\n",
    "            n1 = arr2[i]\n",
    "            n2 = arr2[j]\n",
    "            break\n",
    "\n",
    "        elif arr2[i] + arr2[j]>t:\n",
    "            j -= 1\n",
    "        \n",
    "        else:\n",
    "            i += 1\n",
    "\n",
    "    for i in range(len(arr)):\n",
    "\n",
    "        if arr[i] == n1:\n",
    "            res.append(i)\n",
    "        elif arr[i] == n2:\n",
    "            res.append(j)\n",
    "\n",
    "    return res\n",
    "\n",
    "# 3. Optimized approach 2 sum using Hashing o(n)t.c and o(n)s.c.\n",
    "\n",
    "def twosumHash(arr,t):\n",
    "\n",
    "    required = {}\n",
    "    \n",
    "    for i in range(len(nums)):\n",
    "\n",
    "        if t - nums[i] in required:\n",
    "            return [required[t - nums[i]], i]\n",
    "        \n",
    "        else:\n",
    "            required[nums[i]] = i\n",
    "\n",
    "nums = [2,7,11,15]\n",
    "t = 9\n",
    "print(twosumHash(nums,t))"
   ]
  },
  {
   "cell_type": "markdown",
   "metadata": {},
   "source": [
    "### 2. Sort Array containing 0's, 1's and 2's\n",
    "\n",
    "```py\n",
    "Example 1:\n",
    "\n",
    "Input: nums = [2,0,2,1,1,0]\n",
    "Output: [0,0,1,1,2,2]\n",
    "\n",
    "Input: nums = [2,0,1]\n",
    "Output: [0,1,2]\n",
    "\n",
    "Input: nums = [0]\n",
    "Input: nums = [0]\n",
    "```"
   ]
  },
  {
   "cell_type": "code",
   "execution_count": 4,
   "metadata": {},
   "outputs": [
    {
     "name": "stdout",
     "output_type": "stream",
     "text": [
      "[0, 0, 1, 1, 2, 2]\n"
     ]
    }
   ],
   "source": [
    "# Brute force\n",
    "\n",
    "def bruteForce012(arr):\n",
    "    return sorted(arr)\n",
    "\n",
    "nums = [2,0,2,1,1,0]\n",
    "\n",
    "\n",
    "# Optimized O(n) T.C. O(1)S.C.\n",
    "\n",
    "def optimizedsort012(arr):\n",
    "    zero = 0\n",
    "    one = 0\n",
    "    two = 0\n",
    "\n",
    "    for i in arr:\n",
    "        if i == 0:\n",
    "            zero += 1\n",
    "        \n",
    "        elif i == 1:\n",
    "            one += 1\n",
    "        \n",
    "        else:\n",
    "            two += 1\n",
    "\n",
    "    i = 0\n",
    "    while zero:\n",
    "        arr[i] = 0\n",
    "        i += 1\n",
    "        zero -= 1\n",
    "\n",
    "    while one:\n",
    "        arr[i] = 1\n",
    "        i += 1\n",
    "        one -= 1\n",
    "\n",
    "    while two:\n",
    "        arr[i] = 2\n",
    "        i += 1\n",
    "        two -= 1\n",
    "    \n",
    "    return arr\n",
    "\n",
    "print(optimizedsort012(nums))"
   ]
  },
  {
   "cell_type": "markdown",
   "metadata": {},
   "source": [
    "#### 3. Given an array of N integers, write a program to return an element that occurs more than N/2 times in the given array. You may consider that such an element always exists in the array.\n",
    "\n",
    "```py\n",
    "\n",
    "Example 1:\n",
    "\n",
    "Input Format: N = 3, nums[] = {3,2,3}\n",
    "\n",
    "Result: 3\n",
    "\n",
    "Explanation: When we just count the occurrences of each number and compare with half of the size of the array, you will get 3 for the above solution. \n",
    "\n",
    "Example 2:\n",
    "\n",
    "Input Format:  N = 7, nums[] = {2,2,1,1,1,2,2}\n",
    "\n",
    "Result: 2\n",
    "\n",
    "Explanation: After counting the number of times each element appears and comparing it with half of array size, we get 2 as result.\n",
    "\n",
    "```\n"
   ]
  },
  {
   "cell_type": "code",
   "execution_count": 12,
   "metadata": {},
   "outputs": [
    {
     "name": "stdout",
     "output_type": "stream",
     "text": [
      "2\n"
     ]
    }
   ],
   "source": [
    "# BRUTE FORCE IS TO RUN TWO LOOPS AND CHECK THE ELEMENT THAT OCCOURS MAXIMUM NUMBER OF TIMES\n",
    "\n",
    "# Dictionary method\n",
    "\n",
    "def dictMaxEle(arr):  # O(n) T.C. O(n) S.C.\n",
    "    d = {}\n",
    "    for i in arr:\n",
    "        if i in d:\n",
    "            d[i] += 1\n",
    "        else:\n",
    "            d[i] = 1\n",
    "\n",
    "    for k in d:\n",
    "        if d[k] > len(arr)/2:\n",
    "            return k\n",
    "\n",
    "    return -1\n",
    "\n",
    "# Best approach moore's voting algorithm\n",
    "\n",
    "def majorityElement(arr):\n",
    "    count = 0\n",
    "    candidate = 0\n",
    "\n",
    "    for i in nums:\n",
    "        if count == 0:\n",
    "            candidate = i\n",
    "\n",
    "        if i == candidate:\n",
    "            count += 1\n",
    "\n",
    "        else:\n",
    "            count -= 1\n",
    "  \n",
    "    return candidate\n",
    "\n",
    "\n",
    "nums = [2,2,1,1,1,2,2]\n",
    "print(majorityElement(nums))\n"
   ]
  },
  {
   "cell_type": "markdown",
   "metadata": {},
   "source": [
    "#### 4. KADANES ALGORITHM -> Given an integer array arr, find the contiguous subarray (containing at least one number) which has the largest sum and return its sum and print the subarray.\n",
    "\n",
    "```py\n",
    "\n",
    "Example 1:\n",
    "\n",
    "Input: arr = [-2,1,-3,4,-1,2,1,-5,4] \n",
    "\n",
    "Output: 6 \n",
    "\n",
    "Explanation: [4,-1,2,1] has the largest sum = 6. \n",
    "\n",
    "Examples 2: \n",
    "\n",
    "Input: arr = [1] \n",
    "\n",
    "Output: 1 \n",
    "\n",
    "Explanation: Array has only one element and which is giving positive sum of 1.\n",
    "\n",
    "```"
   ]
  },
  {
   "cell_type": "code",
   "execution_count": 12,
   "metadata": {},
   "outputs": [
    {
     "name": "stdout",
     "output_type": "stream",
     "text": [
      "6\n"
     ]
    }
   ],
   "source": [
    "# BRUTE FORCE O(N^3) T.C. & O(1) S.C. we can also do it in O(N^2)\n",
    "\n",
    "def bruteforcekadane(arr):\n",
    "    max_sum = -float('inf')\n",
    "\n",
    "    for i in range(len(arr)):\n",
    "        for j in range(i,len(arr)):           \n",
    "            curr_sum = 0\n",
    "            for k in range(i,j+1):\n",
    "                curr_sum += arr[k]\n",
    "            max_sum = max(curr_sum, max_sum)\n",
    "        \n",
    "    return max_sum\n",
    "\n",
    "nums = [-2,1,-3,4,-1,2,1,-5,4] \n",
    "print(bruteforcekadane(nums))\n"
   ]
  },
  {
   "cell_type": "code",
   "execution_count": 17,
   "metadata": {},
   "outputs": [
    {
     "name": "stdout",
     "output_type": "stream",
     "text": [
      "maximum sum is:  6\n",
      "subarray is: 4 -1 2 1  \n"
     ]
    }
   ],
   "source": [
    "# Optimized solution using Kadanes's Algorithm\n",
    "\n",
    "def KadanesAlgo(arr):\n",
    "    max_sum = -float('inf')\n",
    "    curr_sum = 0\n",
    "    s = 0\n",
    "    e = 0\n",
    "\n",
    "    for i in range(len(arr)):\n",
    "        curr_sum += arr[i]\n",
    "        \n",
    "        if curr_sum>max_sum:\n",
    "            max_sum = curr_sum\n",
    "            e = i\n",
    "        \n",
    "        if curr_sum<0:\n",
    "            curr_sum = 0\n",
    "            s = i+1\n",
    "\n",
    "    return max_sum,s,e\n",
    "\n",
    "nums = [-2,1,-3,4,-1,2,1,-5,4] \n",
    "m_s, s, e = KadanesAlgo(nums)\n",
    "\n",
    "print(\"maximum sum is: \", m_s)\n",
    "print(\"subarray is: \",end=\"\")\n",
    "for i in range(s,e+1):\n",
    "    print(nums[i], end = \" \")\n",
    "print(\" \")\n"
   ]
  },
  {
   "cell_type": "markdown",
   "metadata": {},
   "source": [
    "#### Subarray with Given Sum. Given an array and a sum k, generate the subarray whose elements sum to k.\n",
    "\n",
    "```py\n",
    "Example 1:\n",
    "Input:\n",
    " arr = {1, 7, 3, 9}, k = 10\n",
    "\n",
    "Output: 7 3\n",
    "Explanation:\n",
    " Of all the subarrays, 7 and 3 sums to 10.\n",
    "\n",
    "Example 2:\n",
    "Input: arr = {2,1,3,4,5,6}, k = 10\n",
    "Output: 2 1 3 4\n",
    "Explanation: Of all the subarrays, 2, 1, 3 and 4 sums to 10\n",
    "```\n"
   ]
  },
  {
   "cell_type": "code",
   "execution_count": 73,
   "metadata": {},
   "outputs": [
    {
     "name": "stdout",
     "output_type": "stream",
     "text": [
      "Subarray with given sum is:  [5, 6]\n",
      "(4, 5)\n"
     ]
    }
   ],
   "source": [
    "# BRUTE FORCE APPROACH IS TO FIND ALL POSSIBLE SUBARRAYS IN O(N^3) T.C.\n",
    "\n",
    "# Optimized approach is by using Sliding Window approach in O(N) T.C. and O(1) S.C.\n",
    "\n",
    "def slidingWindow(arr, t):\n",
    "    left = 0\n",
    "    right = 0\n",
    "    curr_sum = 0\n",
    "\n",
    "    while left < len(arr):\n",
    "\n",
    "        if curr_sum > t:\n",
    "            curr_sum -= arr[left]\n",
    "            left += 1\n",
    "\n",
    "        elif curr_sum < t:\n",
    "            curr_sum += arr[right]\n",
    "            right += 1\n",
    "\n",
    "        else:\n",
    "            print(\"Subarray with given sum is: \", arr[left:right])\n",
    "            return left,right-1\n",
    "\n",
    "        \n",
    "\n",
    "nums = [2,1,3,4,5,6]\n",
    "t = 11\n",
    "print(slidingWindow(nums,t))"
   ]
  },
  {
   "cell_type": "markdown",
   "metadata": {},
   "source": [
    "#### You are given an array of prices where prices[i] is the price of a given stock on an ith day. You want to maximize your profit by choosing a single day to buy one stock and choosing a different day in the future to sell that stock. Return the maximum profit you can achieve from this transaction. If you cannot achieve any profit, return 0.\n",
    "\n",
    "```py\n",
    "Example 1:\n",
    "\n",
    "Input: prices = [7,1,5,3,6,4]\n",
    "Output: 5\n",
    "Explanation: Buy on day 2 (price = 1) and \n",
    "sell on day 5 (price = 6), profit = 6-1 = 5.\n",
    "\n",
    "Note: That buying on day 2 and selling on day 1 \n",
    "is not allowed because you must buy before \n",
    "you sell.\n",
    "\n",
    "Example 2:\n",
    "\n",
    "Input: prices = [7,6,4,3,1]\n",
    "Output: 0\n",
    "Explanation: In this case, no transactions are \n",
    "done and the max profit = 0.\n",
    "```"
   ]
  },
  {
   "cell_type": "code",
   "execution_count": 77,
   "metadata": {},
   "outputs": [
    {
     "name": "stdout",
     "output_type": "stream",
     "text": [
      "5\n"
     ]
    }
   ],
   "source": [
    "# BRUTE FORCE METHOD BY COMPARING EVERY POSSIBLE PROFIT IN STOCKS\n",
    "\n",
    "def StocksBF(arr):\n",
    "    max_profit = -float('inf')\n",
    "    for i in range(len(arr)):\n",
    "        for j in range(i+1, len(arr)):\n",
    "            curr_profit = arr[j] - arr[i]\n",
    "            max_profit = max(max_profit, curr_profit)\n",
    "\n",
    "    return max_profit if max_profit > 0 else 0\n",
    "\n",
    "nums = [7,1,5,3,6,4]\n",
    "print(StocksBF(nums))\n"
   ]
  },
  {
   "cell_type": "code",
   "execution_count": 81,
   "metadata": {},
   "outputs": [
    {
     "name": "stdout",
     "output_type": "stream",
     "text": [
      "5\n"
     ]
    }
   ],
   "source": [
    "# OPTIMIZED SOLUTION\n",
    "\n",
    "def Stocks_max(arr):\n",
    "    \n",
    "    maxPro = 0\n",
    "    minPrice = float('inf')\n",
    "\n",
    "    for i in range(len(arr)):\n",
    "        \n",
    "        if arr[i] < minPrice:\n",
    "            minPrice = arr[i]\n",
    "\n",
    "        maxPro = max(maxPro, arr[i] - minPrice)\n",
    "    \n",
    "    return maxPro\n",
    "\n",
    "nums = [7,1,5,3,6,4]\n",
    "print(Stocks_max(nums))"
   ]
  },
  {
   "cell_type": "markdown",
   "metadata": {},
   "source": [
    "#### Given an unsorted array Arr of N positive and negative numbers. Your task is to create an array of alternate positive and negative numbers without changing the relative order of positive and negative numbers.\n",
    "#### Note: Array should start with a positive number.\n",
    "\n",
    "```py\n",
    "Input: \n",
    "N = 9\n",
    "Arr[] = {9, 4, -2, -1, 5, 0, -5, -3, 2}\n",
    "Output:\n",
    "9 -2 4 -1 5 -5 0 -3 2\n",
    "Explanation : Positive elements : 9,4,5,0,2\n",
    "Negative elements : -2,-1,-5,-3\n",
    "\n",
    "Input:\n",
    "N = 10\n",
    "Arr[] = {-5, -2, 5, 2, 4, 7, 1, 8, 0, -8}\n",
    "Output:\n",
    "5 -5 2 -2 4 -8 7 1 8 0\n",
    "Explanation : Positive elements : 5,2,4,7,1,8,0\n",
    "Negative elements : -5,-2,-8\n",
    "```"
   ]
  },
  {
   "cell_type": "code",
   "execution_count": 88,
   "metadata": {},
   "outputs": [
    {
     "name": "stdout",
     "output_type": "stream",
     "text": [
      "[9, -2, 4, -1, 5, -5, 0, -3, 2]\n"
     ]
    }
   ],
   "source": [
    "def negativePositive(arr):\n",
    "    neg = []\n",
    "    pos = []\n",
    "\n",
    "    for i in arr:\n",
    "        if i<0:\n",
    "            neg.append(i)\n",
    "\n",
    "        else:\n",
    "            pos.append(i)\n",
    "\n",
    "    j = 0\n",
    "    k = 0\n",
    "    while k<len(pos) and j<len(arr):\n",
    "        arr[j] = pos[k]\n",
    "        k += 1\n",
    "        j += 2\n",
    "    \n",
    "    l = 1\n",
    "    m = 0\n",
    "    while m<len(neg) and l<len(arr):\n",
    "        arr[l] = neg[m] \n",
    "        m += 1\n",
    "        l += 2\n",
    "\n",
    "    return arr\n",
    "\n",
    "nums1 = [9, 4, -2, -1, 5, 0, -5, -3, 2]\n",
    "print(negativePositive(nums1))\n"
   ]
  },
  {
   "cell_type": "markdown",
   "metadata": {},
   "source": [
    "####  Given an array Arr[] of integers, rearrange the numbers of the given array into the lexicographically next greater permutation of numbers.\n",
    "\n",
    "#### If such an arrangement is not possible, it must rearrange it as the lowest possible order (i.e., sorted in ascending order).\n",
    "\n",
    "```py\n",
    "Example 1 :\n",
    "\n",
    "Input format: Arr[] = {1,3,2}\n",
    "\n",
    "Output: Arr[] = {2,1,3}\n",
    "\n",
    "Explanation: All permutations of {1,2,3} are {{1,2,3} , {1,3,2}, {2,13} , {2,3,1} , {3,1,2} , {3,2,1}}. So, the next permutation just after {1,3,2} is {2,1,3}.\n",
    "\n",
    "Example 2:\n",
    "\n",
    "Input format: Arr[] = {3,2,1}\n",
    "\n",
    "Output: Arr[] = {1,2,3}\n",
    "\n",
    "Explanation: As we see all permutations of {1,2,3}, we find {3,2,1} at the last position. So, we have to return the topmost permutation.\n",
    "```"
   ]
  },
  {
   "cell_type": "code",
   "execution_count": 90,
   "metadata": {},
   "outputs": [
    {
     "name": "stdout",
     "output_type": "stream",
     "text": [
      "['a', 'b', 'c']\n",
      "['a', 'c', 'b']\n",
      "['b', 'a', 'c']\n",
      "['b', 'c', 'a']\n",
      "['c', 'b', 'a']\n",
      "['c', 'a', 'b']\n"
     ]
    }
   ],
   "source": [
    "def permuteBF(arr,l,r): # O(N! * N) T.C. bad approach brute force\n",
    "    if l == r:\n",
    "        print(arr)\n",
    "\n",
    "    else:\n",
    "        for i in range(l,r):\n",
    "            arr[l], arr[i] = arr[i], arr[l]\n",
    "            permuteBF(arr,l+1,r)\n",
    "            arr[l], arr[i] = arr[i], arr[l]  # backtrack\n",
    "\n",
    "arr = ['a','b','c']\n",
    "permuteBF(arr,0,3)\n"
   ]
  },
  {
   "attachments": {
    "image-2.png": {
     "image/png": "[encoded data removed]"
    }
   },
   "cell_type": "markdown",
   "metadata": {},
   "source": [
    "#### OPTIMIZED APPROACH\n",
    "\n",
    "![image-2.png](attachment:image-2.png)\n"
   ]
  },
  {
   "cell_type": "code",
   "execution_count": 2,
   "metadata": {},
   "outputs": [
    {
     "name": "stdout",
     "output_type": "stream",
     "text": [
      "[2, 1, 3]\n"
     ]
    }
   ],
   "source": [
    "# Optimized approach O(N) T.C. O(1) S.C.\n",
    "\n",
    "\n",
    "def permutationsOP(nums):\n",
    "    \n",
    "    i = j = len(nums)-1\n",
    "\n",
    "    while i > 0 and nums[i-1] >= nums[i]:\n",
    "        i -= 1\n",
    "\n",
    "    if i == 0:   # nums are in descending order\n",
    "        nums.reverse()\n",
    "        return \n",
    "\n",
    "    k = i - 1    # find the last \"ascending\" position\n",
    "    while nums[j] <= nums[k]:\n",
    "        j -= 1\n",
    "\n",
    "    nums[k], nums[j] = nums[j], nums[k]  \n",
    "\n",
    "    l, r = k+1, len(nums)-1  # reverse the second part\n",
    "    \n",
    "    while l < r:\n",
    "        nums[l], nums[r] = nums[r], nums[l]\n",
    "        l += 1\n",
    "        r -= 1\n",
    "\n",
    "    return nums\n",
    "\n",
    "nux = [1,3,2]\n",
    "print(permutationsOP(nux))\n",
    "        "
   ]
  },
  {
   "cell_type": "markdown",
   "metadata": {},
   "source": [
    "#### Leaders in an Array\n",
    "\n",
    "##### Problem Statement: Given an array, print all the elements which are leaders. A Leader is an element that is greater than all of the elements on its right side in the array.\n",
    "\n",
    "```py\n",
    "Example 1:\n",
    "Input:\n",
    " arr = [4, 7, 1, 0]\n",
    "Output:\n",
    " 7 1 0\n",
    "Explanation:\n",
    " Rightmost element is always a leader. 7 and 1 are greater than the elements in their right side.\n",
    "\n",
    "Example 2:\n",
    "Input:\n",
    " arr = [10, 22, 12, 3, 0, 6]\n",
    "Output:\n",
    " 22 12 6\n",
    "Explanation:\n",
    " 6 is a leader. In addition to that, 12 is greater than all the elements in its right side (3, 0, 6), also 22 is greater than 12, 3, 0, 6.\n",
    "```"
   ]
  },
  {
   "cell_type": "code",
   "execution_count": 106,
   "metadata": {},
   "outputs": [
    {
     "name": "stdout",
     "output_type": "stream",
     "text": [
      "6 12 22 "
     ]
    }
   ],
   "source": [
    "# BRUTE FORCE IS TO USE 2 LOOPS AND SEARCH GREATER ELEMENT TO RIGHT\n",
    "\n",
    "# OPTIMIZED APPROACH \n",
    "\n",
    "# traverse from behind and keep track of max element\n",
    "\n",
    "def leader_ele(arr):\n",
    "    n = len(arr)\n",
    "    cur_max = -float('inf')\n",
    "    \n",
    "    for i in range(n-1,-1,-1):\n",
    "        \n",
    "        if arr[i] >= cur_max:\n",
    "            cur_max = arr[i]\n",
    "            print(cur_max, end=\" \")\n",
    "\n",
    "arr = [10, 22, 12, 3, 0, 6]\n",
    "leader_ele(arr)"
   ]
  },
  {
   "cell_type": "markdown",
   "metadata": {},
   "source": [
    "#### You are given an array of ‘N’ integers. You need to find the length of the longest sequence which contains the consecutive elements.\n",
    "\n",
    "```py\n",
    "Example 1:\n",
    "\n",
    "Input: [100, 200, 1, 3, 2, 4]\n",
    "\n",
    "Output: 4\n",
    "\n",
    "Explanation: The longest consecutive subsequence is 1, 2, 3, and 4.\n",
    "\n",
    "Input: [3, 8, 5, 7, 6]\n",
    "\n",
    "Output: 4\n",
    "\n",
    "Explanation: The longest consecutive subsequence is 5, 6, 7, and 8.\n",
    "```\n"
   ]
  },
  {
   "cell_type": "code",
   "execution_count": 7,
   "metadata": {},
   "outputs": [
    {
     "name": "stdout",
     "output_type": "stream",
     "text": [
      "4\n"
     ]
    }
   ],
   "source": [
    "# BRUTE FORCE --> SORT AND THEN FIND CONSECUTIVE SUBSEQUENCE\n",
    "\n",
    "def LongestConseBF(arr): # O(Nlog(N)) T.C. \n",
    "    arr.sort()\n",
    "\n",
    "    curr_max = 1\n",
    "    max_len = -float('inf')\n",
    "\n",
    "    for i in range(1,len(arr)):\n",
    "        if arr[i-1] == arr[i] - 1:\n",
    "            curr_max += 1\n",
    "            max_len = max(curr_max,max_len)\n",
    "        \n",
    "        else:\n",
    "            curr_max = 1\n",
    "    \n",
    "    return max_len\n",
    "    \n",
    "\n",
    "array = [100,200,1,2,3,4]\n",
    "print(LongestConseBF(array))\n"
   ]
  },
  {
   "cell_type": "code",
   "execution_count": 15,
   "metadata": {},
   "outputs": [
    {
     "name": "stdout",
     "output_type": "stream",
     "text": [
      "4\n"
     ]
    }
   ],
   "source": [
    "# OPTIMAL APPROACH\n",
    "\n",
    "def longestConsecOP(arr): # O(N) T.C. and O(N) S.C.\n",
    "    d = {}\n",
    "\n",
    "    for i in arr:\n",
    "        if i in d:\n",
    "            d[i] += 1\n",
    "        else:\n",
    "            d[i] = 1\n",
    "\n",
    "    i = 0\n",
    "    max_count = -float('inf')\n",
    "\n",
    "    while i<len(arr)-1:\n",
    "\n",
    "        # check if the element is first of the sequence\n",
    "        if arr[i]-1 not in d: # then this is first element of sequence\n",
    "            \n",
    "            j = arr[i]\n",
    "            while j in d:\n",
    "                j += 1\n",
    "            max_count = max(max_count, j-arr[i])\n",
    "\n",
    "        i += 1\n",
    "\n",
    "    return max_count\n",
    "\n",
    "\n",
    "array = [100,200,1,2,3,4]\n",
    "print(longestConsecOP(array))"
   ]
  },
  {
   "cell_type": "markdown",
   "metadata": {},
   "source": [
    "#### SET MATRIX ZERO\n",
    "\n",
    "#### Given a matrix if an element in the matrix is 0 then you will have to set its entire column and row to 0 and then return the matrix.\n",
    "\n",
    "```py\n",
    "Examples 1:\n",
    "\n",
    "Input: matrix=[[1,1,1],[1,0,1],[1,1,1]]\n",
    "\n",
    "Output: [[1,0,1],[0,0,0],[1,0,1]]\n",
    "\n",
    "Explanation: Since matrix[2][2]=0.Therfore the 2nd column and 2nd row wil be set to 0.\n",
    " \n",
    "Input: matrix=[[0,1,2,0],[3,4,5,2],[1,3,1,5]]\n",
    "\n",
    "Output:[[0,0,0,0],[0,4,5,0],[0,3,1,0]]\n",
    "\n",
    "Explanation:Since matrix[0][0]=0 and matrix[0][3]=0. Therefore 1st row, 1st column and 4th column will be set to 0\n",
    "```"
   ]
  },
  {
   "cell_type": "code",
   "execution_count": 33,
   "metadata": {},
   "outputs": [
    {
     "name": "stdout",
     "output_type": "stream",
     "text": [
      "0  0  0  0  \n",
      "0  4  5  0  \n",
      "0  3  1  0  \n"
     ]
    }
   ],
   "source": [
    "def setZeroRC(arr,n,m,i,j):\n",
    "    \n",
    "    for c in range(len(arr[0])):\n",
    "        if arr[i][c] != 0:\n",
    "            arr[i][c] = -1      # Marking visited using -1 :|\n",
    "\n",
    "    for r in range(len(arr)):\n",
    "        if arr[r][j] != 0:\n",
    "            arr[r][j] = -1\n",
    "\n",
    "\n",
    "def setZeroesMatrixBF(arr):  # O((N*M)*(N+M)) T.C. and O(1) S.C.\n",
    "    n = len(arr)\n",
    "    m = len(arr[0])\n",
    "\n",
    "    for i in range(n):\n",
    "        for j in range(m):\n",
    "            if arr[i][j] == 0:\n",
    "                setZeroRC(arr,n,m,i,j)\n",
    "\n",
    "    for i in range(n):\n",
    "        for j in range(m):\n",
    "            if arr[i][j] == -1:\n",
    "                arr[i][j] = 0\n",
    "            print(arr[i][j], end= \"  \")\n",
    "        print(\"\")\n",
    "\n",
    "\n",
    "arr = [[0,1,2,0],[3,4,5,2],[1,3,1,5]]\n",
    "setZeroesMatrixBF(arr)"
   ]
  },
  {
   "cell_type": "code",
   "execution_count": 39,
   "metadata": {},
   "outputs": [
    {
     "name": "stdout",
     "output_type": "stream",
     "text": [
      "0  0  0  0  \n",
      "0  4  5  0  \n",
      "0  3  1  0  \n"
     ]
    }
   ],
   "source": [
    "# OPTIMIZED APPROACH 1\n",
    "\n",
    "# STORE INFORMATION OF ZERO OCCOURENCE FOR SPECIFIC ROW AND COLUMN\n",
    "# CHECK FOR R0 C0 Edge Case\n",
    "\n",
    "def setMatrixZeroOP(arr):  # O(N*M + N*M) but O(N) S.C.\n",
    "    n = len(arr)\n",
    "    m = len(arr[0])\n",
    "\n",
    "    OR = [-1]*n\n",
    "    OC = [-1]*m\n",
    "\n",
    "    for i in range(n):\n",
    "        for j in range(m):\n",
    "            if arr[i][j] == 0:\n",
    "                OR[i] = 0\n",
    "                OC[j] = 0\n",
    "\n",
    "    for i in range(n):\n",
    "        for j in range(m):\n",
    "            if OR[i] == 0 or OC[j] == 0:\n",
    "                arr[i][j] = 0\n",
    "\n",
    "    for i in range(n):\n",
    "        for j in range(m):\n",
    "            print(arr[i][j], end= \"  \")\n",
    "        print(\"\")\n",
    "\n",
    "\n",
    "arr = [[0,1,2,0],[3,4,5,2],[1,3,1,5]]\n",
    "setMatrixZeroOP(arr)\n"
   ]
  },
  {
   "cell_type": "code",
   "execution_count": 42,
   "metadata": {},
   "outputs": [
    {
     "name": "stdout",
     "output_type": "stream",
     "text": [
      "0  0  0  0  \n",
      "0  4  5  0  \n",
      "0  3  1  0  \n"
     ]
    }
   ],
   "source": [
    "# OPTIMIZED APPROACH 2\n",
    "# USING THE FIRST ROW AND FIRST COLUMN ITSELF TO STORE ZERO INFORMATION\n",
    "\n",
    "def setZeroesMatrixO2(arr): # O(2*(N*M)) T.C. and O(1) S.C.\n",
    "    n = len(arr)\n",
    "    m = len(arr[0])\n",
    "\n",
    "    col0 = 1\n",
    "    \n",
    "    for i in range(n):\n",
    "        \n",
    "        if arr[i][0] == 0:\n",
    "            col0 = 0\n",
    "\n",
    "        for j in range(m):\n",
    "            if arr[i][j] == 0:\n",
    "                arr[i][0] = 0\n",
    "                arr[0][j] = 0\n",
    "    \n",
    "    for i in range(n-1,-1,-1):\n",
    "        for j in range(m-1,-1,-1):\n",
    "            if arr[i][0] == 0 or arr[0][j] == 0:\n",
    "                arr[i][j] = 0\n",
    "\n",
    "    if col0 == 0:\n",
    "        arr[0][0] = 0\n",
    "\n",
    "    for i in range(n):\n",
    "        for j in range(m):\n",
    "            print(arr[i][j], end= \"  \")\n",
    "        print(\"\")\n",
    "\n",
    "arr = [[0,1,2,0],[3,4,5,2],[1,3,1,5]]\n",
    "setZeroesMatrixO2(arr)"
   ]
  },
  {
   "cell_type": "markdown",
   "metadata": {},
   "source": [
    "#### ROTATE MATRIX BY 90 DEGREES\n",
    "\n",
    "```py\n",
    "Given a matrix, your task is to rotate the matrix 90 degrees clockwise.\n",
    "\n",
    "Example 1:\n",
    "\n",
    "Input: [[1,2,3],[4,5,6],[7,8,9]]\n",
    "\n",
    "Output: [[7,4,1],[8,5,2],[9,6,3]]\n",
    "\n",
    "Explanation: Rotate the matrix simply by 90 degree clockwise and return the matrix.\n",
    "\n",
    "Example 2:\n",
    "\n",
    "Input: [[5,1,9,11],[2,4,8,10],[13,3,6,7],[15,14,12,16]]\n",
    "\n",
    "Output:[[15,13,2,5],[14,3,4,1],[12,6,8,9],[16,7,10,11]]\n",
    "\n",
    "Explanation: Rotate the matrix simply by 90 degree clockwise and return the matrix\n",
    "```\n"
   ]
  },
  {
   "cell_type": "code",
   "execution_count": 81,
   "metadata": {},
   "outputs": [
    {
     "name": "stdout",
     "output_type": "stream",
     "text": [
      "15  13  2  5  \n",
      "14  3  4  1  \n",
      "12  6  8  9  \n",
      "16  7  10  11  \n"
     ]
    }
   ],
   "source": [
    "# BRUTE FORCE METHOD IS TO TAKE FIRST ROW AND APPEND IT IN LAST COLUMN OF A DUMMY MATRIX\n",
    "\n",
    "def rotate90BF(arr): # O(N*M) T.C. and O(N) S.C.\n",
    "    \n",
    "    n = len(arr)\n",
    "    m =len(arr[0])\n",
    "    dummy = mat = [[0 for x in range(m)] for y in range(n)]\n",
    "\n",
    "    for i in range(n):\n",
    "        for j in range(m):\n",
    "            dummy[j][n-i-1] = arr[i][j]\n",
    "                \n",
    "    for i in range(n):\n",
    "        for j in range(m):\n",
    "            print(dummy[i][j], end=\"  \")\n",
    "        print(\"\")\n",
    "\n",
    "rotate90BF(arr)\n",
    "arr = [[5,1,9,11],[2,4,8,10],[13,3,6,7],[15,14,12,16]]\n",
    "\n"
   ]
  },
  {
   "cell_type": "code",
   "execution_count": 74,
   "metadata": {},
   "outputs": [
    {
     "name": "stdout",
     "output_type": "stream",
     "text": [
      "15  13  2  5  \n",
      "14  3  4  1  \n",
      "12  6  8  9  \n",
      "16  7  10  11  \n"
     ]
    }
   ],
   "source": [
    "# OPTIMIZED APPROACH\n",
    "\n",
    "# step 1: Transpose the Matrix\n",
    "# step 2: rotate each row\n",
    "def revers(arr):\n",
    "    j = len(arr)-1\n",
    "    for i in range(j+1//2):\n",
    "        arr[i],arr[j] = arr[j],arr[i]\n",
    "\n",
    "def rotate90OP(arr):\n",
    "\n",
    "    n = len(arr)\n",
    "    m = len(arr[0])\n",
    "\n",
    "    for i in range(n):   # Transpose\n",
    "        for j in range(i,m):\n",
    "            arr[j][i], arr[i][j] = arr[i][j], arr[j][i]\n",
    "\n",
    "    for i in range(n):\n",
    "        arr[i].reverse()\n",
    "\n",
    "    for i in range(n):\n",
    "        for j in range(m):\n",
    "            print(arr[i][j], end=\"  \")\n",
    "        print(\"\")\n",
    "\n",
    "arr = [[5,1,9,11],[2,4,8,10],[13,3,6,7],[15,14,12,16]]\n",
    "rotate90OP(arr)\n"
   ]
  },
  {
   "cell_type": "markdown",
   "metadata": {},
   "source": [
    "#### Spiral Traversal of Matrix\n",
    "\n",
    "#### Given a Matrix, print the given matrix in spiral order.\n",
    "\n",
    "```py\n",
    "Example 1:\n",
    "Input: Matrix[][] = { { 1, 2, 3, 4 },\n",
    "\t\t      { 5, 6, 7, 8 },\n",
    "\t\t      { 9, 10, 11, 12 },\n",
    "\t              { 13, 14, 15, 16 } }\n",
    "\n",
    "Outhput: 1, 2, 3, 4, 8, 12, 16, 15, 14, 13, 9, 5, 6, 7, 11, 10.\n",
    "Explanation: The output of matrix in spiral form.\n",
    "\n",
    "Example 2:\n",
    "Input: Matrix[][] = { { 1, 2, 3 },\n",
    "\t              { 4, 5, 6 },\n",
    "\t\t      { 7, 8, 9 } }\n",
    "\t\t\t    \n",
    "Output: 1, 2, 3, 6, 9, 8, 7, 4, 5.\n",
    "Explanation: The output of matrix in spiral form.\n",
    "```"
   ]
  },
  {
   "cell_type": "code",
   "execution_count": 85,
   "metadata": {},
   "outputs": [
    {
     "name": "stdout",
     "output_type": "stream",
     "text": [
      "1 2 3 4 8 12 16 15 14 13 9 5 6 7 11 10 "
     ]
    }
   ],
   "source": [
    "def printSpiral(arr):\n",
    "\n",
    "    t = 0\n",
    "    r = len(arr[0])-1\n",
    "    l = 0\n",
    "    b = len(arr)-1\n",
    "\n",
    "    while l <= r and t <= b:\n",
    "        \n",
    "        for i in range(l,r + 1):\n",
    "            print(arr[t][i], end=\" \")\n",
    "        t += 1\n",
    "\n",
    "        for i in range(t,b+1):\n",
    "            print(arr[i][r], end=\" \")\n",
    "        r -= 1\n",
    "\n",
    "        if t<=b:\n",
    "            for i in range(r,l-1,-1):\n",
    "                print(arr[b][i], end = \" \")\n",
    "            b -= 1\n",
    "\n",
    "        if l<=r:\n",
    "            for i in range(b,t-1,-1):\n",
    "                print(arr[i][l], end=\" \")\n",
    "\n",
    "            l += 1\n",
    "\n",
    "arr = [[1, 2, 3, 4 ],[5, 6, 7, 8 ],[ 9, 10, 11, 12 ],[ 13, 14, 15, 16]]\n",
    "printSpiral(arr)"
   ]
  },
  {
   "cell_type": "markdown",
   "metadata": {},
   "source": []
  }
 ],
 "metadata": {
  "kernelspec": {
   "display_name": "Python 3 (ipykernel)",
   "language": "python",
   "name": "python3"
  },
  "language_info": {
   "codemirror_mode": {
    "name": "ipython",
    "version": 3
   },
   "file_extension": ".py",
   "mimetype": "text/x-python",
   "name": "python",
   "nbconvert_exporter": "python",
   "pygments_lexer": "ipython3",
   "version": "3.10.7"
  },
  "vscode": {
   "interpreter": {
    "hash": "369f2c481f4da34e4445cda3fffd2e751bd1c4d706f27375911949ba6bb62e1c"
   }
  }
 },
 "nbformat": 4,
 "nbformat_minor": 2
}
