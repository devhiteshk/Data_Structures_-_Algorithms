{
 "cells": [
  {
   "cell_type": "markdown",
   "metadata": {},
   "source": [
    "#### 1. Given an array of integers nums[] and an integer target, return indices of the two numbers such that their sum is equal to the target. Note: Assume that there is exactly one solution, and you are not allowed to use the same element twice. \n",
    "\n",
    "```py\n",
    "Example 1:\n",
    "\n",
    "Input: nums = [2,7,11,15], target = 9\n",
    "\n",
    "Output: [0,1]\n",
    "\n",
    "Explanation: Because nums[0] + nums[1] == 9, \n",
    "which is the required target, we return \n",
    "indexes [0,1]. (0-based indexing)\n",
    "\n",
    "Example 2:\n",
    "\n",
    "Input Format: nums = [3,2,4,6], target = 6\n",
    "\n",
    "Output: [1,2]\n",
    "\n",
    "Explanation: Because nums[1] + nums[2] == 6, \n",
    "which is the required target, we return \n",
    "indexes [1,2].\n",
    "```"
   ]
  },
  {
   "cell_type": "code",
   "execution_count": 11,
   "metadata": {},
   "outputs": [
    {
     "name": "stdout",
     "output_type": "stream",
     "text": [
      "[0, 1]\n"
     ]
    }
   ],
   "source": [
    "# TWO SUM PROBLEM APPROACH\n",
    "\n",
    "# BRUTE FORCE\n",
    "\n",
    "def TWOsumBF(arr,t):\n",
    "    for i in range(len(arr)):\n",
    "        for j in range(len(arr)):\n",
    "            if arr[i] + arr[j] == t and j != i:\n",
    "                return [i,j]\n",
    "    \n",
    "    return -1\n",
    "\n",
    "# Optimized 1 -> sorting in another array and then Two pointer\n",
    "def TwoSumOpt(arr,t):\n",
    "    arr2 = sorted(arr)\n",
    "\n",
    "    i = 0\n",
    "    j = len(arr)-1\n",
    "    n1 = None\n",
    "    n2 = None\n",
    "    res = []\n",
    "    \n",
    "    while i<j:\n",
    "        if arr2[i]+arr2[j] == t:\n",
    "            n1 = arr2[i]\n",
    "            n2 = arr2[j]\n",
    "            break\n",
    "\n",
    "        elif arr2[i] + arr2[j]>t:\n",
    "            j -= 1\n",
    "        \n",
    "        else:\n",
    "            i += 1\n",
    "\n",
    "    for i in range(len(arr)):\n",
    "\n",
    "        if arr[i] == n1:\n",
    "            res.append(i)\n",
    "        elif arr[i] == n2:\n",
    "            res.append(j)\n",
    "\n",
    "    return res\n",
    "\n",
    "# 3. Optimized approach 2 sum using Hashing o(n)t.c and o(n)s.c.\n",
    "\n",
    "def twosumHash(arr,t):\n",
    "\n",
    "    required = {}\n",
    "    \n",
    "    for i in range(len(nums)):\n",
    "\n",
    "        if t - nums[i] in required:\n",
    "            return [required[t - nums[i]], i]\n",
    "        \n",
    "        else:\n",
    "            required[nums[i]] = i\n",
    "\n",
    "nums = [2,7,11,15]\n",
    "t = 9\n",
    "print(twosumHash(nums,t))"
   ]
  },
  {
   "cell_type": "markdown",
   "metadata": {},
   "source": [
    "### 2. Sort Array containing 0's, 1's and 2's\n",
    "\n",
    "```py\n",
    "Example 1:\n",
    "\n",
    "Input: nums = [2,0,2,1,1,0]\n",
    "Output: [0,0,1,1,2,2]\n",
    "\n",
    "Input: nums = [2,0,1]\n",
    "Output: [0,1,2]\n",
    "\n",
    "Input: nums = [0]\n",
    "Input: nums = [0]\n",
    "```"
   ]
  },
  {
   "cell_type": "code",
   "execution_count": 4,
   "metadata": {},
   "outputs": [
    {
     "name": "stdout",
     "output_type": "stream",
     "text": [
      "[0, 0, 1, 1, 2, 2]\n"
     ]
    }
   ],
   "source": [
    "# Brute force\n",
    "\n",
    "def bruteForce012(arr):\n",
    "    return sorted(arr)\n",
    "\n",
    "nums = [2,0,2,1,1,0]\n",
    "\n",
    "\n",
    "# Optimized O(n) T.C. O(1)S.C.\n",
    "\n",
    "def optimizedsort012(arr):\n",
    "    zero = 0\n",
    "    one = 0\n",
    "    two = 0\n",
    "\n",
    "    for i in arr:\n",
    "        if i == 0:\n",
    "            zero += 1\n",
    "        \n",
    "        elif i == 1:\n",
    "            one += 1\n",
    "        \n",
    "        else:\n",
    "            two += 1\n",
    "\n",
    "    i = 0\n",
    "    while zero:\n",
    "        arr[i] = 0\n",
    "        i += 1\n",
    "        zero -= 1\n",
    "\n",
    "    while one:\n",
    "        arr[i] = 1\n",
    "        i += 1\n",
    "        one -= 1\n",
    "\n",
    "    while two:\n",
    "        arr[i] = 2\n",
    "        i += 1\n",
    "        two -= 1\n",
    "    \n",
    "    return arr\n",
    "\n",
    "print(optimizedsort012(nums))"
   ]
  },
  {
   "cell_type": "markdown",
   "metadata": {},
   "source": [
    "#### 3. Given an array of N integers, write a program to return an element that occurs more than N/2 times in the given array. You may consider that such an element always exists in the array.\n",
    "\n",
    "```py\n",
    "\n",
    "Example 1:\n",
    "\n",
    "Input Format: N = 3, nums[] = {3,2,3}\n",
    "\n",
    "Result: 3\n",
    "\n",
    "Explanation: When we just count the occurrences of each number and compare with half of the size of the array, you will get 3 for the above solution. \n",
    "\n",
    "Example 2:\n",
    "\n",
    "Input Format:  N = 7, nums[] = {2,2,1,1,1,2,2}\n",
    "\n",
    "Result: 2\n",
    "\n",
    "Explanation: After counting the number of times each element appears and comparing it with half of array size, we get 2 as result.\n",
    "\n",
    "```\n"
   ]
  },
  {
   "cell_type": "code",
   "execution_count": 12,
   "metadata": {},
   "outputs": [
    {
     "name": "stdout",
     "output_type": "stream",
     "text": [
      "2\n"
     ]
    }
   ],
   "source": [
    "# BRUTE FORCE IS TO RUN TWO LOOPS AND CHECK THE ELEMENT THAT OCCOURS MAXIMUM NUMBER OF TIMES\n",
    "\n",
    "# Dictionary method\n",
    "\n",
    "def dictMaxEle(arr):  # O(n) T.C. O(n) S.C.\n",
    "    d = {}\n",
    "    for i in arr:\n",
    "        if i in d:\n",
    "            d[i] += 1\n",
    "        else:\n",
    "            d[i] = 1\n",
    "\n",
    "    for k in d:\n",
    "        if d[k] > len(arr)/2:\n",
    "            return k\n",
    "\n",
    "    return -1\n",
    "\n",
    "# Best approach moore's voting algorithm\n",
    "\n",
    "def majorityElement(arr):\n",
    "    count = 0\n",
    "    candidate = 0\n",
    "\n",
    "    for i in nums:\n",
    "        if count == 0:\n",
    "            candidate = i\n",
    "\n",
    "        if i == candidate:\n",
    "            count += 1\n",
    "\n",
    "        else:\n",
    "            count -= 1\n",
    "  \n",
    "    return candidate\n",
    "\n",
    "\n",
    "nums = [2,2,1,1,1,2,2]\n",
    "print(majorityElement(nums))\n"
   ]
  }
 ],
 "metadata": {
  "kernelspec": {
   "display_name": "Python 3.10.7 64-bit",
   "language": "python",
   "name": "python3"
  },
  "language_info": {
   "codemirror_mode": {
    "name": "ipython",
    "version": 3
   },
   "file_extension": ".py",
   "mimetype": "text/x-python",
   "name": "python",
   "nbconvert_exporter": "python",
   "pygments_lexer": "ipython3",
   "version": "3.10.7"
  },
  "orig_nbformat": 4,
  "vscode": {
   "interpreter": {
    "hash": "369f2c481f4da34e4445cda3fffd2e751bd1c4d706f27375911949ba6bb62e1c"
   }
  }
 },
 "nbformat": 4,
 "nbformat_minor": 2
}
