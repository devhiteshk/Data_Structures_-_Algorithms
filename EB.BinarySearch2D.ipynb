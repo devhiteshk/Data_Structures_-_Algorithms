{
 "cells": [
  {
   "cell_type": "markdown",
   "id": "69cda205",
   "metadata": {},
   "source": [
    "#### 1.Given a row wise sorted matrix of size R*C where R and C are always odd, find the median of the matrix.\n",
    "\n",
    "```py\n",
    "Example 1:\n",
    "\n",
    "Input:\n",
    "R = 3, C = 3\n",
    "M = [[1, 3, 5], \n",
    "     [2, 6, 9], \n",
    "     [3, 6, 9]]\n",
    "Output: 5\n",
    "Explanation: Sorting matrix elements gives \n",
    "us {1,2,3,3,5,6,6,9,9}. Hence, 5 is median. \n",
    " \n",
    "\n",
    "Example 2:\n",
    "\n",
    "Input:\n",
    "R = 3, C = 1\n",
    "M = [[1], [2], [3]]\n",
    "Output: 2\n",
    "Explanation: Sorting matrix elements gives \n",
    "us {1,2,3}. Hence, 2 is median.\n",
    "```"
   ]
  },
  {
   "cell_type": "code",
   "execution_count": 9,
   "id": "d57c307f",
   "metadata": {},
   "outputs": [
    {
     "name": "stdout",
     "output_type": "stream",
     "text": [
      "[1, 2, 3]\n",
      "2\n"
     ]
    }
   ],
   "source": [
    "def getMedianBF(arr):\n",
    "    r = len(arr)\n",
    "    c = len(arr[0])\n",
    "    \n",
    "    temp = []\n",
    "    for i in range(r):\n",
    "        for j in range(c):\n",
    "            temp.append(arr[i][j])\n",
    "            \n",
    "    temp.sort()\n",
    "    print(temp)\n",
    "    return temp[r*c//2]\n",
    "    \n",
    "arr = [[1],[2],[3]]\n",
    "print(getMedianBF(arr))"
   ]
  },
  {
   "cell_type": "code",
   "execution_count": 19,
   "id": "d24a5ae9",
   "metadata": {},
   "outputs": [
    {
     "data": {
      "text/plain": [
       "2"
      ]
     },
     "execution_count": 19,
     "metadata": {},
     "output_type": "execute_result"
    }
   ],
   "source": [
    "# OPTIMIZED APPROACH\n",
    "\n",
    "# FIND MIN AND MAX\n",
    "# RUN BINARY SEARCH\n",
    "\n",
    "def search(arr, mid):\n",
    "    lo = 0\n",
    "    hi = len(arr)-1\n",
    "    ans = -1\n",
    "    \n",
    "    while lo <= hi:\n",
    "        \n",
    "        mid_2 = lo + (hi-lo)//2\n",
    "        \n",
    "        if arr[mid_2] <= mid:\n",
    "            lo = mid_2 + 1\n",
    "            ans = max(ans,mid)\n",
    "            \n",
    "        else:\n",
    "            hi = mid_2 - 1\n",
    "            \n",
    "    return ans + 1\n",
    "\n",
    "def getMedianOP(arr):\n",
    "    \n",
    "    r = len(arr)\n",
    "    c = len(arr[0])\n",
    "    \n",
    "    lo = float('inf')\n",
    "    hi = -float('inf')\n",
    "    \n",
    "    desired_count = (1+(r*c)//2)\n",
    "    \n",
    "    if r%2==0 or c%2 ==0: \n",
    "        desired_count -= 1\n",
    "    \n",
    "    for i in range(r):  # get min and max elements in o(n) time\n",
    "        lo = min(lo,arr[i][0])\n",
    "        hi = max(hi, arr[i][-1])\n",
    "        \n",
    "    ans = hi\n",
    "        \n",
    "    while lo<=hi:\n",
    "        mid = lo + (hi-lo)//2\n",
    "        \n",
    "        count = 0\n",
    "        for i in range(r):\n",
    "                count += search(arr[i], mid)\n",
    "            \n",
    "        \n",
    "        if count <= desired_count:\n",
    "            lo = mid+1\n",
    "            \n",
    "        else:\n",
    "            hi = mid-1\n",
    "            ans = min(ans, mid)\n",
    "            \n",
    "    return ans\n",
    "    \n",
    "\n",
    "M = [[1, 3, 5], \n",
    "     [2, 6, 9], \n",
    "     [3, 6, 9]]\n",
    "arr = [[1],[2],[3]]\n",
    "getMedianOP(arr)"
   ]
  },
  {
   "cell_type": "markdown",
   "id": "b0f3ba4d",
   "metadata": {},
   "source": []
  },
  {
   "cell_type": "code",
   "execution_count": null,
   "id": "f86783e1",
   "metadata": {},
   "outputs": [],
   "source": []
  }
 ],
 "metadata": {
  "kernelspec": {
   "display_name": "Python 3.10.7 64-bit",
   "language": "python",
   "name": "python3"
  },
  "language_info": {
   "codemirror_mode": {
    "name": "ipython",
    "version": 3
   },
   "file_extension": ".py",
   "mimetype": "text/x-python",
   "name": "python",
   "nbconvert_exporter": "python",
   "pygments_lexer": "ipython3",
   "version": "3.10.7 (tags/v3.10.7:6cc6b13, Sep  5 2022, 14:08:36) [MSC v.1933 64 bit (AMD64)]"
  },
  "vscode": {
   "interpreter": {
    "hash": "369f2c481f4da34e4445cda3fffd2e751bd1c4d706f27375911949ba6bb62e1c"
   }
  }
 },
 "nbformat": 4,
 "nbformat_minor": 5
}
