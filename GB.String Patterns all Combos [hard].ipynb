{
 "cells": [
  {
   "cell_type": "markdown",
   "id": "d60e1eca",
   "metadata": {},
   "source": [
    "#### 1. Palindrome Partitioning\n",
    "\n",
    "Given a string s, partition s such that every substring  of the partition is a palindrome. Return all possible palindrome partitioning of s.\n",
    "\n",
    "```py\n",
    "Example 1:\n",
    "\n",
    "Input: s = \"aab\"\n",
    "Output: [[\"a\",\"a\",\"b\"],[\"aa\",\"b\"]]\n",
    "\n",
    "Example 2:\n",
    "\n",
    "Input: s = \"a\"\n",
    "Output: [[\"a\"]]\n",
    "```"
   ]
  },
  {
   "cell_type": "code",
   "execution_count": 89,
   "id": "9486619a",
   "metadata": {},
   "outputs": [
    {
     "data": {
      "text/plain": [
       "[['n', 'i', 't', 'i', 'n'], ['n', 'iti', 'n'], ['nitin']]"
      ]
     },
     "execution_count": 89,
     "metadata": {},
     "output_type": "execute_result"
    }
   ],
   "source": [
    "def isPalin(s):\n",
    "    if s == s[::-1]:\n",
    "        return True\n",
    "    return False\n",
    "    \n",
    "\n",
    "def findPalin(ans, ds, s):\n",
    "    if not s:\n",
    "        ans.append(ds)\n",
    "    \n",
    "    for i in range(1, len(s)+1):\n",
    "        if isPalin(s[:i]):\n",
    "            findPalin(ans, ds + [s[:i]], s[i:])\n",
    "\n",
    "def palindromePartioning(s):\n",
    "    ans = []\n",
    "    ds = []\n",
    "    findPalin(ans,ds,s)\n",
    "    return ans\n",
    "s = \"nitin\"\n",
    "palindromePartioning(s)"
   ]
  },
  {
   "attachments": {},
   "cell_type": "markdown",
   "id": "63fa5da8",
   "metadata": {},
   "source": [
    "#### 2. Word Search\n",
    "\n",
    "Given an m x n grid of characters board and a string word, return true if word exists in the grid.\n",
    "\n",
    "The word can be constructed from letters of sequentially adjacent cells, where adjacent cells are horizontally or vertically neighboring. The same letter cell may not be used more than once.\n",
    "\n",
    "\n",
    "Example 1:\n",
    "![image.png](attachment:image.png)\n",
    "```py\n",
    "Input: board = [[\"A\",\"B\",\"C\",\"E\"],[\"S\",\"F\",\"C\",\"S\"],[\"A\",\"D\",\"E\",\"E\"]], word = \"ABCCED\"\n",
    "Output: true\n",
    "```\n",
    "Example 2:\n",
    "![image-2.png](attachment:image-2.png)\n",
    "```py\n",
    "Input: board = [[\"A\",\"B\",\"C\",\"E\"],[\"S\",\"F\",\"C\",\"S\"],[\"A\",\"D\",\"E\",\"E\"]], word = \"SEE\"\n",
    "Output: true\n",
    "```\n",
    "Example 3:\n",
    "![image-3.png](attachment:image-3.png)\n",
    "```py\n",
    "\n",
    "Input: board = [[\"A\",\"B\",\"C\",\"E\"],[\"S\",\"F\",\"C\",\"S\"],[\"A\",\"D\",\"E\",\"E\"]], word = \"ABCB\"\n",
    "Output: false\n",
    "```\n"
   ]
  },
  {
   "cell_type": "code",
   "execution_count": 118,
   "id": "49a78b38",
   "metadata": {},
   "outputs": [
    {
     "data": {
      "text/plain": [
       "False"
      ]
     },
     "execution_count": 118,
     "metadata": {},
     "output_type": "execute_result"
    }
   ],
   "source": [
    "def dfs(i, j, k, word, board):\n",
    "    if i < 0 or j < 0 or i >= len(board) or j>= len(board[0]) or k >= len(word) or board[i][j] != word[k]:\n",
    "        return False\n",
    "    \n",
    "    if k == len(word) - 1:\n",
    "        return True\n",
    "    \n",
    "    directions = [(1, 0), (-1, 0), (0, 1), (0, -1)]\n",
    "    \n",
    "    for x, y in directions:\n",
    "        tmp = board[i][j]\n",
    "        board[i][j] = \"#\"\n",
    "        \n",
    "        if dfs(i + x, j + y, k + 1, word, board): \n",
    "            return True\n",
    "        \n",
    "        board[i][j] = tmp\n",
    "\n",
    "def wordSearch(board, word):\n",
    "    d = {}\n",
    "    startIndx = []\n",
    "    for i in range(len(board)):\n",
    "        for j in range(len(board[0])):\n",
    "            if board[i][j] in d:\n",
    "                d[board[i][j]] += 1\n",
    "            else:\n",
    "                d[board[i][j]] = 1\n",
    "                \n",
    "            if board[i][j] == word[0]:\n",
    "                startIndx.append([i,j])\n",
    "                \n",
    "    d2 = {}\n",
    "    for i in word:\n",
    "        if i in d2:\n",
    "            d2[i] += 1\n",
    "        else:\n",
    "            d2[i] = 1\n",
    "            \n",
    "    for key in d2:\n",
    "        if key not in d or d2[key]>d[key]:\n",
    "            return False\n",
    "    \n",
    "    for i in startIndx:\n",
    "        ans = dfs(i[0],i[1], 0, word, board)\n",
    "        if ans:\n",
    "            return True\n",
    "    return False\n",
    "    \n",
    "board = [[\"A\",\"B\",\"C\",\"E\"],[\"S\",\"F\",\"C\",\"S\"],[\"A\",\"D\",\"E\",\"E\"]]\n",
    "word = \"ABCCEDa\"\n",
    "\n",
    "wordSearch(board, word)"
   ]
  },
  {
   "cell_type": "markdown",
   "id": "136643ee",
   "metadata": {},
   "source": [
    "#### 3. Return all Distinct Solutions to the N-Queens Puzzle\n",
    "\n",
    "The n-queens is the problem of placing n queens on n × n chessboard such that no two queens can attack each other. Given an integer n, return all distinct solutions to the n -queens puzzle. Each solution contains a distinct boards configuration of the queen’s placement, where ‘Q’ and ‘.’ indicate queen and empty space respectively.\n",
    "\n",
    "```py\n",
    "Examples:\n",
    "\n",
    "Input: n = 4\n",
    "\n",
    "Output: [[\".Q..\",\"...Q\",\"Q...\",\"..Q.\"],[\"..Q.\",\"Q...\",\"...Q\",\".Q..\"]]\n",
    "\n",
    "Explanation: There exist two distinct solutions to the 4-queens puzzle as shown below\n",
    "\n",
    "Let us first understand how can we place queens in a chessboard so that no attack on either of them can take place.\n",
    "```"
   ]
  },
  {
   "cell_type": "code",
   "execution_count": 20,
   "id": "b328163b",
   "metadata": {},
   "outputs": [
    {
     "data": {
      "text/plain": [
       "[['..Q.', 'Q...', '...Q', '.Q..'], ['.Q..', '...Q', 'Q...', '..Q.']]"
      ]
     },
     "execution_count": 20,
     "metadata": {},
     "output_type": "execute_result"
    }
   ],
   "source": [
    "# Solved using Brute force Approach in optimal approach use a hash to remember the Q position in 1D array of size 2n+1\n",
    "\n",
    "def isSafe(row, col, board, n):\n",
    "    r = row\n",
    "    c = col\n",
    "    \n",
    "    # check for Queen in each row\n",
    "    while(c>=0):\n",
    "        if board[r][c] == \"Q\":\n",
    "            return False        \n",
    "        c -= 1\n",
    "    \n",
    "    # check for queen in upper diagonal\n",
    "    r = row\n",
    "    c = col\n",
    "    while(r>=0 and c>=0):\n",
    "        if board[r][c] == \"Q\":\n",
    "            return False\n",
    "        r -= 1\n",
    "        c -= 1\n",
    "        \n",
    "    # check for queen in lower diagonal\n",
    "    r = row\n",
    "    c = col\n",
    "    while(r<n and c>=0):\n",
    "        if board[r][c] == \"Q\":\n",
    "            return False\n",
    "        r += 1\n",
    "        c -= 1\n",
    "        \n",
    "    return True\n",
    "    \n",
    "\n",
    "def NQueens(n):\n",
    "    ans = []\n",
    "    board = [[\".\" for i in range(n)] for i in range(n)]\n",
    "    getQueens(0, ans, board, n)\n",
    "    return ans\n",
    "\n",
    "def getQueens(col, ans, board, n):\n",
    "    if col == n:\n",
    "        ans.append([\"\".join(i) for i in board])\n",
    "        return\n",
    "    \n",
    "    for row in range(n):\n",
    "        if isSafe(row, col, board, n) == True:\n",
    "            board[row][col] = 'Q'\n",
    "            getQueens(col + 1, ans, board, n)\n",
    "            board[row][col] = '.'\n",
    "    \n",
    "NQueens(4)\n",
    "    "
   ]
  },
  {
   "cell_type": "markdown",
   "id": "bffe4bb7",
   "metadata": {},
   "source": [
    "#### 4. Rat in a Maze\n",
    "\n",
    "Consider a rat placed at (0, 0) in a square matrix of order N * N. It has to reach the destination at (N – 1, N – 1). Find all possible paths that the rat can take to reach from source to destination. The directions in which the rat can move are ‘U'(up), ‘D'(down), ‘L’ (left), ‘R’ (right). Value 0 at a cell in the matrix represents that it is blocked and the rat cannot move to it while value 1 at a cell in the matrix represents that rat can travel through it.\n",
    "\n",
    "Note: In a path, no cell can be visited more than one time.\n",
    "\n",
    "Print the answer in lexicographical(sorted) order\n",
    "```py\n",
    "Examples:\n",
    "\n",
    "Example 1:\n",
    "\n",
    "Input:\n",
    "N = 4\n",
    "m[][] = {{1, 0, 0, 0},\n",
    "        {1, 1, 0, 1}, \n",
    "        {1, 1, 0, 0},\n",
    "        {0, 1, 1, 1}}\n",
    "\n",
    "Output: DDRDRR DRDDRR\n",
    "\n",
    "Explanation:\n",
    "\n",
    "The rat can reach the destination at (3, 3) from (0, 0) by two paths - DRDDRR and DDRDRR, when printed in sorted order we get DDRDRR DRDDRR.\n",
    "\n",
    "Example 2:\n",
    "\n",
    "Input: N = 2\n",
    "       m[][] = {{1, 0},\n",
    "                {1, 0}}\n",
    "\n",
    "Output:\n",
    " No path exists and the destination cell is blocked.\n",
    "```"
   ]
  },
  {
   "cell_type": "code",
   "execution_count": 7,
   "id": "f446ba69",
   "metadata": {},
   "outputs": [
    {
     "data": {
      "text/plain": [
       "['DDRDRR', 'DRDDRR']"
      ]
     },
     "execution_count": 7,
     "metadata": {},
     "output_type": "execute_result"
    }
   ],
   "source": [
    "def isValid(n, maze, x, y, vis):\n",
    "    if x >= 0 and y >= 0 and x < n and y < n and maze[x][y] == 1 and vis[x][y] == 0:\n",
    "        return True\n",
    "    return False\n",
    "\n",
    "def RatInAMaze(n, maize):\n",
    "    ans = []\n",
    "    vis = [[0 for i in range(n)] for i in range(n)]\n",
    "    path = []\n",
    "    getMaizePath(0, 0, path, maize, ans, n, vis)\n",
    "    return sorted(ans)\n",
    "\n",
    "def getMaizePath(r, c, path, maize, ans, n, vis):\n",
    "    if r == n-1 and c == n-1:\n",
    "        ans.append(\"\".join(path))\n",
    "        return\n",
    "    \n",
    "    vis[r][c] = -1\n",
    "\n",
    "    # down\n",
    "    x = r + 1\n",
    "    y = c\n",
    "    if isValid(n, maize, x, y, vis):\n",
    "        path.append(\"D\")\n",
    "        getMaizePath(x, y, path, maize, ans, n, vis)\n",
    "        path.pop()\n",
    "\n",
    "    # up\n",
    "    x = r - 1\n",
    "    y = c \n",
    "    if isValid(n, maize, x, y, vis):\n",
    "        path.append(\"U\")\n",
    "        getMaizePath(x, y, path, maize, ans, n, vis)\n",
    "        path.pop()\n",
    "\n",
    "    # left\n",
    "    x = r\n",
    "    y = c - 1\n",
    "    if isValid(n, maize, x, y, vis):\n",
    "        path.append(\"L\")\n",
    "        getMaizePath(x, y, path, maize, ans, n, vis)\n",
    "        path.pop()\n",
    "\n",
    "    # right\n",
    "    x = r\n",
    "    y = c + 1\n",
    "    if isValid(n, maize, x, y, vis):\n",
    "        path.append(\"R\")\n",
    "        getMaizePath(x, y, path, maize, ans, n, vis)\n",
    "        path.pop()\n",
    "\n",
    "    vis[r][c] = 0\n",
    "\n",
    "n = 4\n",
    "maize = [[1, 0, 0, 0],\n",
    "        [1, 1, 0, 1], \n",
    "        [1, 1, 0, 0],\n",
    "        [0, 1, 1, 1]]\n",
    "\n",
    "RatInAMaze(n, maize)"
   ]
  },
  {
   "cell_type": "markdown",
   "id": "4e4259b3",
   "metadata": {},
   "source": [
    "#### 5. Word Break\n",
    "\n",
    "Given a string s and a dictionary of strings wordDict, return true if s can be segmented into a space-separated sequence of one or more dictionary words.\n",
    "\n",
    "Note that the same word in the dictionary may be reused multiple times in the segmentation.\n",
    "\n",
    "```py\n",
    "Example 1:\n",
    "\n",
    "Input: s = \"leetcode\", wordDict = [\"leet\",\"code\"]\n",
    "Output: true\n",
    "Explanation: Return true because \"leetcode\" can be segmented as \"leet code\".\n",
    "Example 2:\n",
    "\n",
    "Input: s = \"applepenapple\", wordDict = [\"apple\",\"pen\"]\n",
    "Output: true\n",
    "Explanation: Return true because \"applepenapple\" can be segmented as \"apple pen apple\".\n",
    "Note that you are allowed to reuse a dictionary word.\n",
    "Example 3:\n",
    "\n",
    "Input: s = \"catsandog\", wordDict = [\"cats\",\"dog\",\"sand\",\"and\",\"cat\"]\n",
    "Output: false\n",
    "```"
   ]
  },
  {
   "cell_type": "code",
   "execution_count": 3,
   "id": "9fc2f65e",
   "metadata": {},
   "outputs": [
    {
     "data": {
      "text/plain": [
       "True"
      ]
     },
     "execution_count": 3,
     "metadata": {},
     "output_type": "execute_result"
    }
   ],
   "source": [
    "# bottom up DP \n",
    "\n",
    "def wordBreak(s, wordDict):\n",
    "        wordSet = set(wordDict)\n",
    "        n = len(s)\n",
    "        \n",
    "        dp = [False] * (n+1)\n",
    "        dp[n] = True\n",
    "        for i in range(n-1, -1, -1):\n",
    "            for j in range(i+1, n+1):\n",
    "                if dp[j] and s[i:j] in wordSet:\n",
    "                    dp[i] = True\n",
    "                    break\n",
    "        \n",
    "        return dp[0]\n",
    "\n",
    "s = \"leetcode\"\n",
    "wordDict = [\"leet\",\"code\"]\n",
    "wordBreak(s, wordDict)"
   ]
  },
  {
   "cell_type": "code",
   "execution_count": null,
   "id": "5608130a",
   "metadata": {},
   "outputs": [],
   "source": []
  }
 ],
 "metadata": {
  "kernelspec": {
   "display_name": "Python 3",
   "language": "python",
   "name": "python3"
  },
  "language_info": {
   "codemirror_mode": {
    "name": "ipython",
    "version": 3
   },
   "file_extension": ".py",
   "mimetype": "text/x-python",
   "name": "python",
   "nbconvert_exporter": "python",
   "pygments_lexer": "ipython3",
   "version": "3.10.7 (tags/v3.10.7:6cc6b13, Sep  5 2022, 14:08:36) [MSC v.1933 64 bit (AMD64)]"
  },
  "vscode": {
   "interpreter": {
    "hash": "369f2c481f4da34e4445cda3fffd2e751bd1c4d706f27375911949ba6bb62e1c"
   }
  }
 },
 "nbformat": 4,
 "nbformat_minor": 5
}
