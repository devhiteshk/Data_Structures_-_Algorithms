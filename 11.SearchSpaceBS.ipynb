{
 "cells": [
  {
   "cell_type": "markdown",
   "id": "1332cc6e",
   "metadata": {},
   "source": [
    "#### Given an integer x, find the square root of x. If x is not a perfect square, then return floor(√x).\n",
    "\n",
    "```py\n",
    "Example 1:\n",
    "\n",
    "Input:\n",
    "x = 5\n",
    "Output: 2\n",
    "Explanation: Since, 5 is not a perfect \n",
    "square, floor of square_root of 5 is 2.\n",
    "Example 2:\n",
    "\n",
    "Input:\n",
    "x = 4\n",
    "Output: 2\n",
    "Explanation: Since, 4 is a perfect \n",
    "square, so its square root is 2.\n",
    "```"
   ]
  },
  {
   "cell_type": "code",
   "execution_count": 34,
   "id": "748dd490",
   "metadata": {},
   "outputs": [
    {
     "data": {
      "text/plain": [
       "3"
      ]
     },
     "execution_count": 34,
     "metadata": {},
     "output_type": "execute_result"
    }
   ],
   "source": [
    "# BRUTE FORCE METHOD X**0.5\n",
    "\n",
    "# Optimized method using binary search\n",
    "\n",
    "def getSqRoot(N):\n",
    "\n",
    "    low = 1\n",
    "    high = N\n",
    "    ans = 1\n",
    "    \n",
    "    if (N == 0 or N == 1):\n",
    "        return N\n",
    "    \n",
    "    while low <= high:\n",
    "        mid = (low + high)//2\n",
    "        \n",
    "        if mid*mid == N:\n",
    "            return mid\n",
    "        \n",
    "        if mid*mid <= N:\n",
    "            low = mid + 1\n",
    "            ans = mid\n",
    "            \n",
    "        else:\n",
    "            high = mid - 1\n",
    "            \n",
    "    return ans\n",
    "              \n",
    "getSqRoot(11)\n",
    "        \n",
    "    "
   ]
  },
  {
   "cell_type": "markdown",
   "id": "8eacc7aa",
   "metadata": {},
   "source": [
    "#### The nth root of a number M is defined as a number X when raised to the power N equals M.\n",
    "\n",
    "```py\n",
    "Example 1:\n",
    "\n",
    "Input: N=3 M=27\n",
    "\n",
    "Output: 3\n",
    "\n",
    "Explanation: The cube root of 27 is 3.\n",
    "Example 2:\n",
    "\n",
    "Input: N=2 M=16\n",
    "\n",
    "Output: 4\n",
    "\n",
    "Explanation: The square root of 16 is 4\n",
    "```"
   ]
  },
  {
   "cell_type": "code",
   "execution_count": 4,
   "id": "44de5118",
   "metadata": {},
   "outputs": [
    {
     "data": {
      "text/plain": [
       "4"
      ]
     },
     "execution_count": 4,
     "metadata": {},
     "output_type": "execute_result"
    }
   ],
   "source": [
    "# Brute force method is to run a loop till M/N and check each case\n",
    "\n",
    "def getNthRoot(N,M): # T.C. = O(N) & S.C O(1)\n",
    "    \n",
    "    Range = M//N + 1\n",
    "    \n",
    "    for i in range(Range):\n",
    "        if i**N == M:\n",
    "            return i\n",
    "        \n",
    "    return -1\n",
    "\n",
    "getNthRoot(2,16)\n",
    "        "
   ]
  },
  {
   "cell_type": "code",
   "execution_count": 13,
   "id": "6bb3593b",
   "metadata": {},
   "outputs": [
    {
     "data": {
      "text/plain": [
       "9"
      ]
     },
     "execution_count": 13,
     "metadata": {},
     "output_type": "execute_result"
    }
   ],
   "source": [
    "# Optimized method is to use Binary Search\n",
    "\n",
    "def getNthRootBS(N,M): # T.C. O(log(N)) & S.C O(1)\n",
    "    \n",
    "    if M == 1:\n",
    "        return 1\n",
    "    \n",
    "    R = M//N + 1\n",
    "    \n",
    "    low = 1\n",
    "    high = R\n",
    "    \n",
    "    while low <= high:\n",
    "        \n",
    "        mid = (low + high)//2\n",
    "        \n",
    "        if mid**N == M:\n",
    "            return mid\n",
    "        \n",
    "        elif mid**N > M:\n",
    "            high = mid - 1\n",
    "            \n",
    "        else:\n",
    "            low = mid + 1\n",
    "            \n",
    "    return -1\n",
    "        \n",
    "\n",
    "getNthRootBS(2,81)"
   ]
  },
  {
   "cell_type": "markdown",
   "id": "7f427aca",
   "metadata": {},
   "source": [
    "#### Given N piles of bananas, the ith pile has piles[i] bananas and H hours time until guards return (N < H). Find the minimum (S) bananas to eat per hour such that Koko can eat all the bananas within H hours. Each hour, Koko chooses some pile of bananas and eats S bananas from that pile. If the pile has less than S bananas, then she consumes all of them, and wont eat any more bananas during that hour. \n",
    "\n",
    "```py\n",
    "Example 1:\n",
    "Input:\n",
    "n = 4\n",
    "piles = [3, 6, 7, 11]\n",
    "H = 8\n",
    "Output:\n",
    "4\n",
    "\n",
    "Example 2:\n",
    "Input:\n",
    "n = 5\n",
    "piles = [30, 11, 23, 4, 20]\n",
    "H = 5\n",
    "Output:\n",
    "30\n",
    "```\n"
   ]
  },
  {
   "cell_type": "code",
   "execution_count": 17,
   "id": "1883b185",
   "metadata": {},
   "outputs": [
    {
     "data": {
      "text/plain": [
       "30"
      ]
     },
     "execution_count": 17,
     "metadata": {},
     "output_type": "execute_result"
    }
   ],
   "source": [
    "# Optimized Solution\n",
    "import math\n",
    "\n",
    "def kokoBanana(n,piles,H):  O(n(log(n)))\n",
    "    l = 0\n",
    "    r = max(piles)\n",
    "    \n",
    "    res = max(piles)\n",
    "    \n",
    "    while l <= r:\n",
    "        \n",
    "        m = (l+r)//2\n",
    "        \n",
    "        total = 0\n",
    "        \n",
    "        for p in piles:\n",
    "\n",
    "            total += math.ceil(p/m)\n",
    "            \n",
    "        if total <= H:\n",
    "            res = min(res,m)\n",
    "            \n",
    "            r = m - 1\n",
    "        else:\n",
    "            l = m + 1\n",
    "            \n",
    "    return res\n",
    "\n",
    "n = 5\n",
    "piles = [30, 11, 23, 4, 20]\n",
    "H = 5\n",
    "\n",
    "kokoBanana(n,piles,H)\n",
    "            \n",
    "    "
   ]
  },
  {
   "cell_type": "markdown",
   "id": "89c90bb1",
   "metadata": {},
   "source": [
    "#### You are given an integer array bloomDay, an integer m and an integer k.\n",
    "\n",
    "#### You want to make m bouquets. To make a bouquet, you need to use k adjacent flowers from the garden.\n",
    "\n",
    "#### The garden consists of n flowers, the ith flower will bloom in the bloomDay[i] and then can be used in exactly one bouquet.\n",
    "\n",
    "#### Return the minimum number of days you need to wait to be able to make m bouquets from the garden. If it is impossible to make m bouquets return -1.\n",
    "\n",
    " \n",
    "```PY\n",
    "Example 1:\n",
    "\n",
    "Input: bloomDay = [1,10,3,10,2], m = 3, k = 1\n",
    "Output: 3\n",
    "Explanation: Let us see what happened in the first three days. x means flower bloomed and _ means flower did not bloom in the garden.\n",
    "We need 3 bouquets each should contain 1 flower.\n",
    "After day 1: [x, _, _, _, _]   // we can only make one bouquet.\n",
    "After day 2: [x, _, _, _, x]   // we can only make two bouquets.\n",
    "After day 3: [x, _, x, _, x]   // we can make 3 bouquets. The answer is 3.\n",
    "Example 2:\n",
    "\n",
    "Input: bloomDay = [1,10,3,10,2], m = 3, k = 2\n",
    "Output: -1\n",
    "Explanation: We need 3 bouquets each has 2 flowers, that means we need 6 flowers. We only have 5 flowers so it is impossible to get the needed bouquets and we return -1.\n",
    "Example 3:\n",
    "\n",
    "Input: bloomDay = [7,7,7,7,12,7,7], m = 2, k = 3\n",
    "Output: 12\n",
    "Explanation: We need 2 bouquets each should have 3 flowers.\n",
    "Here is the garden after the 7 and 12 days:\n",
    "After day 7: [x, x, x, x, _, x, x]\n",
    "We can make one bouquet of the first three flowers that bloomed. We cannot make another bouquet from the last three flowers that bloomed because they are not adjacent.\n",
    "After day 12: [x, x, x, x, x, x, x]\n",
    "It is obvious that we can make two bouquets in different ways.\n",
    "```"
   ]
  },
  {
   "cell_type": "code",
   "execution_count": null,
   "id": "96ce7a94",
   "metadata": {},
   "outputs": [],
   "source": [
    "# Optimized method\n",
    "\n",
    "def minBouquets(bloomday,m,k):\n",
    "    \n",
    "    "
   ]
  }
 ],
 "metadata": {
  "kernelspec": {
   "display_name": "Python 3 (ipykernel)",
   "language": "python",
   "name": "python3"
  },
  "language_info": {
   "codemirror_mode": {
    "name": "ipython",
    "version": 3
   },
   "file_extension": ".py",
   "mimetype": "text/x-python",
   "name": "python",
   "nbconvert_exporter": "python",
   "pygments_lexer": "ipython3",
   "version": "3.10.6"
  }
 },
 "nbformat": 4,
 "nbformat_minor": 5
}
