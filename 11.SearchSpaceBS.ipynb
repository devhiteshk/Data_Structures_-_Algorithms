{
 "cells": [
  {
   "cell_type": "markdown",
   "id": "1332cc6e",
   "metadata": {},
   "source": [
    "#### Given an integer x, find the square root of x. If x is not a perfect square, then return floor(√x).\n",
    "\n",
    "```py\n",
    "Example 1:\n",
    "\n",
    "Input:\n",
    "x = 5\n",
    "Output: 2\n",
    "Explanation: Since, 5 is not a perfect \n",
    "square, floor of square_root of 5 is 2.\n",
    "Example 2:\n",
    "\n",
    "Input:\n",
    "x = 4\n",
    "Output: 2\n",
    "Explanation: Since, 4 is a perfect \n",
    "square, so its square root is 2.\n",
    "```"
   ]
  },
  {
   "cell_type": "code",
   "execution_count": 34,
   "id": "748dd490",
   "metadata": {},
   "outputs": [
    {
     "data": {
      "text/plain": [
       "3"
      ]
     },
     "execution_count": 34,
     "metadata": {},
     "output_type": "execute_result"
    }
   ],
   "source": [
    "# BRUTE FORCE METHOD X**0.5\n",
    "\n",
    "# Optimized method using binary search\n",
    "\n",
    "def getSqRoot(N):\n",
    "\n",
    "    low = 1\n",
    "    high = N\n",
    "    ans = 1\n",
    "    \n",
    "    if (N == 0 or N == 1):\n",
    "        return N\n",
    "    \n",
    "    while low <= high:\n",
    "        mid = (low + high)//2\n",
    "        \n",
    "        if mid*mid == N:\n",
    "            return mid\n",
    "        \n",
    "        if mid*mid <= N:\n",
    "            low = mid + 1\n",
    "            ans = mid\n",
    "            \n",
    "        else:\n",
    "            high = mid - 1\n",
    "            \n",
    "    return ans\n",
    "              \n",
    "getSqRoot(11)\n",
    "        \n",
    "    "
   ]
  },
  {
   "cell_type": "code",
   "execution_count": null,
   "id": "feb2f0bf",
   "metadata": {},
   "outputs": [],
   "source": []
  }
 ],
 "metadata": {
  "kernelspec": {
   "display_name": "Python 3 (ipykernel)",
   "language": "python",
   "name": "python3"
  },
  "language_info": {
   "codemirror_mode": {
    "name": "ipython",
    "version": 3
   },
   "file_extension": ".py",
   "mimetype": "text/x-python",
   "name": "python",
   "nbconvert_exporter": "python",
   "pygments_lexer": "ipython3",
   "version": "3.9.13"
  }
 },
 "nbformat": 4,
 "nbformat_minor": 5
}
