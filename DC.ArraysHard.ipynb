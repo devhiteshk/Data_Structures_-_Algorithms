{
 "cells": [
  {
   "cell_type": "markdown",
   "metadata": {},
   "source": [
    "#### Given an integer N, return the first N rows of Pascal’s triangle.\n",
    "\n",
    "```py\n",
    "Input Format: N = 5\n",
    "\n",
    "Result:\n",
    "    1\n",
    "   1 1\n",
    "  1 2 1\n",
    " 1 3 3 1\n",
    "1 4 6 4 1\n",
    "\n",
    "Explanation: There are 5 rows in the output matrix. Each row corresponds to each one of the rows in the image shown above.\n",
    "```"
   ]
  },
  {
   "cell_type": "code",
   "execution_count": 5,
   "metadata": {},
   "outputs": [
    {
     "data": {
      "text/plain": [
       "[[1],\n",
       " [1, 1],\n",
       " [1, 2, 1],\n",
       " [1, 3, 3, 1],\n",
       " [1, 4, 6, 4, 1],\n",
       " [1, 5, 10, 10, 5, 1],\n",
       " [1, 6, 15, 20, 15, 6, 1]]"
      ]
     },
     "execution_count": 5,
     "metadata": {},
     "output_type": "execute_result"
    }
   ],
   "source": [
    "# O(N^2) Time and Space Complexity\n",
    "def calculate_row(array):\n",
    "        next_row = []\n",
    "        next_row.append(1)\n",
    "\n",
    "        for i in range(len(array) - 1):\n",
    "            next_row.append(array[i] + array[i + 1])\n",
    "\n",
    "        next_row.append(1)\n",
    "        return next_row\n",
    "    \n",
    "    \n",
    "    \n",
    "def generate(numRows):\n",
    "        res = [[1]]\n",
    "\n",
    "        if numRows == 1:\n",
    "            return res\n",
    "        \n",
    "        for i in range(numRows - 1):\n",
    "            res.append(calculate_row(res[i]))\n",
    "        \n",
    "        return res     \n",
    "\n",
    "\n",
    "N = 7\n",
    "generate(N)"
   ]
  },
  {
   "cell_type": "markdown",
   "metadata": {},
   "source": [
    "#### Given an array of N integers. Find the elements that appear more than N/3 times in the array. If no such element exists, return an empty vector.\n",
    "\n",
    "```py\n",
    "Example 1:\n",
    "\n",
    "Input: N = 5, array[] = {1,2,2,3,2}\n",
    "\n",
    "Ouput: 2\n",
    "\n",
    "Explanation: Here we can see that the Count(1) = 1, Count(2) = 3 and Count(3) = 1.Therefore, the count of 2 is greater than N/3 times. Hence, 2 is the answer.\n",
    "\n",
    "Example 2:\n",
    "\n",
    "Input:  N = 6, array[] = {11,33,33,11,33,11}\n",
    "\n",
    "Output: 11 33\n",
    "\n",
    "Explanation: Here we can see that the Count(11) = 3 and Count(33) = 3. Therefore, the count of both 11 and 33 is greater than N/3 times. Hence, 11 and 33 is the answer.\n",
    "```"
   ]
  },
  {
   "cell_type": "code",
   "execution_count": null,
   "metadata": {},
   "outputs": [],
   "source": []
  }
 ],
 "metadata": {
  "kernelspec": {
   "display_name": "Python 3.10.7 64-bit",
   "language": "python",
   "name": "python3"
  },
  "language_info": {
   "codemirror_mode": {
    "name": "ipython",
    "version": 3
   },
   "file_extension": ".py",
   "mimetype": "text/x-python",
   "name": "python",
   "nbconvert_exporter": "python",
   "pygments_lexer": "ipython3",
   "version": "3.10.7"
  },
  "orig_nbformat": 4,
  "vscode": {
   "interpreter": {
    "hash": "369f2c481f4da34e4445cda3fffd2e751bd1c4d706f27375911949ba6bb62e1c"
   }
  }
 },
 "nbformat": 4,
 "nbformat_minor": 2
}
