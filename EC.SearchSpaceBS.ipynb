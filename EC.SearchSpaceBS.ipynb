{
 "cells": [
  {
   "cell_type": "markdown",
   "id": "1332cc6e",
   "metadata": {},
   "source": [
    "#### Given an integer x, find the square root of x. If x is not a perfect square, then return floor(√x).\n",
    "\n",
    "```py\n",
    "Example 1:\n",
    "\n",
    "Input:\n",
    "x = 5\n",
    "Output: 2\n",
    "Explanation: Since, 5 is not a perfect \n",
    "square, floor of square_root of 5 is 2.\n",
    "Example 2:\n",
    "\n",
    "Input:\n",
    "x = 4\n",
    "Output: 2\n",
    "Explanation: Since, 4 is a perfect \n",
    "square, so its square root is 2.\n",
    "```"
   ]
  },
  {
   "cell_type": "code",
   "execution_count": 34,
   "id": "748dd490",
   "metadata": {},
   "outputs": [
    {
     "data": {
      "text/plain": [
       "3"
      ]
     },
     "execution_count": 34,
     "metadata": {},
     "output_type": "execute_result"
    }
   ],
   "source": [
    "# BRUTE FORCE METHOD X**0.5\n",
    "\n",
    "# Optimized method using binary search\n",
    "\n",
    "def getSqRoot(N):\n",
    "\n",
    "    low = 1\n",
    "    high = N\n",
    "    ans = 1\n",
    "    \n",
    "    if (N == 0 or N == 1):\n",
    "        return N\n",
    "    \n",
    "    while low <= high:\n",
    "        mid = (low + high)//2\n",
    "        \n",
    "        if mid*mid == N:\n",
    "            return mid\n",
    "        \n",
    "        if mid*mid <= N:\n",
    "            low = mid + 1\n",
    "            ans = mid\n",
    "            \n",
    "        else:\n",
    "            high = mid - 1\n",
    "            \n",
    "    return ans\n",
    "              \n",
    "getSqRoot(11)\n",
    "        \n",
    "    "
   ]
  },
  {
   "cell_type": "markdown",
   "id": "8eacc7aa",
   "metadata": {},
   "source": [
    "#### The nth root of a number M is defined as a number X when raised to the power N equals M.\n",
    "\n",
    "```py\n",
    "Example 1:\n",
    "\n",
    "Input: N=3 M=27\n",
    "\n",
    "Output: 3\n",
    "\n",
    "Explanation: The cube root of 27 is 3.\n",
    "Example 2:\n",
    "\n",
    "Input: N=2 M=16\n",
    "\n",
    "Output: 4\n",
    "\n",
    "Explanation: The square root of 16 is 4\n",
    "```"
   ]
  },
  {
   "cell_type": "code",
   "execution_count": 4,
   "id": "44de5118",
   "metadata": {},
   "outputs": [
    {
     "data": {
      "text/plain": [
       "4"
      ]
     },
     "execution_count": 4,
     "metadata": {},
     "output_type": "execute_result"
    }
   ],
   "source": [
    "# Brute force method is to run a loop till M/N and check each case\n",
    "\n",
    "def getNthRoot(N,M): # T.C. = O(N) & S.C O(1)\n",
    "    \n",
    "    Range = M//N + 1\n",
    "    \n",
    "    for i in range(Range):\n",
    "        if i**N == M:\n",
    "            return i\n",
    "        \n",
    "    return -1\n",
    "\n",
    "getNthRoot(2,16)\n",
    "        "
   ]
  },
  {
   "cell_type": "code",
   "execution_count": 13,
   "id": "6bb3593b",
   "metadata": {},
   "outputs": [
    {
     "data": {
      "text/plain": [
       "9"
      ]
     },
     "execution_count": 13,
     "metadata": {},
     "output_type": "execute_result"
    }
   ],
   "source": [
    "# Optimized method is to use Binary Search\n",
    "\n",
    "def getNthRootBS(N,M): # T.C. O(log(N)) & S.C O(1)\n",
    "    \n",
    "    if M == 1:\n",
    "        return 1\n",
    "    \n",
    "    R = M//N + 1\n",
    "    \n",
    "    low = 1\n",
    "    high = R\n",
    "    \n",
    "    while low <= high:\n",
    "        \n",
    "        mid = (low + high)//2\n",
    "        \n",
    "        if mid**N == M:\n",
    "            return mid\n",
    "        \n",
    "        elif mid**N > M:\n",
    "            high = mid - 1\n",
    "            \n",
    "        else:\n",
    "            low = mid + 1\n",
    "            \n",
    "    return -1\n",
    "        \n",
    "\n",
    "getNthRootBS(2,81)"
   ]
  },
  {
   "cell_type": "markdown",
   "id": "7f427aca",
   "metadata": {},
   "source": [
    "#### Given N piles of bananas, the ith pile has piles[i] bananas and H hours time until guards return (N < H). Find the minimum (S) bananas to eat per hour such that Koko can eat all the bananas within H hours. Each hour, Koko chooses some pile of bananas and eats S bananas from that pile. If the pile has less than S bananas, then she consumes all of them, and wont eat any more bananas during that hour. \n",
    "\n",
    "```py\n",
    "Example 1:\n",
    "Input:\n",
    "n = 4\n",
    "piles = [3, 6, 7, 11]\n",
    "H = 8\n",
    "Output:\n",
    "4\n",
    "\n",
    "Example 2:\n",
    "Input:\n",
    "n = 5\n",
    "piles = [30, 11, 23, 4, 20]\n",
    "H = 5\n",
    "Output:\n",
    "30\n",
    "```\n"
   ]
  },
  {
   "cell_type": "code",
   "execution_count": 17,
   "id": "1883b185",
   "metadata": {},
   "outputs": [
    {
     "data": {
      "text/plain": [
       "30"
      ]
     },
     "execution_count": 17,
     "metadata": {},
     "output_type": "execute_result"
    }
   ],
   "source": [
    "# Optimized Solution\n",
    "import math\n",
    "\n",
    "def kokoBanana(n,piles,H):  #O(n(log(n)))\n",
    "    l = 0\n",
    "    r = max(piles)\n",
    "    \n",
    "    res = max(piles)\n",
    "    \n",
    "    while l <= r:\n",
    "        \n",
    "        m = (l+r)//2\n",
    "        \n",
    "        total = 0\n",
    "        \n",
    "        for p in piles:\n",
    "\n",
    "            total += math.ceil(p/m)\n",
    "            \n",
    "        if total <= H:\n",
    "            res = min(res,m)\n",
    "            \n",
    "            r = m - 1\n",
    "        else:\n",
    "            l = m + 1\n",
    "            \n",
    "    return res\n",
    "\n",
    "n = 5\n",
    "piles = [30, 11, 23, 4, 20]\n",
    "H = 5\n",
    "\n",
    "kokoBanana(n,piles,H)\n",
    "            \n",
    "    "
   ]
  },
  {
   "cell_type": "markdown",
   "id": "89c90bb1",
   "metadata": {},
   "source": [
    "#### You are given an integer array bloomDay, an integer m and an integer k.\n",
    "\n",
    "#### You want to make m bouquets. To make a bouquet, you need to use k adjacent flowers from the garden.\n",
    "\n",
    "#### The garden consists of n flowers, the ith flower will bloom in the bloomDay[i] and then can be used in exactly one bouquet.\n",
    "\n",
    "#### Return the minimum number of days you need to wait to be able to make m bouquets from the garden. If it is impossible to make m bouquets return -1.\n",
    "\n",
    " \n",
    "```PY\n",
    "Example 1:\n",
    "\n",
    "Input: bloomDay = [1,10,3,10,2], m = 3, k = 1\n",
    "Output: 3\n",
    "Explanation: Let us see what happened in the first three days. x means flower bloomed and _ means flower did not bloom in the garden.\n",
    "We need 3 bouquets each should contain 1 flower.\n",
    "After day 1: [x, _, _, _, _]   // we can only make one bouquet.\n",
    "After day 2: [x, _, _, _, x]   // we can only make two bouquets.\n",
    "After day 3: [x, _, x, _, x]   // we can make 3 bouquets. The answer is 3.\n",
    "Example 2:\n",
    "\n",
    "Input: bloomDay = [1,10,3,10,2], m = 3, k = 2\n",
    "Output: -1\n",
    "Explanation: We need 3 bouquets each has 2 flowers, that means we need 6 flowers. We only have 5 flowers so it is impossible to get the needed bouquets and we return -1.\n",
    "Example 3:\n",
    "\n",
    "Input: bloomDay = [7,7,7,7,12,7,7], m = 2, k = 3\n",
    "Output: 12\n",
    "Explanation: We need 2 bouquets each should have 3 flowers.\n",
    "Here is the garden after the 7 and 12 days:\n",
    "After day 7: [x, x, x, x, _, x, x]\n",
    "We can make one bouquet of the first three flowers that bloomed. We cannot make another bouquet from the last three flowers that bloomed because they are not adjacent.\n",
    "After day 12: [x, x, x, x, x, x, x]\n",
    "It is obvious that we can make two bouquets in different ways.\n",
    "```"
   ]
  },
  {
   "cell_type": "code",
   "execution_count": 5,
   "id": "96ce7a94",
   "metadata": {},
   "outputs": [
    {
     "name": "stdout",
     "output_type": "stream",
     "text": [
      "3\n"
     ]
    }
   ],
   "source": [
    "# Optimized method\n",
    "def feasible(days, bloomDay, m,k):\n",
    "        bonquets, flowers = 0, 0\n",
    "        for bloom in bloomDay:\n",
    "            if bloom > days:\n",
    "                flowers = 0\n",
    "            else:\n",
    "                bonquets += (flowers + 1) // k\n",
    "                flowers = (flowers + 1) % k\n",
    "        return bonquets >= m\n",
    "\n",
    "\n",
    "def minBouquets(bloomDay,m,k):\n",
    "\n",
    "    if len(bloomDay) < m * k:\n",
    "        return -1\n",
    "\n",
    "    left, right = 1, max(bloomDay)\n",
    "\n",
    "    while left < right:\n",
    "        mid = left + (right - left) // 2\n",
    "        \n",
    "        if feasible(mid, bloomDay,m,k):\n",
    "            right = mid\n",
    "        \n",
    "        else:\n",
    "            left = mid + 1\n",
    "    \n",
    "    return left\n",
    "\n",
    "bloomDay = [1,10,3,10,2]\n",
    "m = 3\n",
    "k = 1\n",
    "\n",
    "print(minBouquets(bloomDay,m,k))\n",
    "    "
   ]
  },
  {
   "cell_type": "markdown",
   "id": "d89cdd7d",
   "metadata": {},
   "source": [
    "#### Given an array of integers nums and an integer threshold, we will choose a positive integer divisor, divide all the array by it, and sum the division's result. Find the smallest divisor such that the result mentioned above is less than or equal to threshold.\n",
    "\n",
    "#### Each result of the division is rounded to the nearest integer greater than or equal to that element. (For example: 7/3 = 3 and 10/2 = 5).\n",
    "\n",
    "```py\n",
    "\n",
    "Example 1:\n",
    "\n",
    "Input: nums = [1,2,5,9], threshold = 6\n",
    "Output: 5\n",
    "Explanation: We can get a sum to 17 (1+2+5+9) if the divisor is 1. \n",
    "If the divisor is 4 we can get a sum of 7 (1+1+2+3) and if the divisor is 5 the sum will be 5 (1+1+1+2). \n",
    "Example 2:\n",
    "\n",
    "Input: nums = [44,22,33,11,1], threshold = 5\n",
    "Output: 44\n",
    "```"
   ]
  },
  {
   "cell_type": "code",
   "execution_count": 2,
   "id": "d3130a18",
   "metadata": {},
   "outputs": [],
   "source": [
    "class Solution:       # Optimized Approach O(nlog(n))\n",
    "    def smallestDivisor(self, nums):\n",
    "        \n",
    "        def find_division_sum(divisor):\n",
    "            result = 0\n",
    "            for num in nums:\n",
    "                result += ceil((1.0*num)/divisor)\n",
    "            return result\n",
    "        \n",
    "        \n",
    "        ans = -1\n",
    "        low = 1\n",
    "        high = max(nums)\n",
    "        \n",
    "        \n",
    "        while low <= high:\n",
    "            mid = (low+high)//2\n",
    "            \n",
    "            result = find_division_sum(mid)\n",
    "            \n",
    "            if result <= threshold:\n",
    "                ans = mid\n",
    "                \n",
    "                high = mid - 1\n",
    "                \n",
    "            else:\n",
    "                low = mid + 1\n",
    "                \n",
    "        return ans"
   ]
  },
  {
   "cell_type": "code",
   "execution_count": null,
   "id": "187c49b7",
   "metadata": {},
   "outputs": [],
   "source": []
  }
 ],
 "metadata": {
  "kernelspec": {
   "display_name": "Python 3 (ipykernel)",
   "language": "python",
   "name": "python3"
  },
  "language_info": {
   "codemirror_mode": {
    "name": "ipython",
    "version": 3
   },
   "file_extension": ".py",
   "mimetype": "text/x-python",
   "name": "python",
   "nbconvert_exporter": "python",
   "pygments_lexer": "ipython3",
   "version": "3.9.12"
   "version": "3.9.13"
  },
  "vscode": {
   "interpreter": {
    "hash": "369f2c481f4da34e4445cda3fffd2e751bd1c4d706f27375911949ba6bb62e1c"
   }
  }
 },
 "nbformat": 4,
 "nbformat_minor": 5
}
