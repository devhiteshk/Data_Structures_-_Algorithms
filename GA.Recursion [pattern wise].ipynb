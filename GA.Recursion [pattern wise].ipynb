{
 "cells": [
  {
   "cell_type": "markdown",
   "id": "84ba2da0",
   "metadata": {},
   "source": [
    "#### 1. Implement Pow(x,n) | X raised to the power N\n",
    "\n",
    "Problem Statement: Given a double x and integer n, calculate x raised to power n. Basically Implement pow(x, n).\n",
    "```py\n",
    "Examples:\n",
    "\n",
    "Example 1:\n",
    "\n",
    "Input: x = 2.00000, n = 10\n",
    "\n",
    "Output: 1024.00000\n",
    "\n",
    "Explanation: You need to calculate 2.00000 raised to 10 which gives ans 1024.00000\n",
    "\n",
    "Example 2:\n",
    "\n",
    "Input: x = 2.10000, n = 3\n",
    "\n",
    "Output: 9.26100\n",
    "\n",
    "Explanation: You need to calculate 2.10000 raised to 3 which gives ans 9.26100\n",
    "```"
   ]
  },
  {
   "cell_type": "code",
   "execution_count": 7,
   "id": "458604cb",
   "metadata": {},
   "outputs": [
    {
     "name": "stdout",
     "output_type": "stream",
     "text": [
      "2097152\n",
      "2097152\n"
     ]
    }
   ],
   "source": [
    "# O(n) T.C. not optimized\n",
    "\n",
    "def X_pow_n(x,n):\n",
    "    if n <= 0:\n",
    "        return 1\n",
    "    else: \n",
    "        return x*X_pow_n(x, n-1)\n",
    "\n",
    "\n",
    "# O(log(n)) T.C. O(1) S.C. optimized solution\n",
    "def X_pow_nOP(x,n):\n",
    "    ans = 1\n",
    "    t = n\n",
    "    if t<0:\n",
    "        t = t * -1\n",
    "    while t:\n",
    "        if t%2 == 1:\n",
    "            ans *= x\n",
    "            t -= 1\n",
    "        else:\n",
    "            x *= x\n",
    "            t /= 2\n",
    "\n",
    "    if n<0: \n",
    "        ans = 1/ans;\n",
    "    return ans\n",
    "\n",
    "    \n",
    "x = 2\n",
    "n = 21\n",
    "\n",
    "print(X_pow_n(x,n))\n",
    "print(X_pow_nOP(x,n))"
   ]
  },
  {
   "cell_type": "markdown",
   "id": "d56ad05d",
   "metadata": {},
   "source": [
    "#### 2. Count Good Numbers\n",
    "\n",
    "A digit string is good if the digits (0-indexed) at even indices are even and the digits at odd indices are prime (2, 3, 5, or 7).\n",
    "\n",
    "    For example, \"2582\" is good because the digits (2 and 8) at even positions are even and the digits (5 and 2) at odd positions are prime. However, \"3245\" is not good because 3 is at an even index but is not even.\n",
    "\n",
    "Given an integer n, return the total number of good digit strings of length n. Since the answer may be large, return it modulo 10^9 + 7.\n",
    "\n",
    "A digit string is a string consisting of digits 0 through 9 that may contain leading zeros.\n",
    "```py\n",
    "\n",
    "Example 1:\n",
    "\n",
    "Input: n = 1\n",
    "Output: 5\n",
    "Explanation: The good numbers of length 1 are \"0\", \"2\", \"4\", \"6\", \"8\".\n",
    "\n",
    "Example 2:\n",
    "\n",
    "Input: n = 4\n",
    "Output: 400\n",
    "\n",
    "Example 3:\n",
    "\n",
    "Input: n = 50\n",
    "Output: 564908303\n",
    "```"
   ]
  },
  {
   "cell_type": "code",
   "execution_count": 12,
   "id": "f1dacc32",
   "metadata": {},
   "outputs": [
    {
     "data": {
      "text/plain": [
       "787558600"
      ]
     },
     "execution_count": 12,
     "metadata": {},
     "output_type": "execute_result"
    }
   ],
   "source": [
    "def count_good_numbers(n):\n",
    "        MOD = 10 ** 9 + 7\n",
    "\n",
    "        good = 5 ** (n % 2)\n",
    "\n",
    "        x = 4 * 5\n",
    "        \n",
    "        i = n // 2\n",
    "        \n",
    "        while i > 0:\n",
    "        \n",
    "            if i % 2 == 1:\n",
    "        \n",
    "                good = good * x % MOD\n",
    "        \n",
    "            x = x * x % MOD\n",
    "        \n",
    "            i //= 2\n",
    "        \n",
    "        return good\n",
    "\n",
    "n = 8947389678438\n",
    "count_good_numbers(n)"
   ]
  },
  {
   "cell_type": "markdown",
   "id": "a4b81f9a",
   "metadata": {},
   "source": [
    "#### 3. Generate all binary strings\n",
    "\n",
    "Given an integer N , generate all binary strings of size N which do not contain consecutive 1s.\n",
    "\n",
    "A binary string is that string which contains only 0 and 1.\n",
    "```py\n",
    "Example 1:\n",
    "\n",
    "Input:\n",
    "N = 3\n",
    "Output:\n",
    "000 , 001 , 010 , 100 , 101\n",
    "Explanation:\n",
    "None of the above strings contain consecutive 1s. \"110\" is not an answer as it has '1's occuring consecutively. \n",
    "```"
   ]
  },
  {
   "cell_type": "code",
   "execution_count": 5,
   "id": "0024fbf4",
   "metadata": {},
   "outputs": [],
   "source": [
    "def generateBinary(n):\n",
    "    i = 0\n",
    "    str = ''\n",
    "    ans = []\n",
    "    helper(str, i, n, ans)\n",
    "    return ans\n",
    "\n",
    "\n",
    "def helper(str, i, n, ans):\n",
    "    if i == n:\n",
    "        ans.append(str)\n",
    "        return\n",
    "    \n",
    "    if len(str) == 0 or str[i-1] == '0':\n",
    "        helper(str+'0',i+1,n,ans)\n",
    "        helper(str+'1',i+1,n,ans)\n",
    "        \n",
    "    else:\n",
    "        helper(str+'0', i+1, n, ans)\n",
    "    "
   ]
  },
  {
   "cell_type": "code",
   "execution_count": 6,
   "id": "519e513a",
   "metadata": {},
   "outputs": [
    {
     "data": {
      "text/plain": [
       "['00000',\n",
       " '00001',\n",
       " '00010',\n",
       " '00100',\n",
       " '00101',\n",
       " '01000',\n",
       " '01001',\n",
       " '01010',\n",
       " '10000',\n",
       " '10001',\n",
       " '10010',\n",
       " '10100',\n",
       " '10101']"
      ]
     },
     "execution_count": 6,
     "metadata": {},
     "output_type": "execute_result"
    }
   ],
   "source": [
    "generateBinary(5)"
   ]
  },
  {
   "cell_type": "markdown",
   "id": "5447dcc7",
   "metadata": {},
   "source": [
    "#### 4. Generate Parentheses\n",
    "\n",
    "Given an integer N representing the number of pairs of parentheses, the task is to generate all combinations of well-formed(balanced) parentheses.\n",
    "\n",
    "```py\n",
    "Example 1:\n",
    "\n",
    "Input:\n",
    "N = 3\n",
    "Output:\n",
    "((()))\n",
    "(()())\n",
    "(())()\n",
    "()(())\n",
    "()()()\n",
    "```"
   ]
  },
  {
   "cell_type": "code",
   "execution_count": 9,
   "id": "70ca5fc2",
   "metadata": {},
   "outputs": [
    {
     "data": {
      "text/plain": [
       "['((()))', '(()())', '(())()', '()(())', '()()()']"
      ]
     },
     "execution_count": 9,
     "metadata": {},
     "output_type": "execute_result"
    }
   ],
   "source": [
    "def generateParenthesis(n):\n",
    "    \n",
    "    def generate(p, left, right, parens=[]):\n",
    "        \n",
    "        if left:         generate(p + '(', left-1, right)\n",
    "            \n",
    "        if right > left: generate(p + ')', left, right-1)\n",
    "            \n",
    "        if not right:    parens += p,\n",
    "            \n",
    "        return parens\n",
    "    \n",
    "    return generate('', n, n)\n",
    "\n",
    "generateParenthesis(3)"
   ]
  },
  {
   "cell_type": "markdown",
   "id": "3417cde0",
   "metadata": {},
   "source": [
    "#### 5. Power Set: Print all the possible subsequences of the String\n",
    "\n",
    "Problem Statement: Given a string, find all the possible subsequences of the string.\n",
    "\n",
    "```py\n",
    "Examples:\n",
    "\n",
    "Example 1:\n",
    "Input: str = \"abc\"\n",
    "Output: a ab abc ac b bc c\n",
    "Explanation: Printing all the 7 subsequence for the string \"abc\".\n",
    "\n",
    "Example 2:\n",
    "Input: str = \"aa\"\n",
    "Output: a a aa \n",
    "Explanation: Printing all the 3 subsequences for the string \"aa\"\n",
    "```"
   ]
  },
  {
   "cell_type": "code",
   "execution_count": 20,
   "id": "d06de208",
   "metadata": {},
   "outputs": [],
   "source": [
    "# T.C. O(2^n) S.C. O(1)\n",
    "\n",
    "def helper(i,s,f):\n",
    "    if(i == len(s)):\n",
    "        print(f, end =\" \")\n",
    "        return\n",
    "    \n",
    "    f += s[i]\n",
    "    helper(i + 1, s , f)\n",
    "    f = f[0:-1]\n",
    "    helper(i + 1, s , f)\n",
    "\n",
    "\n",
    "def printallsubseq(s):\n",
    "    f = \"\"\n",
    "    return helper(0,s,f)"
   ]
  },
  {
   "cell_type": "code",
   "execution_count": 21,
   "id": "47211c4f",
   "metadata": {},
   "outputs": [
    {
     "name": "stdout",
     "output_type": "stream",
     "text": [
      "abc ab ac a bc b c  "
     ]
    }
   ],
   "source": [
    "s = \"abc\"\n",
    "\n",
    "printallsubseq(s)"
   ]
  },
  {
   "cell_type": "markdown",
   "id": "2386ff3a",
   "metadata": {},
   "source": [
    "#### 6. Better String\n",
    "\n",
    "```py\n",
    "Given a pair of strings, Geek wants to find the better string. The better string is the string having more number of distinct subsequences.\n",
    "\n",
    "If both the strings have equal count of distinct subsequence then return str1.\n",
    "\n",
    "Example 1:\n",
    "\n",
    "Input:\n",
    "str1 = \"gfg\", str2 = \"ggg\"\n",
    "Output: \"gfg\"\n",
    "Explanation: \"gfg\" have 7 distinct subsequences whereas \"ggg\" have 4 distinct subsequences. \n",
    "\n",
    "Example 2:\n",
    "\n",
    "Input: str1 = \"a\", str2 = \"b\"\n",
    "Output: \"a\"\n",
    "Explanation: Both the strings have only 1 distinct subsequence. \n",
    "```"
   ]
  },
  {
   "cell_type": "markdown",
   "id": "c9429380",
   "metadata": {},
   "source": [
    "\n",
    "```c++\n",
    "// User function Template for C++\n",
    "\n",
    "class Solution {\n",
    "  public:\n",
    "     int countSub(string str) {\n",
    "        // Create an array to store index\n",
    "        // of last\n",
    "        vector<int> last(256, -1);\n",
    "\n",
    "        // Length of input string\n",
    "        int n = str.length();\n",
    "\n",
    "        // dp[i] is going to store count of distinct\n",
    "        // subsequences of length i.\n",
    "        int dp[n + 1];\n",
    "\n",
    "        // Empty substring has only one subsequence\n",
    "        dp[0] = 1;\n",
    "        unordered_map<char,int> mp;\n",
    "\n",
    "        // Traverse through all lengths from 1 to n.\n",
    "        for (int i = 1; i <= n; i++) {\n",
    "            // Number of subsequences with substring\n",
    "            // str[0..i-1]\n",
    "            dp[i] = 2 * dp[i - 1];\n",
    "\n",
    "            // If current character has appeared\n",
    "            // before, then remove all subsequences\n",
    "            // ending with previous occurrence.\n",
    "            char ch=str[i-1];\n",
    "            if (mp.find(ch)!=mp.end()) {\n",
    "                int pos=mp[ch];\n",
    "                dp[i] = dp[i] - dp[pos-1];\n",
    "            }\n",
    "\n",
    "            // Mark occurrence of current character\n",
    "           mp[ch]=i;\n",
    "        }\n",
    "\n",
    "        return dp[n];\n",
    "    }\n",
    "    string betterString(string str1, string str2) {\n",
    "        int a = countSub(str1), b = countSub(str2);\n",
    "        if (a < b) return str2;\n",
    "        return str1;\n",
    "    }\n",
    "};\n",
    "```"
   ]
  },
  {
   "cell_type": "markdown",
   "id": "1722ec09",
   "metadata": {},
   "source": [
    "#### 7. Perfect Sum Problem\n",
    "\n",
    "```py\n",
    "Given an array arr[] of non-negative integers and an integer sum, the task is to count all subsets of the given array with a sum equal to a given sum.\n",
    "\n",
    "Note: Answer can be very large, so, output answer modulo 109+7\n",
    "\n",
    "Example 1:\n",
    "\n",
    "Input: N = 6, arr[] = {2, 3, 5, 6, 8, 10}\n",
    "       sum = 10\n",
    "Output: 3\n",
    "Explanation: {2, 3, 5}, {2, 8}, {10}\n",
    "\n",
    "Example 2:\n",
    "\n",
    "Input: N = 5, arr[] = {1, 2, 3, 4, 5}\n",
    "       sum = 10\n",
    "Output: 3\n",
    "Explanation: {1, 2, 3, 4}, {1, 4, 5}, \n",
    "             {2, 3, 5}\n",
    "```"
   ]
  },
  {
   "cell_type": "code",
   "execution_count": 78,
   "id": "a4aa63b4",
   "metadata": {},
   "outputs": [
    {
     "data": {
      "text/plain": [
       "3"
      ]
     },
     "execution_count": 78,
     "metadata": {},
     "output_type": "execute_result"
    }
   ],
   "source": [
    "def getSum(ind, arr, ans, ds):\n",
    "    if ind == len(arr):\n",
    "        ans.append(sum(ds))\n",
    "        return\n",
    "        \n",
    "    ds.append(arr[ind])\n",
    "    getSum(ind + 1, arr, ans, ds)\n",
    "    ds.pop()\n",
    "    getSum(ind + 1, arr, ans, ds)\n",
    "\n",
    "def sumSubset(arr, t):\n",
    "    ans = []\n",
    "    ds = []\n",
    "    count = 0\n",
    "    getSum(0,arr,ans, ds)\n",
    " \n",
    "    for i in ans:\n",
    "        if i == t:\n",
    "            count += 1\n",
    "    return count\n",
    "\n",
    "sumSubset([2, 3, 5, 6, 8, 10],10)"
   ]
  },
  {
   "cell_type": "markdown",
   "id": "0af67ab6",
   "metadata": {},
   "source": [
    "#### 8. Combination Sum 2\n",
    "\n",
    "Given a collection of candidate numbers (candidates) and a target number (target), find all unique combinations in candidates where the candidate numbers sum to target.\n",
    "\n",
    "Each number in candidates may only be used once in the combination.\n",
    "\n",
    "Note: The solution set must not contain duplicate combinations.\n",
    "\n",
    " ```py\n",
    "Example 1:\n",
    "\n",
    "Input: candidates = [10,1,2,7,6,1,5], target = 8\n",
    "Output: \n",
    "[\n",
    "[1,1,6],\n",
    "[1,2,5],\n",
    "[1,7],\n",
    "[2,6]\n",
    "]\n",
    "\n",
    "Example 2:\n",
    "\n",
    "Input: candidates = [2,5,2,1,2], target = 5\n",
    "Output: \n",
    "[\n",
    "[1,2,2],\n",
    "[5]\n",
    "]\n",
    "```"
   ]
  },
  {
   "cell_type": "code",
   "execution_count": 62,
   "id": "e56c2a75",
   "metadata": {},
   "outputs": [
    {
     "data": {
      "text/plain": [
       "[[1, 1, 6], [1, 2, 5], [1, 7], [2, 6]]"
      ]
     },
     "execution_count": 62,
     "metadata": {},
     "output_type": "execute_result"
    }
   ],
   "source": [
    "def findCombinations2(ind, t, cand, ans, ds):\n",
    "    if t == 0:\n",
    "        ans.append(list(ds))\n",
    "        return \n",
    "    \n",
    "    i = ind\n",
    "    while i < len(cand):\n",
    "        if i > ind and cand[i] == cand[i - 1]:\n",
    "            i += 1\n",
    "            \n",
    "        elif cand[i]>t:\n",
    "            break\n",
    "        \n",
    "        else:\n",
    "            ds.append(cand[i])\n",
    "            findCombinations2(i + 1, t - cand[i], cand, ans, ds)\n",
    "            ds.pop()\n",
    "            i += 1\n",
    "        \n",
    "\n",
    "def CombinationSum2(candidates, target):\n",
    "    ans = []\n",
    "    ds = []\n",
    "    candidates.sort()\n",
    "    findCombinations2(0, target, candidates, ans, ds)\n",
    "    return ans\n",
    "\n",
    "candidates = [10,1,2,7,6,1,5] \n",
    "target = 8\n",
    "CombinationSum2(candidates, target)"
   ]
  },
  {
   "cell_type": "markdown",
   "id": "d3e49a4c",
   "metadata": {},
   "source": [
    "#### 9. Subset Sum : Sum of all Subsets\n",
    "\n",
    "Given an array print all the sum of the subset generated from it, in the increasing order.\n",
    "```py\n",
    "Examples:\n",
    "\n",
    "Example 1:\n",
    "\n",
    "Input: N = 3, arr[] = {5,2,1}\n",
    "\n",
    "Output: 0,1,2,3,5,6,7,8\n",
    "\n",
    "Explanation: We have to find all the subset’s sum and print them.in this case the generated subsets are [ [], [1], [2], [2,1], [5], [5,1], [5,2]. [5,2,1],so the sums we get will be  0,1,2,3,5,6,7,8\n",
    "\n",
    "\n",
    "Input: N=3,arr[]= {3,1,2}\n",
    "\n",
    "Output: 0,1,2,3,3,4,5,6\n",
    "\n",
    "Explanation: We have to find all the subset’s sum and print them.in this case the generated subsets are [ [], [1], [2], [2,1], [3], [3,1], [3,2]. [3,2,1],so the sums we get will be  0,1,2,3,3,4,5,6\n",
    "```"
   ]
  },
  {
   "cell_type": "code",
   "execution_count": 67,
   "id": "914ae756",
   "metadata": {},
   "outputs": [
    {
     "data": {
      "text/plain": [
       "[0, 1, 2, 3, 3, 4, 5, 6]"
      ]
     },
     "execution_count": 67,
     "metadata": {},
     "output_type": "execute_result"
    }
   ],
   "source": [
    "def getSum(ind, arr, ans, ds):\n",
    "    if ind == len(arr):\n",
    "        ans.append(sum(ds))\n",
    "        return\n",
    "        \n",
    "    ds.append(arr[ind])\n",
    "    getSum(ind + 1, arr, ans, ds)\n",
    "    ds.pop()\n",
    "    getSum(ind + 1, arr, ans, ds)\n",
    "\n",
    "def sumSubset(arr):\n",
    "    ans = []\n",
    "    ds = []\n",
    "    getSum(0,arr,ans, ds)\n",
    "    ans.sort()\n",
    "    return ans\n",
    "\n",
    "sumSubset([3,1,2])"
   ]
  },
  {
   "cell_type": "markdown",
   "id": "62fe103a",
   "metadata": {},
   "source": [
    "#### 10. Print all the Unique Subsets\n",
    "\n",
    "Given an array of integers that may contain duplicates the task is to return all possible subsets. Return only unique subsets and they can be in any order.\n",
    "```py\n",
    "Examples:\n",
    "\n",
    "Example 1:\n",
    "\n",
    "Input: array[] = [1,2,2]\n",
    "\n",
    "Output: [ [ ],[1],[1,2],[1,2,2],[2],[2,2] ]\n",
    "\n",
    "Explanation: We can have subsets ranging from  length 0 to 3. which are listed above. Also the subset [1,2] appears twice\n",
    "but is printed only once as we require only unique subsets.\n",
    "\n",
    "Input: array[] = [1]\n",
    "\n",
    "Output: [ [ ], [1] ]\n",
    "\n",
    "Explanation: Only two unique subsets are available\n",
    "```"
   ]
  },
  {
   "cell_type": "code",
   "execution_count": 68,
   "id": "f29ec417",
   "metadata": {},
   "outputs": [
    {
     "data": {
      "text/plain": [
       "[[], [1], [1, 2], [2], [3], [3, 1], [3, 1, 2], [3, 2]]"
      ]
     },
     "execution_count": 68,
     "metadata": {},
     "output_type": "execute_result"
    }
   ],
   "source": [
    "def getSum(ind, arr, ans, ds):\n",
    "    if ind == len(arr):\n",
    "        ans.append(list(ds))\n",
    "        return\n",
    "        \n",
    "    ds.append(arr[ind])\n",
    "    getSum(ind + 1, arr, ans, ds)\n",
    "    ds.pop()\n",
    "    getSum(ind + 1, arr, ans, ds)\n",
    "\n",
    "def sumSubset(arr):\n",
    "    ans = []\n",
    "    ds = []\n",
    "    getSum(0,arr,ans, ds)\n",
    "    ans.sort()\n",
    "    return ans\n",
    "\n",
    "sumSubset([3,1,2])"
   ]
  },
  {
   "cell_type": "markdown",
   "id": "b38bfe42",
   "metadata": {},
   "source": [
    "#### 11.  Combination Sum III\n",
    "\n",
    "Find all valid combinations of k numbers that sum up to n such that the following conditions are true:\n",
    "\n",
    "Only numbers 1 through 9 are used.\n",
    "Each number is used at most once.\n",
    "Return a list of all possible valid combinations. The list must not contain the same combination twice, and the combinations may be returned in any order.\n",
    "\n",
    "```py\n",
    "Example 1:\n",
    "\n",
    "Input: k = 3, n = 7\n",
    "Output: [[1,2,4]]\n",
    "Explanation:\n",
    "1 + 2 + 4 = 7\n",
    "There are no other valid combinations.\n",
    "Example 2:\n",
    "\n",
    "Input: k = 3, n = 9\n",
    "Output: [[1,2,6],[1,3,5],[2,3,4]]\n",
    "Explanation:\n",
    "1 + 2 + 6 = 9\n",
    "1 + 3 + 5 = 9\n",
    "2 + 3 + 4 = 9\n",
    "There are no other valid combinations.\n",
    "Example 3:\n",
    "\n",
    "Input: k = 4, n = 1\n",
    "Output: []\n",
    "Explanation: There are no valid combinations.\n",
    "Using 4 different numbers in the range [1,9], the smallest sum we can get is 1+2+3+4 = 10 and since 10 > 1, there are no valid combination.\n",
    "```"
   ]
  },
  {
   "cell_type": "code",
   "execution_count": 3,
   "id": "ba269dde",
   "metadata": {},
   "outputs": [
    {
     "data": {
      "text/plain": [
       "[[1, 2, 6], [1, 3, 5], [2, 3, 4]]"
      ]
     },
     "execution_count": 3,
     "metadata": {},
     "output_type": "execute_result"
    }
   ],
   "source": [
    "def findsumk(ind, t, cand, ans, ds,k):\n",
    "    if t == 0 and len(ds)==k:\n",
    "        ans.append(list(ds))\n",
    "        return \n",
    "    \n",
    "    i = ind\n",
    "    while i < len(cand):\n",
    "        if i > ind and cand[i] == cand[i - 1]:\n",
    "            i += 1\n",
    "            \n",
    "        elif cand[i]>t:\n",
    "            break\n",
    "        \n",
    "        else:\n",
    "            ds.append(cand[i])\n",
    "            findsumk(i + 1, t - cand[i], cand, ans, ds,k)\n",
    "            ds.pop()\n",
    "            i += 1\n",
    "\n",
    "def combSum3(t_sum,k):\n",
    "    arr = [i for i in range(1,10)]\n",
    "    ans = []\n",
    "    ds = []\n",
    "    findsumk(0,t_sum,arr, ans, ds,k)\n",
    "    return ans\n",
    "    \n",
    "combSum3(9,3)"
   ]
  },
  {
   "cell_type": "markdown",
   "id": "6229d6a9",
   "metadata": {},
   "source": [
    "#### 12. Letter Combinations of a Phone Number\n",
    "\n",
    "Given a string containing digits from 2-9 inclusive, return all possible letter combinations that the number could represent. Return the answer in any order.\n",
    "\n",
    "A mapping of digits to letters (just like on the telephone buttons) is given below. Note that 1 does not map to any letters.\n",
    "```py\n",
    "Example 1:\n",
    "\n",
    "Input: digits = \"23\"\n",
    "Output: [\"ad\",\"ae\",\"af\",\"bd\",\"be\",\"bf\",\"cd\",\"ce\",\"cf\"]\n",
    "\n",
    "Example 2:\n",
    "\n",
    "Input: digits = \"\"\n",
    "Output: []\n",
    "\n",
    "Example 3:\n",
    "\n",
    "Input: digits = \"2\"\n",
    "Output: [\"a\",\"b\",\"c\"]\n",
    "```"
   ]
  },
  {
   "cell_type": "code",
   "execution_count": 16,
   "id": "4b95ffd6",
   "metadata": {},
   "outputs": [
    {
     "data": {
      "text/plain": [
       "['ad', 'ae', 'af', 'bd', 'be', 'bf', 'cd', 'ce', 'cf']"
      ]
     },
     "execution_count": 16,
     "metadata": {},
     "output_type": "execute_result"
    }
   ],
   "source": [
    "def getPhComb(ind, dig, ans, ds, dic):\n",
    "    if ind == len(dig):\n",
    "        ans.append(ds)\n",
    "        return\n",
    "    \n",
    "    s = dic[dig[ind]]\n",
    "    for j in range(len(s)):\n",
    "        ds += s[j]\n",
    "        getPhComb(ind + 1, dig, ans, ds, dic)\n",
    "        ds = ds[0:len(ds)-1]\n",
    "\n",
    "\n",
    "def combPhone(dig):\n",
    "    dic = {\n",
    "        '2':'abc',\n",
    "        '3':'def',\n",
    "        '4':'ghi',\n",
    "        '5':'kjl',\n",
    "        '6':'mno',\n",
    "        '7':'pqrs',\n",
    "        '8':'tuv',\n",
    "        '9':'wxyz'        \n",
    "        }\n",
    "    \n",
    "    ans = []\n",
    "    ds = \"\"\n",
    "    if len(dig) == 0:\n",
    "        return ans\n",
    "    else:\n",
    "        getPhComb(0, dig, ans, ds, dic)\n",
    "        return ans\n",
    "\n",
    "combPhone(\"23\")"
   ]
  }
 ],
 "metadata": {
  "kernelspec": {
   "display_name": "Python 3 (ipykernel)",
   "language": "python",
   "name": "python3"
  },
  "language_info": {
   "codemirror_mode": {
    "name": "ipython",
    "version": 3
   },
   "file_extension": ".py",
   "mimetype": "text/x-python",
   "name": "python",
   "nbconvert_exporter": "python",
   "pygments_lexer": "ipython3",
   "version": "3.9.12"
  }
 },
 "nbformat": 4,
 "nbformat_minor": 5
}
