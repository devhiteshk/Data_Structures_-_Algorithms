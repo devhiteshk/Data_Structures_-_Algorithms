{
 "cells": [
  {
   "cell_type": "markdown",
   "id": "84ba2da0",
   "metadata": {},
   "source": [
    "#### 1. Implement Pow(x,n) | X raised to the power N\n",
    "\n",
    "Problem Statement: Given a double x and integer n, calculate x raised to power n. Basically Implement pow(x, n).\n",
    "```py\n",
    "Examples:\n",
    "\n",
    "Example 1:\n",
    "\n",
    "Input: x = 2.00000, n = 10\n",
    "\n",
    "Output: 1024.00000\n",
    "\n",
    "Explanation: You need to calculate 2.00000 raised to 10 which gives ans 1024.00000\n",
    "\n",
    "Example 2:\n",
    "\n",
    "Input: x = 2.10000, n = 3\n",
    "\n",
    "Output: 9.26100\n",
    "\n",
    "Explanation: You need to calculate 2.10000 raised to 3 which gives ans 9.26100\n",
    "```"
   ]
  },
  {
   "cell_type": "code",
   "execution_count": 7,
   "id": "458604cb",
   "metadata": {},
   "outputs": [
    {
     "name": "stdout",
     "output_type": "stream",
     "text": [
      "2097152\n",
      "2097152\n"
     ]
    }
   ],
   "source": [
    "# O(n) T.C. not optimized\n",
    "\n",
    "def X_pow_n(x,n):\n",
    "    if n <= 0:\n",
    "        return 1\n",
    "    else: \n",
    "        return x*X_pow_n(x, n-1)\n",
    "\n",
    "\n",
    "# O(log(n)) T.C. O(1) S.C. optimized solution\n",
    "def X_pow_nOP(x,n):\n",
    "    ans = 1\n",
    "    t = n\n",
    "    if t<0:\n",
    "        t = t * -1\n",
    "    while t:\n",
    "        if t%2 == 1:\n",
    "            ans *= x\n",
    "            t -= 1\n",
    "        else:\n",
    "            x *= x\n",
    "            t /= 2\n",
    "\n",
    "    if n<0: \n",
    "        ans = 1/ans;\n",
    "    return ans\n",
    "\n",
    "    \n",
    "x = 2\n",
    "n = 21\n",
    "\n",
    "print(X_pow_n(x,n))\n",
    "print(X_pow_nOP(x,n))"
   ]
  },
  {
   "cell_type": "markdown",
   "id": "d56ad05d",
   "metadata": {},
   "source": [
    "#### 2. Count Good Numbers\n",
    "\n",
    "A digit string is good if the digits (0-indexed) at even indices are even and the digits at odd indices are prime (2, 3, 5, or 7).\n",
    "\n",
    "    For example, \"2582\" is good because the digits (2 and 8) at even positions are even and the digits (5 and 2) at odd positions are prime. However, \"3245\" is not good because 3 is at an even index but is not even.\n",
    "\n",
    "Given an integer n, return the total number of good digit strings of length n. Since the answer may be large, return it modulo 10^9 + 7.\n",
    "\n",
    "A digit string is a string consisting of digits 0 through 9 that may contain leading zeros.\n",
    "```py\n",
    "\n",
    "Example 1:\n",
    "\n",
    "Input: n = 1\n",
    "Output: 5\n",
    "Explanation: The good numbers of length 1 are \"0\", \"2\", \"4\", \"6\", \"8\".\n",
    "\n",
    "Example 2:\n",
    "\n",
    "Input: n = 4\n",
    "Output: 400\n",
    "\n",
    "Example 3:\n",
    "\n",
    "Input: n = 50\n",
    "Output: 564908303\n",
    "```"
   ]
  },
  {
   "cell_type": "code",
   "execution_count": 12,
   "id": "f1dacc32",
   "metadata": {},
   "outputs": [
    {
     "data": {
      "text/plain": [
       "787558600"
      ]
     },
     "execution_count": 12,
     "metadata": {},
     "output_type": "execute_result"
    }
   ],
   "source": [
    "def count_good_numbers(n):\n",
    "        MOD = 10 ** 9 + 7\n",
    "\n",
    "        good = 5 ** (n % 2)\n",
    "\n",
    "        x = 4 * 5\n",
    "        \n",
    "        i = n // 2\n",
    "        \n",
    "        while i > 0:\n",
    "        \n",
    "            if i % 2 == 1:\n",
    "        \n",
    "                good = good * x % MOD\n",
    "        \n",
    "            x = x * x % MOD\n",
    "        \n",
    "            i //= 2\n",
    "        \n",
    "        return good\n",
    "\n",
    "n = 8947389678438\n",
    "count_good_numbers(n)"
   ]
  }
 ],
 "metadata": {
  "kernelspec": {
   "display_name": "Python 3 (ipykernel)",
   "language": "python",
   "name": "python3"
  },
  "language_info": {
   "codemirror_mode": {
    "name": "ipython",
    "version": 3
   },
   "file_extension": ".py",
   "mimetype": "text/x-python",
   "name": "python",
   "nbconvert_exporter": "python",
   "pygments_lexer": "ipython3",
   "version": "3.9.12"
  }
 },
 "nbformat": 4,
 "nbformat_minor": 5
}
