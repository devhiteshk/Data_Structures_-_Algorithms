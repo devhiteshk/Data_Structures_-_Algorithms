{
 "cells": [
  {
   "cell_type": "markdown",
   "id": "d8be5fc0",
   "metadata": {},
   "source": [
    "#### 1. Remove outer parenthesis in balanced parantheis\n",
    "A valid parentheses string is either empty \"\", \"(\" + A + \")\", or A + B, where A and B are valid parentheses strings, and + represents string concatenation.\n",
    "\n",
    "    For example, \"\", \"()\", \"(())()\", and \"(()(()))\" are all valid parentheses strings.\n",
    "\n",
    "A valid parentheses string s is primitive if it is nonempty, and there does not exist a way to split it into s = A + B, with A and B nonempty valid parentheses strings.\n",
    "\n",
    "Given a valid parentheses string s, consider its primitive decomposition: s = P1 + P2 + ... + Pk, where Pi are primitive valid parentheses strings.\n",
    "\n",
    "Return s after removing the outermost parentheses of every primitive string in the primitive decomposition of s.\n",
    "```py\n",
    "\n",
    "Example 1:\n",
    "\n",
    "Input: s = \"(()())(())\"\n",
    "Output: \"()()()\"\n",
    "Explanation: \n",
    "The input string is \"(()())(())\", with primitive decomposition \"(()())\" + \"(())\".\n",
    "After removing outer parentheses of each part, this is \"()()\" + \"()\" = \"()()()\".\n",
    "\n",
    "Example 2:\n",
    "\n",
    "Input: s = \"(()())(())(()(()))\"\n",
    "Output: \"()()()()(())\"\n",
    "Explanation: \n",
    "The input string is \"(()())(())(()(()))\", with primitive decomposition \"(()())\" + \"(())\" + \"(()(()))\".\n",
    "After removing outer parentheses of each part, this is \"()()\" + \"()\" + \"()(())\" = \"()()()()(())\".\n",
    "\n",
    "Example 3:\n",
    "\n",
    "Input: s = \"()()\"\n",
    "Output: \"\"\n",
    "Explanation: \n",
    "The input string is \"()()\", with primitive decomposition \"()\" + \"()\".\n",
    "After removing outer parentheses of each part, this is \"\" + \"\" = \"\".\n",
    "```"
   ]
  },
  {
   "cell_type": "code",
   "execution_count": 2,
   "id": "883b0d60",
   "metadata": {},
   "outputs": [
    {
     "data": {
      "text/plain": [
       "'()()()()(())'"
      ]
     },
     "execution_count": 2,
     "metadata": {},
     "output_type": "execute_result"
    }
   ],
   "source": [
    "# optimized solution\n",
    "\n",
    "class Solution:\n",
    "    def removeOuterParentheses(s):\n",
    "        res, opened = [], 0\n",
    "        for c in s:\n",
    "            if c == '(' and opened > 0: res.append(c)\n",
    "            if c == ')' and opened > 1: res.append(c)\n",
    "            opened += 1 if c == '(' else -1\n",
    "        return \"\".join(res)\n",
    "    \n",
    "S = Solution\n",
    "S.removeOuterParentheses(s = \"(()())(())(()(()))\")"
   ]
  },
  {
   "cell_type": "markdown",
   "id": "0459dd9c",
   "metadata": {},
   "source": [
    "#### 2.  Reverse words in string\n",
    "\n",
    "Given a string s, reverse the words of the string.\n",
    "\n",
    "```py\n",
    "Examples:\n",
    "\n",
    "Example 1:\n",
    "Input: s=”this is an amazing program”\n",
    "Output: “program amazing an is this”\n",
    "\n",
    "Example 2:\n",
    "Input: s=”This is decent”\n",
    "Output: “decent is This”\n",
    "```"
   ]
  },
  {
   "cell_type": "code",
   "execution_count": 7,
   "id": "b2172599",
   "metadata": {},
   "outputs": [
    {
     "data": {
      "text/plain": [
       "'program amazing an is this'"
      ]
     },
     "execution_count": 7,
     "metadata": {},
     "output_type": "execute_result"
    }
   ],
   "source": [
    "# Naive approach\n",
    "\n",
    "# use extra space to store all words and then reverse and print\n",
    "\n",
    "def NaiveRevString(S):\n",
    "    arr = list(i for i in S.split(\" \"))\n",
    "    return(\" \".join(arr[::-1]))\n",
    "    \n",
    "s=\"this is an amazing program\"\n",
    "NaiveRevString(s)"
   ]
  },
  {
   "cell_type": "code",
   "execution_count": 27,
   "id": "b4703864",
   "metadata": {},
   "outputs": [
    {
     "data": {
      "text/plain": [
       "'program amazing an is this'"
      ]
     },
     "execution_count": 27,
     "metadata": {},
     "output_type": "execute_result"
    }
   ],
   "source": [
    "# Optimized Approach\n",
    "\n",
    "# store the words in one go in O(n) time and O(1) space by traversing from right:\n",
    "\n",
    "def OptSolRevString(s):\n",
    "    \n",
    "    low = 0\n",
    "    high = len(s)-1\n",
    "    ans = \"\"\n",
    "    temp = \"\"\n",
    "    \n",
    "    while low<=high:\n",
    "        \n",
    "        if s[high] != \" \" and high>0:\n",
    "            temp = s[high] + temp\n",
    "        \n",
    "        elif high == 0:\n",
    "            temp = s[0] + temp\n",
    "            ans += temp\n",
    "            \n",
    "        else:\n",
    "            ans += temp + \" \"\n",
    "            temp = \"\"\n",
    "            \n",
    "        high -= 1\n",
    "            \n",
    "    return ans\n",
    "        \n",
    "        \n",
    "s=\"this is an amazing program\"\n",
    "OptSolRevString(s)"
   ]
  },
  {
   "cell_type": "markdown",
   "id": "c825d933",
   "metadata": {},
   "source": [
    "#### 3. LARGEST ODD NUMBER IN A STRING\n",
    "\n",
    "```py\n",
    "Given an string S, representing a large interger. Return the largest-valued odd integer (as a string) that is substring of the given string S.\n",
    "\n",
    "Note : A substring is a contiguous sequence of characters within a string. Null string (\"\") is also a substring.\n",
    "\n",
    "Example 1:\n",
    "Input: s = \"504\"\n",
    "Output: \"5\"\n",
    "Explanation: The only subtring \"5\" is odd number.\n",
    "\n",
    "Example 2:\n",
    "Input: s = \"2042\"\n",
    "Output: \"\"\n",
    "Explanation: All the possible non-empty substring have even value.\n",
    "```"
   ]
  },
  {
   "cell_type": "code",
   "execution_count": 31,
   "id": "c1838ab6",
   "metadata": {},
   "outputs": [
    {
     "data": {
      "text/plain": [
       "'50419'"
      ]
     },
     "execution_count": 31,
     "metadata": {},
     "output_type": "execute_result"
    }
   ],
   "source": [
    "# Solution\n",
    "\n",
    "def largestNumber(s):\n",
    "    low = 0\n",
    "    high = len(s) - 1\n",
    "    \n",
    "    odd = ['1','3','5','7','9']\n",
    "    ans = \"\"\n",
    "    \n",
    "    while low<=high:\n",
    "        if s[high] in odd:\n",
    "            ans = s[:high + 1]\n",
    "            break\n",
    "        high -= 1\n",
    "        \n",
    "    return ans\n",
    "\n",
    "s = \"50419222\"\n",
    "\n",
    "largestNumber(s)\n",
    "        "
   ]
  },
  {
   "cell_type": "markdown",
   "id": "fcd60bc0",
   "metadata": {},
   "source": [
    "#### 4. Largest Common Prefix\n",
    "\n",
    "Given a array of N strings, find the longest common prefix among all strings present in the array.\n",
    "\n",
    "```py\n",
    "Example 1:\n",
    "\n",
    "Input:\n",
    "N = 4\n",
    "arr[] = {geeksforgeeks, geeks, geek, geezer}\n",
    "Output: gee\n",
    "Explanation: \"gee\" is the longest common\n",
    "prefix in all the given strings.\n",
    "\n",
    "Example 2:\n",
    "\n",
    "Input: \n",
    "N = 2\n",
    "arr[] = {hello, world}\n",
    "Output: -1\n",
    "Explanation: There's no common prefix\n",
    "in the given strings.\n",
    "\n",
    "Your Task:\n",
    "You don't need to read input or print anything. Your task is to complete the function longestCommonPrefix() which takes the string array arr[] and its size N as inputs and returns the longest common prefix common in all the strings in the array. If there's no prefix common in all the strings, return \"-1\".\n",
    "```"
   ]
  },
  {
   "cell_type": "code",
   "execution_count": 33,
   "id": "2ff47c17",
   "metadata": {},
   "outputs": [
    {
     "data": {
      "text/plain": [
       "'gee'"
      ]
     },
     "execution_count": 33,
     "metadata": {},
     "output_type": "execute_result"
    }
   ],
   "source": [
    "def largestCommonPrefix(arr):\n",
    "    # sort and compare first and last word in string\n",
    "    \n",
    "    arr.sort()\n",
    "    \n",
    "    first = arr[0]\n",
    "    last = arr[-1]\n",
    "    \n",
    "    l1 = 0\n",
    "    l2 = 0\n",
    "    \n",
    "    ans = \"\"\n",
    "    \n",
    "    while l1<len(first) and l2<len(last):\n",
    "        if first[l1] != last[l2]:\n",
    "            break\n",
    "        \n",
    "        else:\n",
    "            ans += first[l1]\n",
    "\n",
    "        l1 += 1\n",
    "        l2 += 1\n",
    "        \n",
    "    if ans==\"\":\n",
    "        return -1\n",
    "    else:\n",
    "        return ans\n",
    "    \n",
    "\n",
    "s = ['geeksforgeeks', 'geeks', 'geek', 'geezer']\n",
    "\n",
    "largestCommonPrefix(s)"
   ]
  },
  {
   "cell_type": "markdown",
   "id": "78bc09fa",
   "metadata": {},
   "source": [
    "#### 5. Isomorphic Strings\n",
    "\n",
    "Given two strings 'str1' and 'str2', check if these two strings are isomorphic to each other.\n",
    "Two strings str1 and str2 are called isomorphic if there is a one to one mapping possible for every character of str1 to every character of str2 while preserving the order.\n",
    "Note: All occurrences of every character in str1 should map to the same character in str2\n",
    "\n",
    "```py\n",
    "Example 1:\n",
    "\n",
    "Input:\n",
    "str1 = aab\n",
    "str2 = xxy\n",
    "Output: 1\n",
    "Explanation: There are two different\n",
    "charactersin aab and xxy, i.e a and b\n",
    "with frequency 2and 1 respectively.\n",
    "\n",
    "Example 2:\n",
    "\n",
    "Input:\n",
    "str1 = aab\n",
    "str2 = xyz\n",
    "Output: 0\n",
    "Explanation: There are two different\n",
    "charactersin aab but there are three\n",
    "different charactersin xyz. So there\n",
    "won't be one to one mapping between\n",
    "str1 and str2.\n",
    "```"
   ]
  },
  {
   "cell_type": "code",
   "execution_count": 55,
   "id": "160e8b04",
   "metadata": {},
   "outputs": [
    {
     "data": {
      "text/plain": [
       "True"
      ]
     },
     "execution_count": 55,
     "metadata": {},
     "output_type": "execute_result"
    }
   ],
   "source": [
    "def isomorphic(s,t):\n",
    "    \n",
    "        s2t, t2s = {}, {}\n",
    "        for i in range(len(s)):\n",
    "            if s[i] in s2t and s2t[s[i]] != t[i]:\n",
    "                return False\n",
    "            if t[i] in t2s and t2s[t[i]] != s[i]:\n",
    "                return False\n",
    "            s2t[s[i]] = t[i]\n",
    "            t2s[t[i]] = s[i]\n",
    "        return True\n",
    "    \n",
    "str1 = \"abab\"\n",
    "str2 = \"adad\"\n",
    "\n",
    "isomorphic(str1,str2)"
   ]
  },
  {
   "cell_type": "markdown",
   "id": "9608db02",
   "metadata": {},
   "source": [
    "#### 6. Check if strings are rotation of each other or not\n",
    "Given two strings s1 and s2. The task is to check if s2 is a rotated version of the string s1. The characters in the strings are in lowercase.\n",
    "\n",
    "```py\n",
    "Example 1:\n",
    "\n",
    "Input:\n",
    "geeksforgeeks\n",
    "forgeeksgeeks\n",
    "Output: \n",
    "1\n",
    "Explanation: s1 is geeksforgeeks, s2 is\n",
    "forgeeksgeeks. Clearly, s2 is a rotated\n",
    "version of s1 as s2 can be obtained by\n",
    "left-rotating s1 by 5 units.\n",
    "\n",
    "Example 2:\n",
    "\n",
    "Input:\n",
    "mightandmagic\n",
    "andmagicmigth\n",
    "Output: \n",
    "0\n",
    "Explanation: Here with any amount of\n",
    "rotation s2 can't be obtained by s1.\n",
    "```"
   ]
  },
  {
   "cell_type": "code",
   "execution_count": 19,
   "id": "e58447c0",
   "metadata": {},
   "outputs": [
    {
     "name": "stdout",
     "output_type": "stream",
     "text": [
      "True\n",
      "False\n"
     ]
    }
   ],
   "source": [
    "# solution\n",
    "\n",
    "def if_stringRotated(s1,s2):\n",
    "    \n",
    "    if len(s1) != len(s2):\n",
    "        return False\n",
    "    \n",
    "    for i in range(len(s1)):\n",
    "  \n",
    "        if s2 == s1:\n",
    "            return True\n",
    "        \n",
    "        temp = s1[0]\n",
    "        temp2 = s1[1:]\n",
    "        \n",
    "        s1 = temp2 + temp\n",
    "       \n",
    "    return False\n",
    "\n",
    "s1 = 'geeksforgeeks'\n",
    "s2 = 'forgeeksgeeks'\n",
    "\n",
    "s3 = 'mightandmagic'\n",
    "s4 = 'andmagicmigth'\n",
    "\n",
    "print(if_stringRotated(s1,s2))\n",
    "print(if_stringRotated(s3,s4))"
   ]
  },
  {
   "cell_type": "markdown",
   "id": "66f2d1c3",
   "metadata": {},
   "source": [
    "#### 7. Anagaram\n",
    "\n",
    "```py\n",
    "Given two strings a and b consisting of lowercase characters. The task is to check whether two given strings are an anagram of each other or not. An anagram of a string is another string that contains the same characters, only the order of characters can be different. For example, act and tac are an anagram of each other.\n",
    "\n",
    "Example 1:\n",
    "\n",
    "Input:a = geeksforgeeks, b = forgeeksgeeks\n",
    "Output: YES\n",
    "Explanation: Both the string have same characters with same frequency. So, both are anagrams.\n",
    "\n",
    "Example 2:\n",
    "\n",
    "Input:a = allergy, b = allergic\n",
    "Output: NO\n",
    "Explanation: Characters in both the strings are not same, so they are not anagrams.\n",
    "```"
   ]
  },
  {
   "cell_type": "code",
   "execution_count": 31,
   "id": "456764c1",
   "metadata": {},
   "outputs": [
    {
     "name": "stdout",
     "output_type": "stream",
     "text": [
      "True\n",
      "True\n"
     ]
    }
   ],
   "source": [
    "# solution brute force\n",
    "\n",
    "def anagram(s1,s2):\n",
    "    if len(s1) != len(s2):\n",
    "        return False\n",
    "    \n",
    "    d1 = {}\n",
    "    d2 = {}\n",
    "    \n",
    "    for i in s1:\n",
    "        if i in d1:\n",
    "            d1[i] += 1\n",
    "        else:\n",
    "            d1[i] = 1\n",
    "            \n",
    "    for i in s2:\n",
    "        if i in d2:\n",
    "            d2[i] += 1\n",
    "        else:\n",
    "            d2[i] = 1\n",
    "            \n",
    "    if d1 != d2:\n",
    "        return False\n",
    "    \n",
    "    return True\n",
    "    \n",
    "\n",
    "# solution optimized\n",
    "from collections import Counter\n",
    "\n",
    "def anagramOP(s1,s2):\n",
    "    return Counter(s1) == Counter(s2)\n",
    "\n",
    "a = 'geeksforgeeks' \n",
    "b = 'forgeeksgeeks'\n",
    "print(anagram(a,b))\n",
    "print(anagramOP(a,b))"
   ]
  },
  {
   "cell_type": "code",
   "execution_count": null,
   "id": "5346acd9",
   "metadata": {},
   "outputs": [],
   "source": []
  }
 ],
 "metadata": {
  "kernelspec": {
   "display_name": "Python 3 (ipykernel)",
   "language": "python",
   "name": "python3"
  },
  "language_info": {
   "codemirror_mode": {
    "name": "ipython",
    "version": 3
   },
   "file_extension": ".py",
   "mimetype": "text/x-python",
   "name": "python",
   "nbconvert_exporter": "python",
   "pygments_lexer": "ipython3",
   "version": "3.9.12"
  }
 },
 "nbformat": 4,
 "nbformat_minor": 5
}
