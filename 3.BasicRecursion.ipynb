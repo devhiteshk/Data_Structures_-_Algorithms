{
 "cells": [
  {
   "cell_type": "markdown",
   "metadata": {},
   "source": [
    "# Basic Recursion\n",
    "\n",
    "#### 1. Print Hello n times without the loop."
   ]
  },
  {
   "cell_type": "code",
   "execution_count": 2,
   "metadata": {},
   "outputs": [
    {
     "name": "stdout",
     "output_type": "stream",
     "text": [
      "Hello Hello Hello Hello Hello "
     ]
    }
   ],
   "source": [
    "def Print(n):\n",
    "    if n>0:\n",
    "        print(\"Hello\", end= \" \")\n",
    "        Print(n-1)\n",
    "    else:\n",
    "        return\n",
    "\n",
    "\n",
    "n = int(input())\n",
    "Print(n)\n",
    "\n"
   ]
  },
  {
   "cell_type": "markdown",
   "metadata": {},
   "source": [
    "#### 2. Print numbers from 1 to N without the help of loops."
   ]
  },
  {
   "cell_type": "code",
   "execution_count": 6,
   "metadata": {},
   "outputs": [
    {
     "name": "stdout",
     "output_type": "stream",
     "text": [
      "1 2 3 4 5 6 "
     ]
    }
   ],
   "source": [
    "def PrintN(x,n):\n",
    "    if n>0:\n",
    "        print(x, end=\" \")\n",
    "        PrintN(x+1,n-1)\n",
    "    else:\n",
    "        return\n",
    "\n",
    "n = int(input())\n",
    "PrintN(1,n)"
   ]
  },
  {
   "cell_type": "markdown",
   "metadata": {},
   "source": [
    "#### 3. Print numbers from N to 1 without the help of loops."
   ]
  },
  {
   "cell_type": "code",
   "execution_count": 7,
   "metadata": {},
   "outputs": [
    {
     "name": "stdout",
     "output_type": "stream",
     "text": [
      "6 5 4 3 2 1 "
     ]
    }
   ],
   "source": [
    "def PrintN21(n):\n",
    "    if n>0:\n",
    "        print(n, end = \" \")\n",
    "        PrintN21(n-1)\n",
    "    else:\n",
    "        return\n",
    "\n",
    "n = int(input())\n",
    "PrintN21(n)"
   ]
  },
  {
   "cell_type": "markdown",
   "metadata": {},
   "source": [
    "#### 4. Given a number ‘N’, find out the sum of the first N natural numbers.\n",
    "\n",
    "```py\n",
    "Example 1:\n",
    "Input: N=5\n",
    "Output: 15\n",
    "Explanation: 1+2+3+4+5=15\n",
    "\n",
    "Example 2:\n",
    "Input: N=6\n",
    "Output: 21\n",
    "Explanation: 1+2+3+4+5+6=15\n",
    "```"
   ]
  },
  {
   "cell_type": "code",
   "execution_count": 13,
   "metadata": {},
   "outputs": [
    {
     "name": "stdout",
     "output_type": "stream",
     "text": [
      "Sum of 6 natural numbers is: 21\n"
     ]
    }
   ],
   "source": [
    "def SumOfN(n):\n",
    "    if n<1:\n",
    "        return 0\n",
    "    return n + SumOfN(n-1)\n",
    "\n",
    "\n",
    "n = int(input())\n",
    "print(\"Sum of {} natural numbers is: {}\".format(n, SumOfN(n)))"
   ]
  },
  {
   "cell_type": "markdown",
   "metadata": {},
   "source": [
    "#### 5. Find all factorial numbers less than or equal to N\n",
    "\n",
    "```py\n",
    "Example 1:\n",
    "Input : n = 100\n",
    "Output : 1 2 6 24\n",
    "\n",
    "Example 2:\n",
    "Input : n = 1500\n",
    "Output : 1 2 6 24 120 720\n",
    "```"
   ]
  },
  {
   "cell_type": "code",
   "execution_count": 19,
   "metadata": {},
   "outputs": [
    {
     "name": "stdout",
     "output_type": "stream",
     "text": [
      "1 2 6 24 "
     ]
    }
   ],
   "source": [
    "def PrintFactorials(n,x,ans):\n",
    "    if ans*x <= n:\n",
    "        print(ans*x, end = \" \")\n",
    "        PrintFactorials(n,x+1,ans*x)\n",
    "    else:\n",
    "        return\n",
    "\n",
    "n = int(input())\n",
    "PrintFactorials(n,1,1)\n"
   ]
  },
  {
   "cell_type": "markdown",
   "metadata": {},
   "source": [
    "#### 6. You are given an array. The task is to reverse the array and print it without loop.\n",
    "\n",
    "```py\n",
    "Example 1:\n",
    "Input: N = 5, arr[] = {5,4,3,2,1}\n",
    "Output: {1,2,3,4,5}\n",
    "Explanation: Since the order of elements gets reversed the first element will occupy the fifth position, the second element occupies the fourth position and so on.\n",
    "\n",
    "Example 2:\n",
    "Input: N=6 arr[] = {10,20,30,40}\n",
    "Output: {40,30,20,10}\n",
    "Explanation: Since the order of elements gets reversed the first element will occupy the fifth position, the second element occupies the fourth position and so on.\n",
    "```"
   ]
  },
  {
   "cell_type": "code",
   "execution_count": 21,
   "metadata": {},
   "outputs": [
    {
     "name": "stdout",
     "output_type": "stream",
     "text": [
      "1 2 3 7 8 9 4 2 6 55 "
     ]
    }
   ],
   "source": [
    "def PrintArray(arr,n):\n",
    "    if n>len(arr)-1:\n",
    "        return\n",
    "    else:\n",
    "        print(arr[n], end=\" \")\n",
    "        PrintArray(arr, n+1)\n",
    "\n",
    "arr = list(map(int, input().split()))\n",
    "PrintArray(arr,0)\n",
    "\n"
   ]
  },
  {
   "cell_type": "markdown",
   "metadata": {},
   "source": [
    "#### 7. Check if the given String is Palindrome or not\n",
    "\n",
    "```py\n",
    "Example 1:\n",
    "Input: Str =  “ABCDCBA”\n",
    "Output: Palindrome\n",
    "Explanation: String when reversed is the same as string.\n",
    "\n",
    "Example 2:\n",
    "Input: Str = “TAKE U FORWARD”\n",
    "Output: Not Palindrome\n",
    "Explanation: String when reversed is not the same as string.\n",
    "```"
   ]
  },
  {
   "cell_type": "code",
   "execution_count": 30,
   "metadata": {},
   "outputs": [
    {
     "name": "stdout",
     "output_type": "stream",
     "text": [
      "Is string 'ABCDEFEDCBA' Palindrome?: True\n"
     ]
    }
   ],
   "source": [
    "def CheckPalindrome(String,start,end):\n",
    "    if start<end:\n",
    "        if String[start] != String[end]:\n",
    "            return False\n",
    "        else:\n",
    "            CheckPalindrome(String, start+1, end - 1)\n",
    "        \n",
    "    return True\n",
    "\n",
    "S = input()\n",
    "print(\"Is string '{}' Palindrome?: {}\".format(S,CheckPalindrome(S,0,len(S)-1)))"
   ]
  },
  {
   "cell_type": "markdown",
   "metadata": {},
   "source": [
    "#### 8. Print Fibonacci Series up to Nth term\n",
    "\n",
    "```py\n",
    "Example 1:\n",
    "Input: N = 5\n",
    "Output: 0 1 1 2 3 5\n",
    "Explanation: 0 1 1 2 3 5 is the fibonacci series up to 5th term.(0 based indexing)\n",
    "\n",
    "Example 2:\n",
    "Input: 6\n",
    "\n",
    "Output: 0 1 1 2 3 5 8\n",
    "Explanation: 0 1 1 2 3 5 8 is the fibonacci series upto 6th term.(o based indexing)\n",
    "```"
   ]
  },
  {
   "cell_type": "code",
   "execution_count": 50,
   "metadata": {},
   "outputs": [
    {
     "name": "stdout",
     "output_type": "stream",
     "text": [
      "[0, 1, 1, 2, 3, 5, 8, 13, 21, 34, 55, 89, 144]\n"
     ]
    }
   ],
   "source": [
    "def printFib(n):\n",
    "\n",
    "    if n<1:\n",
    "        return 0\n",
    "    \n",
    "    if n == 1 or n == 2:\n",
    "        return 1\n",
    "\n",
    "    return printFib(n-1) + printFib(n-2)\n",
    "    \n",
    "n = int(input())\n",
    "\n",
    "ans = [printFib(i) for i in range(n+1)]\n",
    "print(ans)"
   ]
  }
 ],
 "metadata": {
  "kernelspec": {
   "display_name": "Python 3.10.7 64-bit",
   "language": "python",
   "name": "python3"
  },
  "language_info": {
   "codemirror_mode": {
    "name": "ipython",
    "version": 3
   },
   "file_extension": ".py",
   "mimetype": "text/x-python",
   "name": "python",
   "nbconvert_exporter": "python",
   "pygments_lexer": "ipython3",
   "version": "3.10.7"
  },
  "orig_nbformat": 4,
  "vscode": {
   "interpreter": {
    "hash": "369f2c481f4da34e4445cda3fffd2e751bd1c4d706f27375911949ba6bb62e1c"
   }
  }
 },
 "nbformat": 4,
 "nbformat_minor": 2
}
