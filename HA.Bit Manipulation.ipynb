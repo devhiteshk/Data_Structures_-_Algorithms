{
 "cells": [
  {
   "attachments": {},
   "cell_type": "markdown",
   "metadata": {},
   "source": [
    "### Bit Manipulation\n",
    "\n",
    "Given a 32 bit unsigned integer num and an integer i. Perform following operations on the number - \n",
    "\n",
    "1. Get ith bit\n",
    "\n",
    "2. Set ith bit\n",
    "\n",
    "3. Clear ith bit\n",
    "\n",
    "Note : For better understanding, we are starting bits from 1 instead 0. (1-based)\n",
    "\n",
    "```py\n",
    "Example 1:\n",
    "\n",
    "Input: 70 3\n",
    "Output: 1 70 66\n",
    "Explanation: Bit at the 3rd position from LSB is 0. (1 0 0 0 1 1 0)\n",
    "The value of the given number after setting the 3rd bit is 70. \n",
    "The value of the given number after clearing 3rd bit is 66. (1 0 0 0 0 1 0)\n",
    "Example 2:\n",
    "\n",
    "Input: 8 1\n",
    "Output: 0 9 8\n",
    "Explanation: Bit at the first position from LSB is 0. (1 0 0 0)\n",
    "The value of the given number after setting the 3rd bit is 9. (1 0 0 1)\n",
    "The value of the given number after clearing 3rd bit is 66. (1 0 0 0)\n",
    "```"
   ]
  },
  {
   "cell_type": "code",
   "execution_count": 20,
   "metadata": {},
   "outputs": [
    {
     "name": "stdout",
     "output_type": "stream",
     "text": [
      "1 70 66 "
     ]
    }
   ],
   "source": [
    "def get(n,i):\n",
    "        i=i-1;\n",
    "        mask=1<<i;\n",
    "        if n&mask:return 1;\n",
    "        return 0;\n",
    "        \n",
    "def set(n,i):\n",
    "        i=i-1;\n",
    "        mask=1<<i;\n",
    "        if n&mask:return n;\n",
    "        return n^mask;\n",
    "        \n",
    "def clear(n,i):\n",
    "        i=i-1;\n",
    "        mask=1<<i;\n",
    "        if n&mask:return n^mask;\n",
    "        return n;\n",
    "        \n",
    "        \n",
    "def bitManipulation(n, i):\n",
    "        res1=get(n,i);\n",
    "        res2=set(n,i);\n",
    "        res3=clear(n,i);\n",
    "        print(res1,end=\" \");\n",
    "        print(res2,end=\" \");\n",
    "        print(res3,end=\" \") \n",
    "\n",
    "bitManipulation(70,3)"
   ]
  },
  {
   "attachments": {},
   "cell_type": "markdown",
   "metadata": {},
   "source": [
    "#### 2. Check whether K-th bit is set or not\n",
    "\n",
    "Given a number N and a bit number K, check if Kth bit of N is set or not. A bit is called set if it is 1. Position of set bit '1' should be indexed starting with 0 from LSB side in binary representation of the number.\n",
    "```py\n",
    "Example 1:\n",
    "\n",
    "Input: N = 4, K = 0\n",
    "Output: No\n",
    "Explanation: Binary representation of 4 is 100, \n",
    "in which 0th bit from LSB is not set. \n",
    "So, return false.\n",
    "Example 2:\n",
    "\n",
    "Input: N = 4, K = 2\n",
    "Output: Yes\n",
    "Explanation: Binary representation of 4 is 100, \n",
    "in which 2nd bit from LSB is set. \n",
    "So, return true.\n",
    "Example 3:\n",
    "\n",
    "Input: N = 500, K = 3\n",
    "Output: No\n",
    "Explanation: Binary representation of 500 is \n",
    "111110100, in which 3rd bit from LSB is not set. \n",
    "So, return false.\n",
    "```"
   ]
  },
  {
   "cell_type": "code",
   "execution_count": 23,
   "metadata": {},
   "outputs": [
    {
     "data": {
      "text/plain": [
       "0"
      ]
     },
     "execution_count": 23,
     "metadata": {},
     "output_type": "execute_result"
    }
   ],
   "source": [
    "def Kthset(n,k):\n",
    "\n",
    "    mask = 1<<k | n\n",
    "    if n == mask: return 1\n",
    "    return 0\n",
    "\n",
    "Kthset(70,3)"
   ]
  },
  {
   "attachments": {},
   "cell_type": "markdown",
   "metadata": {},
   "source": [
    "#### 3. Odd or Even\n",
    "\n",
    "Given a positive integer N, determine whether it is odd or even.\n",
    "```py\n",
    "Example 1:\n",
    "\n",
    "Input:\n",
    "N = 1\n",
    "Output:\n",
    "odd\n",
    "Explanation:\n",
    "The output is self-\n",
    "explanatory.\n",
    "\n",
    "Example 2:\n",
    "\n",
    "Input:\n",
    "N = 2\n",
    "Output:\n",
    "even\n",
    "Explanation:\n",
    "The output is self-\n",
    "explanatory.\n",
    "\n",
    "Your Task:\n",
    "\n",
    "You don't need to read input or print anything. Your task is to complete the function oddEven() which takes the integer N and return \"even\" is number is even and \"odd\" if the number is odd.\n",
    "```"
   ]
  },
  {
   "cell_type": "code",
   "execution_count": 36,
   "metadata": {},
   "outputs": [
    {
     "data": {
      "text/plain": [
       "'ODD'"
      ]
     },
     "execution_count": 36,
     "metadata": {},
     "output_type": "execute_result"
    }
   ],
   "source": [
    "def odd_Or_even(n):\n",
    "    if (n&1 == 1):\n",
    "        return \"ODD\"\n",
    "    else:\n",
    "        return \"EVEN\"\n",
    "\n",
    "odd_Or_even(13)"
   ]
  },
  {
   "attachments": {},
   "cell_type": "markdown",
   "metadata": {},
   "source": [
    "#### 4. power of 2\n",
    "\n",
    "Given a non-negative integer N. The task is to check if N is a power of 2. More formally, check if N can be expressed as 2x for some x.\n",
    "```py\n",
    "Example 1:\n",
    "\n",
    "Input: N = 1\n",
    "Output: YES\n",
    "Explanation:1 is equal to 2 \n",
    "raised to 0 (20 = 1).\n",
    "Example 2:\n",
    "\n",
    "Input: N = 98\n",
    "Output: NO\n",
    "Explanation: 98 cannot be obtained\n",
    "by any power of 2.\n",
    "```"
   ]
  },
  {
   "cell_type": "code",
   "execution_count": 52,
   "metadata": {},
   "outputs": [
    {
     "name": "stdout",
     "output_type": "stream",
     "text": [
      "YES\n"
     ]
    }
   ],
   "source": [
    "n = 8 # power of 2\n",
    "\n",
    "if n&(n-1) == 0:\n",
    "    print(\"YES\")\n",
    "else:\n",
    "    print(\"NO\")\n"
   ]
  },
  {
   "attachments": {},
   "cell_type": "markdown",
   "metadata": {},
   "source": [
    "#### 5. Count total set bits\n",
    "\n",
    "You are given a number N. Find the total count of set bits for all numbers from 1 to N(both inclusive).\n",
    "```py\n",
    "Example 1:\n",
    "\n",
    "Input: N = 4\n",
    "Output: 5\n",
    "Explanation:\n",
    "For numbers from 1 to 4.\n",
    "For 1: 0 0 1 = 1 set bits\n",
    "For 2: 0 1 0 = 1 set bits\n",
    "For 3: 0 1 1 = 2 set bits\n",
    "For 4: 1 0 0 = 1 set bits\n",
    "Therefore, the total set bits is 5.\n",
    "Example 2:\n",
    "\n",
    "Input: N = 17\n",
    "Output: 35\n",
    "Explanation: From numbers 1 to 17(both inclusive), \n",
    "the total number of set bits is 35.\n",
    "```"
   ]
  },
  {
   "cell_type": "code",
   "execution_count": 62,
   "metadata": {},
   "outputs": [
    {
     "data": {
      "text/plain": [
       "75"
      ]
     },
     "execution_count": 62,
     "metadata": {},
     "output_type": "execute_result"
    }
   ],
   "source": [
    "# O(n^log(n)) TLE BF approach\n",
    "def countSetbits(n):\n",
    "    count = 0\n",
    "    for i in range(n):\n",
    "        x = i\n",
    "        while(x):\n",
    "            count += x & 1\n",
    "            x >>= 1\n",
    "    return count\n",
    "\n",
    "\n",
    "import math\n",
    "\n",
    "# Optimized Approach O(nlogn) \n",
    "def countSetbitsOP(n):\n",
    "    count=0\n",
    "    while(n>0):\n",
    "        i = int(math.log10(n)/math.log10(2))\n",
    "        count += math.pow(2, i-1)*i\n",
    "        count += n-math.pow(2, i)+1\n",
    "        n-= math.pow(2, i)\n",
    "    \n",
    "    return int(count)\n",
    "    \n",
    "countSetbitsOP(30)"
   ]
  },
  {
   "attachments": {},
   "cell_type": "markdown",
   "metadata": {},
   "source": [
    "#### Set Right most unset bit.\n",
    "\n",
    "Given a non-negative number N. The problem is to set the rightmost unset bit in the binary representation of N. If there are no unset bits, then just leave the number as it is.\n",
    "```py\n",
    "Example 1:\n",
    "\n",
    "Input:\n",
    "N = 6\n",
    "Output:\n",
    "7\n",
    "Explanation:\n",
    "The binary representation of 6 is 110.\n",
    "After setting right most bit it becomes\n",
    "111 which is 7.\n",
    "Example 2:\n",
    "\n",
    "Input:\n",
    "N = 15\n",
    "Output:\n",
    "15\n",
    "Explanation:\n",
    "The binary representation of 15 is 1111.\n",
    "As there is no unset bit it remains the\n",
    "same.\n",
    "```"
   ]
  },
  {
   "cell_type": "code",
   "execution_count": null,
   "metadata": {},
   "outputs": [],
   "source": [
    "def setBit(self, n):\n",
    "    for bit in range(32):\n",
    "        if 1<<bit < n and not n&1<<bit:\n",
    "            n = n+(1<<bit)\n",
    "            break\n",
    "    return n"
   ]
  },
  {
   "attachments": {},
   "cell_type": "markdown",
   "metadata": {},
   "source": [
    "#### Division without using multiplication, division and mod operator\n",
    "\n",
    "Given two integers dividend and divisor. Find the quotient after dividing dividend by divisor without using multiplication, division and mod operator.\n",
    "```py\n",
    "Example 1:\n",
    "\n",
    "Input:\n",
    "a = 10, b= 3\n",
    "Output: 3\n",
    "Exaplanation:\n",
    "10/3 gives quotient as 3 \n",
    "and remainder as 1.\n",
    "Example 2:\n",
    "\n",
    "Input:\n",
    "a = 43, b = -8\n",
    "Output: -5\n",
    "Explanation:\n",
    "43/-8 gives quotient as -5 and \n",
    "remainder as 3.\n",
    "```"
   ]
  },
  {
   "cell_type": "code",
   "execution_count": 3,
   "metadata": {},
   "outputs": [],
   "source": [
    "def divide(dividend, divisor):\n",
    "  if (dividend == -2147483648 and divisor == -1): return 2147483647\n",
    "        \n",
    "  sign = (-1 if((dividend < 0) ^ (divisor < 0)) else 1)\n",
    "    \n",
    "  dividend = abs(dividend)\n",
    "  divisor = abs(divisor)\n",
    "        \n",
    "  quotient = 0\n",
    "  temp = 0\n",
    "\n",
    "  for i in range(31, -1, -1):\n",
    "    if (temp + (divisor << i) <= dividend):\n",
    "      temp += divisor << i\n",
    "      quotient |= 1 << i\n",
    "\n",
    "  if sign ==-1 :\n",
    "    quotient=-quotient\n",
    "\n",
    "  return quotient"
   ]
  },
  {
   "attachments": {},
   "cell_type": "markdown",
   "metadata": {},
   "source": [
    "####  Single Number\n",
    "\n",
    "Given a non-empty array of integers nums, every element appears twice except for one. Find that single one.\n",
    "\n",
    "You must implement a solution with a linear runtime complexity and use only constant extra space.\n",
    "```py\n",
    "Example 1:\n",
    "\n",
    "Input: nums = [2,2,1]\n",
    "Output: 1\n",
    "\n",
    "Example 2:\n",
    "\n",
    "Input: nums = [4,1,2,1,2]\n",
    "Output: 4\n",
    "\n",
    "Example 3:\n",
    "\n",
    "Input: nums = [1]\n",
    "Output: 1\n",
    "```"
   ]
  },
  {
   "cell_type": "code",
   "execution_count": 5,
   "metadata": {},
   "outputs": [
    {
     "data": {
      "text/plain": [
       "4"
      ]
     },
     "execution_count": 5,
     "metadata": {},
     "output_type": "execute_result"
    }
   ],
   "source": [
    "def singleNumber(nums):\n",
    "    ans = 0\n",
    "    for i in nums:\n",
    "        ans ^= i\n",
    "\n",
    "    return ans\n",
    "\n",
    "nums = [4,1,2,1,2]\n",
    "singleNumber(nums)"
   ]
  },
  {
   "attachments": {},
   "cell_type": "markdown",
   "metadata": {},
   "source": [
    "#### Subsets\n",
    "\n",
    "Given an integer array nums of unique elements, return all possible \n",
    "subsets (the power set).\n",
    "\n",
    "The solution set must not contain duplicate subsets. Return the solution in any order.\n",
    "```py\n",
    "Example 1:\n",
    "\n",
    "Input: nums = [1,2,3]\n",
    "Output: [[],[1],[2],[1,2],[3],[1,3],[2,3],[1,2,3]]\n",
    "Example 2:\n",
    "\n",
    "Input: nums = [0]\n",
    "Output: [[],[0]]\n",
    "```"
   ]
  },
  {
   "cell_type": "code",
   "execution_count": null,
   "metadata": {},
   "outputs": [],
   "source": [
    "# Powerset using bit manipulation -> [IMP]\n",
    "\n",
    "def subsets(nums):\n",
    "    \n",
    "    L, ans = len(nums), list([[]])\n",
    "    \n",
    "    mask = 2**L - 1\n",
    "\t\n",
    "    while mask:\n",
    "        copy, i, subset = mask, L - 1, list()\n",
    "        while copy:\n",
    "            if copy & 1: subset.append(nums[i])\n",
    "            i, copy = i - 1, copy >> 1\n",
    "        \n",
    "        ans.append(subset)\n",
    "        mask -= 1\n",
    "    \n",
    "    return ans\n"
   ]
  },
  {
   "attachments": {},
   "cell_type": "markdown",
   "metadata": {},
   "source": [
    "#### Minimum Bit Flips to Convert Number\n",
    "\n",
    "A bit flip of a number x is choosing a bit in the binary representation of x and flipping it from either 0 to 1 or 1 to 0.\n",
    "\n",
    "For example, for x = 7, the binary representation is 111 and we may choose any bit (including any leading zeros not shown) and flip it. We can flip the first bit from the right to get 110, flip the second bit from the right to get 101, flip the fifth bit from the right (a leading zero) to get 10111, etc.\n",
    "Given two integers start and goal, return the minimum number of bit flips to convert start to goal.\n",
    "```py\n",
    "Example 1:\n",
    "\n",
    "Input: start = 10, goal = 7\n",
    "Output: 3\n",
    "Explanation: The binary representation of 10 and 7 are 1010 and 0111 respectively. We can convert 10 to 7 in 3 steps:\n",
    "- Flip the first bit from the right: 1010 -> 1011.\n",
    "- Flip the third bit from the right: 1011 -> 1111.\n",
    "- Flip the fourth bit from the right: 1111 -> 0111.\n",
    "It can be shown we cannot convert 10 to 7 in less than 3 steps. Hence, we return 3.\n",
    "Example 2:\n",
    "\n",
    "Input: start = 3, goal = 4\n",
    "Output: 3\n",
    "Explanation: The binary representation of 3 and 4 are 011 and 100 respectively. We can convert 3 to 4 in 3 steps:\n",
    "- Flip the first bit from the right: 011 -> 010.\n",
    "- Flip the second bit from the right: 010 -> 000.\n",
    "- Flip the third bit from the right: 000 -> 100.\n",
    "It can be shown we cannot convert 3 to 4 in less than 3 steps. Hence, we return 3.\n",
    "```"
   ]
  },
  {
   "cell_type": "code",
   "execution_count": 6,
   "metadata": {},
   "outputs": [
    {
     "data": {
      "text/plain": [
       "3"
      ]
     },
     "execution_count": 6,
     "metadata": {},
     "output_type": "execute_result"
    }
   ],
   "source": [
    "def bitFlips(start, goal):\n",
    "    res = start ^ goal\n",
    "    cnt = 0\n",
    "    while res:\n",
    "        res &= res - 1\n",
    "        cnt += 1\n",
    "    return cnt\n",
    "\n",
    "bitFlips(3,4)"
   ]
  },
  {
   "attachments": {},
   "cell_type": "markdown",
   "metadata": {},
   "source": [
    "#### Find XOR of numbers from L to R.\n",
    "\n",
    "You are given two integers L and R, your task is to find the XOR of elements of the range [L, R].\n",
    "```py\n",
    "Example:\n",
    "\n",
    "Input: \n",
    "L = 4, R = 8 \n",
    "Output:\n",
    "8 \n",
    "Explanation:\n",
    "4 ^ 5 ^ 6 ^ 7 ^ 8 = 8\n",
    "```"
   ]
  },
  {
   "cell_type": "code",
   "execution_count": 7,
   "metadata": {},
   "outputs": [
    {
     "data": {
      "text/plain": [
       "8"
      ]
     },
     "execution_count": 7,
     "metadata": {},
     "output_type": "execute_result"
    }
   ],
   "source": [
    "def XORL2R(L,R):\n",
    "    ans = L\n",
    "    for i in range(L+1,R+1):\n",
    "        ans ^= i\n",
    "    return ans\n",
    "\n",
    "XORL2R(4,8)"
   ]
  },
  {
   "attachments": {},
   "cell_type": "markdown",
   "metadata": {},
   "source": [
    "#### Two numbers with odd occurrences\n",
    "\n",
    "Given an unsorted array, Arr[] of size N and that contains even number of occurrences for all numbers except two numbers. Find the two numbers in decreasing order which has odd occurrences.\n",
    "```py\n",
    "Example 1:\n",
    "\n",
    "Input:\n",
    "N = 8\n",
    "Arr = {4, 2, 4, 5, 2, 3, 3, 1}\n",
    "Output: {5, 1} \n",
    "Explaination: 5 and 1 have odd occurrences.\n",
    "\n",
    "Example 2:\n",
    "\n",
    "Input:\n",
    "N = 8\n",
    "Arr = {1 7 5 7 5 4 7 4}\n",
    "Output: {7, 1}\n",
    "Explaination: 7 and 1 have odd occurrences.\n",
    "```"
   ]
  },
  {
   "cell_type": "code",
   "execution_count": 13,
   "metadata": {},
   "outputs": [
    {
     "name": "stdout",
     "output_type": "stream",
     "text": [
      "5 1 \n"
     ]
    }
   ],
   "source": [
    "# Brute Force\n",
    "def twoNumbersOddOccourence(arr):\n",
    "    d = {}\n",
    "    for i in arr:\n",
    "        if i in d:\n",
    "            d[i] += 1\n",
    "        else:\n",
    "            d[i] = 1\n",
    "\n",
    "    for k in d:\n",
    "        if d[k] == 1:\n",
    "            print(k, end=\" \")\n",
    "    print()\n",
    "\n",
    "# Using Bit Manipulation [IMP]\n",
    "def bitMani(arr):\n",
    "        xor2=arr[0]\n",
    "        x=0\n",
    "        y=0\n",
    "        for i in range(1,len(arr)):\n",
    "            xor2=xor2^arr[i]\n",
    "\n",
    "        set_bit_no=(xor2)&~(xor2-1)\n",
    "\n",
    "        for i in range(len(arr)):\n",
    "            if arr[i]&set_bit_no:\n",
    "                x=x^arr[i]\n",
    "            else:\n",
    "                y=y^arr[i]\n",
    "\n",
    "        v=[max(x,y),min(x,y)]\n",
    "        \n",
    "        return v\n",
    "\n",
    "twoNumbersOddOccourence([4, 2, 4, 5, 2, 3, 3, 1])"
   ]
  }
 ],
 "metadata": {
  "kernelspec": {
   "display_name": "Python 3",
   "language": "python",
   "name": "python3"
  },
  "language_info": {
   "codemirror_mode": {
    "name": "ipython",
    "version": 3
   },
   "file_extension": ".py",
   "mimetype": "text/x-python",
   "name": "python",
   "nbconvert_exporter": "python",
   "pygments_lexer": "ipython3",
   "version": "3.10.7"
  },
  "orig_nbformat": 4,
  "vscode": {
   "interpreter": {
    "hash": "369f2c481f4da34e4445cda3fffd2e751bd1c4d706f27375911949ba6bb62e1c"
   }
  }
 },
 "nbformat": 4,
 "nbformat_minor": 2
}
