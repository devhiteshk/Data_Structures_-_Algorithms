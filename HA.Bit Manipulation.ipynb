{
 "cells": [
  {
   "attachments": {},
   "cell_type": "markdown",
   "metadata": {},
   "source": [
    "### Bit Manipulation\n",
    "\n",
    "Given a 32 bit unsigned integer num and an integer i. Perform following operations on the number - \n",
    "\n",
    "1. Get ith bit\n",
    "\n",
    "2. Set ith bit\n",
    "\n",
    "3. Clear ith bit\n",
    "\n",
    "Note : For better understanding, we are starting bits from 1 instead 0. (1-based)\n",
    "\n",
    "```py\n",
    "Example 1:\n",
    "\n",
    "Input: 70 3\n",
    "Output: 1 70 66\n",
    "Explanation: Bit at the 3rd position from LSB is 0. (1 0 0 0 1 1 0)\n",
    "The value of the given number after setting the 3rd bit is 70. \n",
    "The value of the given number after clearing 3rd bit is 66. (1 0 0 0 0 1 0)\n",
    "Example 2:\n",
    "\n",
    "Input: 8 1\n",
    "Output: 0 9 8\n",
    "Explanation: Bit at the first position from LSB is 0. (1 0 0 0)\n",
    "The value of the given number after setting the 3rd bit is 9. (1 0 0 1)\n",
    "The value of the given number after clearing 3rd bit is 66. (1 0 0 0)\n",
    "```"
   ]
  },
  {
   "cell_type": "code",
   "execution_count": 20,
   "metadata": {},
   "outputs": [
    {
     "name": "stdout",
     "output_type": "stream",
     "text": [
      "1 70 66 "
     ]
    }
   ],
   "source": [
    "def get(n,i):\n",
    "        i=i-1;\n",
    "        mask=1<<i;\n",
    "        if n&mask:return 1;\n",
    "        return 0;\n",
    "        \n",
    "def set(n,i):\n",
    "        i=i-1;\n",
    "        mask=1<<i;\n",
    "        if n&mask:return n;\n",
    "        return n^mask;\n",
    "        \n",
    "def clear(n,i):\n",
    "        i=i-1;\n",
    "        mask=1<<i;\n",
    "        if n&mask:return n^mask;\n",
    "        return n;\n",
    "        \n",
    "        \n",
    "def bitManipulation(n, i):\n",
    "        res1=get(n,i);\n",
    "        res2=set(n,i);\n",
    "        res3=clear(n,i);\n",
    "        print(res1,end=\" \");\n",
    "        print(res2,end=\" \");\n",
    "        print(res3,end=\" \") \n",
    "\n",
    "bitManipulation(70,3)"
   ]
  },
  {
   "attachments": {},
   "cell_type": "markdown",
   "metadata": {},
   "source": [
    "#### 2. Check whether K-th bit is set or not\n",
    "\n",
    "Given a number N and a bit number K, check if Kth bit of N is set or not. A bit is called set if it is 1. Position of set bit '1' should be indexed starting with 0 from LSB side in binary representation of the number.\n",
    "```py\n",
    "Example 1:\n",
    "\n",
    "Input: N = 4, K = 0\n",
    "Output: No\n",
    "Explanation: Binary representation of 4 is 100, \n",
    "in which 0th bit from LSB is not set. \n",
    "So, return false.\n",
    "Example 2:\n",
    "\n",
    "Input: N = 4, K = 2\n",
    "Output: Yes\n",
    "Explanation: Binary representation of 4 is 100, \n",
    "in which 2nd bit from LSB is set. \n",
    "So, return true.\n",
    "Example 3:\n",
    "\n",
    "Input: N = 500, K = 3\n",
    "Output: No\n",
    "Explanation: Binary representation of 500 is \n",
    "111110100, in which 3rd bit from LSB is not set. \n",
    "So, return false.\n",
    "```"
   ]
  },
  {
   "cell_type": "code",
   "execution_count": 23,
   "metadata": {},
   "outputs": [
    {
     "data": {
      "text/plain": [
       "0"
      ]
     },
     "execution_count": 23,
     "metadata": {},
     "output_type": "execute_result"
    }
   ],
   "source": [
    "def Kthset(n,k):\n",
    "\n",
    "    mask = 1<<k | n\n",
    "    if n == mask: return 1\n",
    "    return 0\n",
    "\n",
    "Kthset(70,3)"
   ]
  },
  {
   "attachments": {},
   "cell_type": "markdown",
   "metadata": {},
   "source": [
    "#### 3. Odd or Even\n",
    "\n",
    "Given a positive integer N, determine whether it is odd or even.\n",
    "```py\n",
    "Example 1:\n",
    "\n",
    "Input:\n",
    "N = 1\n",
    "Output:\n",
    "odd\n",
    "Explanation:\n",
    "The output is self-\n",
    "explanatory.\n",
    "\n",
    "Example 2:\n",
    "\n",
    "Input:\n",
    "N = 2\n",
    "Output:\n",
    "even\n",
    "Explanation:\n",
    "The output is self-\n",
    "explanatory.\n",
    "\n",
    "Your Task:\n",
    "\n",
    "You don't need to read input or print anything. Your task is to complete the function oddEven() which takes the integer N and return \"even\" is number is even and \"odd\" if the number is odd.\n",
    "```"
   ]
  },
  {
   "cell_type": "code",
   "execution_count": 36,
   "metadata": {},
   "outputs": [
    {
     "data": {
      "text/plain": [
       "'ODD'"
      ]
     },
     "execution_count": 36,
     "metadata": {},
     "output_type": "execute_result"
    }
   ],
   "source": [
    "def odd_Or_even(n):\n",
    "    if (n&1 == 1):\n",
    "        return \"ODD\"\n",
    "    else:\n",
    "        return \"EVEN\"\n",
    "\n",
    "odd_Or_even(13)"
   ]
  },
  {
   "attachments": {},
   "cell_type": "markdown",
   "metadata": {},
   "source": [
    "#### 4. power of 2\n",
    "\n",
    "Given a non-negative integer N. The task is to check if N is a power of 2. More formally, check if N can be expressed as 2x for some x.\n",
    "```py\n",
    "Example 1:\n",
    "\n",
    "Input: N = 1\n",
    "Output: YES\n",
    "Explanation:1 is equal to 2 \n",
    "raised to 0 (20 = 1).\n",
    "Example 2:\n",
    "\n",
    "Input: N = 98\n",
    "Output: NO\n",
    "Explanation: 98 cannot be obtained\n",
    "by any power of 2.\n",
    "```"
   ]
  },
  {
   "cell_type": "code",
   "execution_count": 52,
   "metadata": {},
   "outputs": [
    {
     "name": "stdout",
     "output_type": "stream",
     "text": [
      "YES\n"
     ]
    }
   ],
   "source": [
    "n = 8 # power of 2\n",
    "\n",
    "if n&(n-1) == 0:\n",
    "    print(\"YES\")\n",
    "else:\n",
    "    print(\"NO\")\n"
   ]
  },
  {
   "attachments": {},
   "cell_type": "markdown",
   "metadata": {},
   "source": [
    "#### 5. Count total set bits\n",
    "\n",
    "You are given a number N. Find the total count of set bits for all numbers from 1 to N(both inclusive).\n",
    "```py\n",
    "Example 1:\n",
    "\n",
    "Input: N = 4\n",
    "Output: 5\n",
    "Explanation:\n",
    "For numbers from 1 to 4.\n",
    "For 1: 0 0 1 = 1 set bits\n",
    "For 2: 0 1 0 = 1 set bits\n",
    "For 3: 0 1 1 = 2 set bits\n",
    "For 4: 1 0 0 = 1 set bits\n",
    "Therefore, the total set bits is 5.\n",
    "Example 2:\n",
    "\n",
    "Input: N = 17\n",
    "Output: 35\n",
    "Explanation: From numbers 1 to 17(both inclusive), \n",
    "the total number of set bits is 35.\n",
    "```"
   ]
  },
  {
   "cell_type": "code",
   "execution_count": 62,
   "metadata": {},
   "outputs": [
    {
     "data": {
      "text/plain": [
       "75"
      ]
     },
     "execution_count": 62,
     "metadata": {},
     "output_type": "execute_result"
    }
   ],
   "source": [
    "# O(n^log(n)) TLE BF approach\n",
    "def countSetbits(n):\n",
    "    count = 0\n",
    "    for i in range(n):\n",
    "        x = i\n",
    "        while(x):\n",
    "            count += x & 1\n",
    "            x >>= 1\n",
    "    return count\n",
    "\n",
    "\n",
    "import math\n",
    "\n",
    "# Optimized Approach O(nlogn) \n",
    "def countSetbitsOP(n):\n",
    "    count=0\n",
    "    while(n>0):\n",
    "        i = int(math.log10(n)/math.log10(2))\n",
    "        count += math.pow(2, i-1)*i\n",
    "        count += n-math.pow(2, i)+1\n",
    "        n-= math.pow(2, i)\n",
    "    \n",
    "    return int(count)\n",
    "    \n",
    "countSetbitsOP(30)"
   ]
  }
 ],
 "metadata": {
  "kernelspec": {
   "display_name": "Python 3",
   "language": "python",
   "name": "python3"
  },
  "language_info": {
   "codemirror_mode": {
    "name": "ipython",
    "version": 3
   },
   "file_extension": ".py",
   "mimetype": "text/x-python",
   "name": "python",
   "nbconvert_exporter": "python",
   "pygments_lexer": "ipython3",
   "version": "3.10.7"
  },
  "orig_nbformat": 4,
  "vscode": {
   "interpreter": {
    "hash": "369f2c481f4da34e4445cda3fffd2e751bd1c4d706f27375911949ba6bb62e1c"
   }
  }
 },
 "nbformat": 4,
 "nbformat_minor": 2
}
